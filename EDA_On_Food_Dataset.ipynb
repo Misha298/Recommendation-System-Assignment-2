{
 "cells": [
  {
   "cell_type": "code",
   "execution_count": 1,
   "id": "26994c3d",
   "metadata": {
    "_cell_guid": "b1076dfc-b9ad-4769-8c92-a6c4dae69d19",
    "_uuid": "8f2839f25d086af736a60e9eeb907d3b93b6e0e5",
    "execution": {
     "iopub.execute_input": "2023-03-07T17:38:26.694874Z",
     "iopub.status.busy": "2023-03-07T17:38:26.694189Z",
     "iopub.status.idle": "2023-03-07T17:38:26.711406Z",
     "shell.execute_reply": "2023-03-07T17:38:26.710579Z"
    },
    "papermill": {
     "duration": 0.038171,
     "end_time": "2023-03-07T17:38:26.713750",
     "exception": false,
     "start_time": "2023-03-07T17:38:26.675579",
     "status": "completed"
    },
    "tags": []
   },
   "outputs": [
    {
     "name": "stdout",
     "output_type": "stream",
     "text": [
      "/kaggle/input/food-com-recipes-and-user-interactions/RAW_interactions.csv\n",
      "/kaggle/input/food-com-recipes-and-user-interactions/ingr_map.pkl\n",
      "/kaggle/input/food-com-recipes-and-user-interactions/PP_recipes.csv\n",
      "/kaggle/input/food-com-recipes-and-user-interactions/RAW_recipes.csv\n",
      "/kaggle/input/food-com-recipes-and-user-interactions/interactions_train.csv\n",
      "/kaggle/input/food-com-recipes-and-user-interactions/interactions_test.csv\n",
      "/kaggle/input/food-com-recipes-and-user-interactions/PP_users.csv\n",
      "/kaggle/input/food-com-recipes-and-user-interactions/interactions_validation.csv\n"
     ]
    }
   ],
   "source": [
    "# This Python 3 environment comes with many helpful analytics libraries installed\n",
    "# It is defined by the kaggle/python Docker image: https://github.com/kaggle/docker-python\n",
    "# For example, here's several helpful packages to load\n",
    "\n",
    "import numpy as np # linear algebra\n",
    "import pandas as pd # data processing, CSV file I/O (e.g. pd.read_csv)\n",
    "\n",
    "# Input data files are available in the read-only \"../input/\" directory\n",
    "# For example, running this (by clicking run or pressing Shift+Enter) will list all files under the input directory\n",
    "\n",
    "import os\n",
    "for dirname, _, filenames in os.walk('/kaggle/input'):\n",
    "    for filename in filenames:\n",
    "        print(os.path.join(dirname, filename))\n",
    "\n",
    "# You can write up to 20GB to the current directory (/kaggle/working/) that gets preserved as output when you create a version using \"Save & Run All\" \n",
    "# You can also write temporary files to /kaggle/temp/, but they won't be saved outside of the current session"
   ]
  },
  {
   "cell_type": "code",
   "execution_count": 2,
   "id": "4daa93b7",
   "metadata": {
    "execution": {
     "iopub.execute_input": "2023-03-07T17:38:26.744222Z",
     "iopub.status.busy": "2023-03-07T17:38:26.743741Z",
     "iopub.status.idle": "2023-03-07T17:38:35.498559Z",
     "shell.execute_reply": "2023-03-07T17:38:35.497599Z"
    },
    "papermill": {
     "duration": 8.772555,
     "end_time": "2023-03-07T17:38:35.501007",
     "exception": false,
     "start_time": "2023-03-07T17:38:26.728452",
     "status": "completed"
    },
    "tags": []
   },
   "outputs": [
    {
     "data": {
      "text/html": [
       "<div>\n",
       "<style scoped>\n",
       "    .dataframe tbody tr th:only-of-type {\n",
       "        vertical-align: middle;\n",
       "    }\n",
       "\n",
       "    .dataframe tbody tr th {\n",
       "        vertical-align: top;\n",
       "    }\n",
       "\n",
       "    .dataframe thead th {\n",
       "        text-align: right;\n",
       "    }\n",
       "</style>\n",
       "<table border=\"1\" class=\"dataframe\">\n",
       "  <thead>\n",
       "    <tr style=\"text-align: right;\">\n",
       "      <th></th>\n",
       "      <th>user_id</th>\n",
       "      <th>recipe_id</th>\n",
       "      <th>date</th>\n",
       "      <th>rating</th>\n",
       "      <th>review</th>\n",
       "    </tr>\n",
       "  </thead>\n",
       "  <tbody>\n",
       "    <tr>\n",
       "      <th>0</th>\n",
       "      <td>38094</td>\n",
       "      <td>40893</td>\n",
       "      <td>2003-02-17</td>\n",
       "      <td>4</td>\n",
       "      <td>Great with a salad. Cooked on top of stove for...</td>\n",
       "    </tr>\n",
       "    <tr>\n",
       "      <th>1</th>\n",
       "      <td>1293707</td>\n",
       "      <td>40893</td>\n",
       "      <td>2011-12-21</td>\n",
       "      <td>5</td>\n",
       "      <td>So simple, so delicious! Great for chilly fall...</td>\n",
       "    </tr>\n",
       "    <tr>\n",
       "      <th>2</th>\n",
       "      <td>8937</td>\n",
       "      <td>44394</td>\n",
       "      <td>2002-12-01</td>\n",
       "      <td>4</td>\n",
       "      <td>This worked very well and is EASY.  I used not...</td>\n",
       "    </tr>\n",
       "    <tr>\n",
       "      <th>3</th>\n",
       "      <td>126440</td>\n",
       "      <td>85009</td>\n",
       "      <td>2010-02-27</td>\n",
       "      <td>5</td>\n",
       "      <td>I made the Mexican topping and took it to bunk...</td>\n",
       "    </tr>\n",
       "    <tr>\n",
       "      <th>4</th>\n",
       "      <td>57222</td>\n",
       "      <td>85009</td>\n",
       "      <td>2011-10-01</td>\n",
       "      <td>5</td>\n",
       "      <td>Made the cheddar bacon topping, adding a sprin...</td>\n",
       "    </tr>\n",
       "    <tr>\n",
       "      <th>...</th>\n",
       "      <td>...</td>\n",
       "      <td>...</td>\n",
       "      <td>...</td>\n",
       "      <td>...</td>\n",
       "      <td>...</td>\n",
       "    </tr>\n",
       "    <tr>\n",
       "      <th>1132362</th>\n",
       "      <td>116593</td>\n",
       "      <td>72730</td>\n",
       "      <td>2003-12-09</td>\n",
       "      <td>0</td>\n",
       "      <td>Another approach is to start making sauce with...</td>\n",
       "    </tr>\n",
       "    <tr>\n",
       "      <th>1132363</th>\n",
       "      <td>583662</td>\n",
       "      <td>386618</td>\n",
       "      <td>2009-09-29</td>\n",
       "      <td>5</td>\n",
       "      <td>These were so delicious!  My husband and I tru...</td>\n",
       "    </tr>\n",
       "    <tr>\n",
       "      <th>1132364</th>\n",
       "      <td>157126</td>\n",
       "      <td>78003</td>\n",
       "      <td>2008-06-23</td>\n",
       "      <td>5</td>\n",
       "      <td>WOW!  Sometimes I don't take the time to rate ...</td>\n",
       "    </tr>\n",
       "    <tr>\n",
       "      <th>1132365</th>\n",
       "      <td>53932</td>\n",
       "      <td>78003</td>\n",
       "      <td>2009-01-11</td>\n",
       "      <td>4</td>\n",
       "      <td>Very good!  I used regular port as well.  The ...</td>\n",
       "    </tr>\n",
       "    <tr>\n",
       "      <th>1132366</th>\n",
       "      <td>2001868099</td>\n",
       "      <td>78003</td>\n",
       "      <td>2017-12-18</td>\n",
       "      <td>5</td>\n",
       "      <td>I am so glad I googled and found this here. Th...</td>\n",
       "    </tr>\n",
       "  </tbody>\n",
       "</table>\n",
       "<p>1132367 rows × 5 columns</p>\n",
       "</div>"
      ],
      "text/plain": [
       "            user_id  recipe_id        date  rating  \\\n",
       "0             38094      40893  2003-02-17       4   \n",
       "1           1293707      40893  2011-12-21       5   \n",
       "2              8937      44394  2002-12-01       4   \n",
       "3            126440      85009  2010-02-27       5   \n",
       "4             57222      85009  2011-10-01       5   \n",
       "...             ...        ...         ...     ...   \n",
       "1132362      116593      72730  2003-12-09       0   \n",
       "1132363      583662     386618  2009-09-29       5   \n",
       "1132364      157126      78003  2008-06-23       5   \n",
       "1132365       53932      78003  2009-01-11       4   \n",
       "1132366  2001868099      78003  2017-12-18       5   \n",
       "\n",
       "                                                    review  \n",
       "0        Great with a salad. Cooked on top of stove for...  \n",
       "1        So simple, so delicious! Great for chilly fall...  \n",
       "2        This worked very well and is EASY.  I used not...  \n",
       "3        I made the Mexican topping and took it to bunk...  \n",
       "4        Made the cheddar bacon topping, adding a sprin...  \n",
       "...                                                    ...  \n",
       "1132362  Another approach is to start making sauce with...  \n",
       "1132363  These were so delicious!  My husband and I tru...  \n",
       "1132364  WOW!  Sometimes I don't take the time to rate ...  \n",
       "1132365  Very good!  I used regular port as well.  The ...  \n",
       "1132366  I am so glad I googled and found this here. Th...  \n",
       "\n",
       "[1132367 rows x 5 columns]"
      ]
     },
     "execution_count": 2,
     "metadata": {},
     "output_type": "execute_result"
    }
   ],
   "source": [
    "interactions = pd.read_csv(\"/kaggle/input/food-com-recipes-and-user-interactions/RAW_interactions.csv\")\n",
    "interactions"
   ]
  },
  {
   "cell_type": "code",
   "execution_count": 3,
   "id": "ab4ad559",
   "metadata": {
    "execution": {
     "iopub.execute_input": "2023-03-07T17:38:35.532137Z",
     "iopub.status.busy": "2023-03-07T17:38:35.531610Z",
     "iopub.status.idle": "2023-03-07T17:38:42.318914Z",
     "shell.execute_reply": "2023-03-07T17:38:42.317839Z"
    },
    "papermill": {
     "duration": 6.805252,
     "end_time": "2023-03-07T17:38:42.320985",
     "exception": false,
     "start_time": "2023-03-07T17:38:35.515733",
     "status": "completed"
    },
    "tags": []
   },
   "outputs": [
    {
     "data": {
      "text/html": [
       "<div>\n",
       "<style scoped>\n",
       "    .dataframe tbody tr th:only-of-type {\n",
       "        vertical-align: middle;\n",
       "    }\n",
       "\n",
       "    .dataframe tbody tr th {\n",
       "        vertical-align: top;\n",
       "    }\n",
       "\n",
       "    .dataframe thead th {\n",
       "        text-align: right;\n",
       "    }\n",
       "</style>\n",
       "<table border=\"1\" class=\"dataframe\">\n",
       "  <thead>\n",
       "    <tr style=\"text-align: right;\">\n",
       "      <th></th>\n",
       "      <th>name</th>\n",
       "      <th>id</th>\n",
       "      <th>minutes</th>\n",
       "      <th>contributor_id</th>\n",
       "      <th>submitted</th>\n",
       "      <th>tags</th>\n",
       "      <th>nutrition</th>\n",
       "      <th>n_steps</th>\n",
       "      <th>steps</th>\n",
       "      <th>description</th>\n",
       "      <th>ingredients</th>\n",
       "      <th>n_ingredients</th>\n",
       "    </tr>\n",
       "  </thead>\n",
       "  <tbody>\n",
       "    <tr>\n",
       "      <th>0</th>\n",
       "      <td>arriba   baked winter squash mexican style</td>\n",
       "      <td>137739</td>\n",
       "      <td>55</td>\n",
       "      <td>47892</td>\n",
       "      <td>2005-09-16</td>\n",
       "      <td>['60-minutes-or-less', 'time-to-make', 'course...</td>\n",
       "      <td>[51.5, 0.0, 13.0, 0.0, 2.0, 0.0, 4.0]</td>\n",
       "      <td>11</td>\n",
       "      <td>['make a choice and proceed with recipe', 'dep...</td>\n",
       "      <td>autumn is my favorite time of year to cook! th...</td>\n",
       "      <td>['winter squash', 'mexican seasoning', 'mixed ...</td>\n",
       "      <td>7</td>\n",
       "    </tr>\n",
       "    <tr>\n",
       "      <th>1</th>\n",
       "      <td>a bit different  breakfast pizza</td>\n",
       "      <td>31490</td>\n",
       "      <td>30</td>\n",
       "      <td>26278</td>\n",
       "      <td>2002-06-17</td>\n",
       "      <td>['30-minutes-or-less', 'time-to-make', 'course...</td>\n",
       "      <td>[173.4, 18.0, 0.0, 17.0, 22.0, 35.0, 1.0]</td>\n",
       "      <td>9</td>\n",
       "      <td>['preheat oven to 425 degrees f', 'press dough...</td>\n",
       "      <td>this recipe calls for the crust to be prebaked...</td>\n",
       "      <td>['prepared pizza crust', 'sausage patty', 'egg...</td>\n",
       "      <td>6</td>\n",
       "    </tr>\n",
       "    <tr>\n",
       "      <th>2</th>\n",
       "      <td>all in the kitchen  chili</td>\n",
       "      <td>112140</td>\n",
       "      <td>130</td>\n",
       "      <td>196586</td>\n",
       "      <td>2005-02-25</td>\n",
       "      <td>['time-to-make', 'course', 'preparation', 'mai...</td>\n",
       "      <td>[269.8, 22.0, 32.0, 48.0, 39.0, 27.0, 5.0]</td>\n",
       "      <td>6</td>\n",
       "      <td>['brown ground beef in large pot', 'add choppe...</td>\n",
       "      <td>this modified version of 'mom's' chili was a h...</td>\n",
       "      <td>['ground beef', 'yellow onions', 'diced tomato...</td>\n",
       "      <td>13</td>\n",
       "    </tr>\n",
       "    <tr>\n",
       "      <th>3</th>\n",
       "      <td>alouette  potatoes</td>\n",
       "      <td>59389</td>\n",
       "      <td>45</td>\n",
       "      <td>68585</td>\n",
       "      <td>2003-04-14</td>\n",
       "      <td>['60-minutes-or-less', 'time-to-make', 'course...</td>\n",
       "      <td>[368.1, 17.0, 10.0, 2.0, 14.0, 8.0, 20.0]</td>\n",
       "      <td>11</td>\n",
       "      <td>['place potatoes in a large pot of lightly sal...</td>\n",
       "      <td>this is a super easy, great tasting, make ahea...</td>\n",
       "      <td>['spreadable cheese with garlic and herbs', 'n...</td>\n",
       "      <td>11</td>\n",
       "    </tr>\n",
       "    <tr>\n",
       "      <th>4</th>\n",
       "      <td>amish  tomato ketchup  for canning</td>\n",
       "      <td>44061</td>\n",
       "      <td>190</td>\n",
       "      <td>41706</td>\n",
       "      <td>2002-10-25</td>\n",
       "      <td>['weeknight', 'time-to-make', 'course', 'main-...</td>\n",
       "      <td>[352.9, 1.0, 337.0, 23.0, 3.0, 0.0, 28.0]</td>\n",
       "      <td>5</td>\n",
       "      <td>['mix all ingredients&amp; boil for 2 1 / 2 hours ...</td>\n",
       "      <td>my dh's amish mother raised him on this recipe...</td>\n",
       "      <td>['tomato juice', 'apple cider vinegar', 'sugar...</td>\n",
       "      <td>8</td>\n",
       "    </tr>\n",
       "    <tr>\n",
       "      <th>...</th>\n",
       "      <td>...</td>\n",
       "      <td>...</td>\n",
       "      <td>...</td>\n",
       "      <td>...</td>\n",
       "      <td>...</td>\n",
       "      <td>...</td>\n",
       "      <td>...</td>\n",
       "      <td>...</td>\n",
       "      <td>...</td>\n",
       "      <td>...</td>\n",
       "      <td>...</td>\n",
       "      <td>...</td>\n",
       "    </tr>\n",
       "    <tr>\n",
       "      <th>231632</th>\n",
       "      <td>zydeco soup</td>\n",
       "      <td>486161</td>\n",
       "      <td>60</td>\n",
       "      <td>227978</td>\n",
       "      <td>2012-08-29</td>\n",
       "      <td>['ham', '60-minutes-or-less', 'time-to-make', ...</td>\n",
       "      <td>[415.2, 26.0, 34.0, 26.0, 44.0, 21.0, 15.0]</td>\n",
       "      <td>7</td>\n",
       "      <td>['heat oil in a 4-quart dutch oven', 'add cele...</td>\n",
       "      <td>this is a delicious soup that i originally fou...</td>\n",
       "      <td>['celery', 'onion', 'green sweet pepper', 'gar...</td>\n",
       "      <td>22</td>\n",
       "    </tr>\n",
       "    <tr>\n",
       "      <th>231633</th>\n",
       "      <td>zydeco spice mix</td>\n",
       "      <td>493372</td>\n",
       "      <td>5</td>\n",
       "      <td>1500678</td>\n",
       "      <td>2013-01-09</td>\n",
       "      <td>['15-minutes-or-less', 'time-to-make', 'course...</td>\n",
       "      <td>[14.8, 0.0, 2.0, 58.0, 1.0, 0.0, 1.0]</td>\n",
       "      <td>1</td>\n",
       "      <td>['mix all ingredients together thoroughly']</td>\n",
       "      <td>this spice mix will make your taste buds dance!</td>\n",
       "      <td>['paprika', 'salt', 'garlic powder', 'onion po...</td>\n",
       "      <td>13</td>\n",
       "    </tr>\n",
       "    <tr>\n",
       "      <th>231634</th>\n",
       "      <td>zydeco ya ya deviled eggs</td>\n",
       "      <td>308080</td>\n",
       "      <td>40</td>\n",
       "      <td>37779</td>\n",
       "      <td>2008-06-07</td>\n",
       "      <td>['60-minutes-or-less', 'time-to-make', 'course...</td>\n",
       "      <td>[59.2, 6.0, 2.0, 3.0, 6.0, 5.0, 0.0]</td>\n",
       "      <td>7</td>\n",
       "      <td>['in a bowl , combine the mashed yolks and may...</td>\n",
       "      <td>deviled eggs, cajun-style</td>\n",
       "      <td>['hard-cooked eggs', 'mayonnaise', 'dijon must...</td>\n",
       "      <td>8</td>\n",
       "    </tr>\n",
       "    <tr>\n",
       "      <th>231635</th>\n",
       "      <td>cookies by design   cookies on a stick</td>\n",
       "      <td>298512</td>\n",
       "      <td>29</td>\n",
       "      <td>506822</td>\n",
       "      <td>2008-04-15</td>\n",
       "      <td>['30-minutes-or-less', 'time-to-make', 'course...</td>\n",
       "      <td>[188.0, 11.0, 57.0, 11.0, 7.0, 21.0, 9.0]</td>\n",
       "      <td>9</td>\n",
       "      <td>['place melted butter in a large mixing bowl a...</td>\n",
       "      <td>i've heard of the 'cookies by design' company,...</td>\n",
       "      <td>['butter', 'eagle brand condensed milk', 'ligh...</td>\n",
       "      <td>10</td>\n",
       "    </tr>\n",
       "    <tr>\n",
       "      <th>231636</th>\n",
       "      <td>cookies by design   sugar shortbread cookies</td>\n",
       "      <td>298509</td>\n",
       "      <td>20</td>\n",
       "      <td>506822</td>\n",
       "      <td>2008-04-15</td>\n",
       "      <td>['30-minutes-or-less', 'time-to-make', 'course...</td>\n",
       "      <td>[174.9, 14.0, 33.0, 4.0, 4.0, 11.0, 6.0]</td>\n",
       "      <td>5</td>\n",
       "      <td>['whip sugar and shortening in a large bowl , ...</td>\n",
       "      <td>i've heard of the 'cookies by design' company,...</td>\n",
       "      <td>['granulated sugar', 'shortening', 'eggs', 'fl...</td>\n",
       "      <td>7</td>\n",
       "    </tr>\n",
       "  </tbody>\n",
       "</table>\n",
       "<p>231637 rows × 12 columns</p>\n",
       "</div>"
      ],
      "text/plain": [
       "                                                name      id  minutes  \\\n",
       "0         arriba   baked winter squash mexican style  137739       55   \n",
       "1                   a bit different  breakfast pizza   31490       30   \n",
       "2                          all in the kitchen  chili  112140      130   \n",
       "3                                 alouette  potatoes   59389       45   \n",
       "4                 amish  tomato ketchup  for canning   44061      190   \n",
       "...                                              ...     ...      ...   \n",
       "231632                                   zydeco soup  486161       60   \n",
       "231633                              zydeco spice mix  493372        5   \n",
       "231634                     zydeco ya ya deviled eggs  308080       40   \n",
       "231635        cookies by design   cookies on a stick  298512       29   \n",
       "231636  cookies by design   sugar shortbread cookies  298509       20   \n",
       "\n",
       "        contributor_id   submitted  \\\n",
       "0                47892  2005-09-16   \n",
       "1                26278  2002-06-17   \n",
       "2               196586  2005-02-25   \n",
       "3                68585  2003-04-14   \n",
       "4                41706  2002-10-25   \n",
       "...                ...         ...   \n",
       "231632          227978  2012-08-29   \n",
       "231633         1500678  2013-01-09   \n",
       "231634           37779  2008-06-07   \n",
       "231635          506822  2008-04-15   \n",
       "231636          506822  2008-04-15   \n",
       "\n",
       "                                                     tags  \\\n",
       "0       ['60-minutes-or-less', 'time-to-make', 'course...   \n",
       "1       ['30-minutes-or-less', 'time-to-make', 'course...   \n",
       "2       ['time-to-make', 'course', 'preparation', 'mai...   \n",
       "3       ['60-minutes-or-less', 'time-to-make', 'course...   \n",
       "4       ['weeknight', 'time-to-make', 'course', 'main-...   \n",
       "...                                                   ...   \n",
       "231632  ['ham', '60-minutes-or-less', 'time-to-make', ...   \n",
       "231633  ['15-minutes-or-less', 'time-to-make', 'course...   \n",
       "231634  ['60-minutes-or-less', 'time-to-make', 'course...   \n",
       "231635  ['30-minutes-or-less', 'time-to-make', 'course...   \n",
       "231636  ['30-minutes-or-less', 'time-to-make', 'course...   \n",
       "\n",
       "                                          nutrition  n_steps  \\\n",
       "0             [51.5, 0.0, 13.0, 0.0, 2.0, 0.0, 4.0]       11   \n",
       "1         [173.4, 18.0, 0.0, 17.0, 22.0, 35.0, 1.0]        9   \n",
       "2        [269.8, 22.0, 32.0, 48.0, 39.0, 27.0, 5.0]        6   \n",
       "3         [368.1, 17.0, 10.0, 2.0, 14.0, 8.0, 20.0]       11   \n",
       "4         [352.9, 1.0, 337.0, 23.0, 3.0, 0.0, 28.0]        5   \n",
       "...                                             ...      ...   \n",
       "231632  [415.2, 26.0, 34.0, 26.0, 44.0, 21.0, 15.0]        7   \n",
       "231633        [14.8, 0.0, 2.0, 58.0, 1.0, 0.0, 1.0]        1   \n",
       "231634         [59.2, 6.0, 2.0, 3.0, 6.0, 5.0, 0.0]        7   \n",
       "231635    [188.0, 11.0, 57.0, 11.0, 7.0, 21.0, 9.0]        9   \n",
       "231636     [174.9, 14.0, 33.0, 4.0, 4.0, 11.0, 6.0]        5   \n",
       "\n",
       "                                                    steps  \\\n",
       "0       ['make a choice and proceed with recipe', 'dep...   \n",
       "1       ['preheat oven to 425 degrees f', 'press dough...   \n",
       "2       ['brown ground beef in large pot', 'add choppe...   \n",
       "3       ['place potatoes in a large pot of lightly sal...   \n",
       "4       ['mix all ingredients& boil for 2 1 / 2 hours ...   \n",
       "...                                                   ...   \n",
       "231632  ['heat oil in a 4-quart dutch oven', 'add cele...   \n",
       "231633        ['mix all ingredients together thoroughly']   \n",
       "231634  ['in a bowl , combine the mashed yolks and may...   \n",
       "231635  ['place melted butter in a large mixing bowl a...   \n",
       "231636  ['whip sugar and shortening in a large bowl , ...   \n",
       "\n",
       "                                              description  \\\n",
       "0       autumn is my favorite time of year to cook! th...   \n",
       "1       this recipe calls for the crust to be prebaked...   \n",
       "2       this modified version of 'mom's' chili was a h...   \n",
       "3       this is a super easy, great tasting, make ahea...   \n",
       "4       my dh's amish mother raised him on this recipe...   \n",
       "...                                                   ...   \n",
       "231632  this is a delicious soup that i originally fou...   \n",
       "231633    this spice mix will make your taste buds dance!   \n",
       "231634                          deviled eggs, cajun-style   \n",
       "231635  i've heard of the 'cookies by design' company,...   \n",
       "231636  i've heard of the 'cookies by design' company,...   \n",
       "\n",
       "                                              ingredients  n_ingredients  \n",
       "0       ['winter squash', 'mexican seasoning', 'mixed ...              7  \n",
       "1       ['prepared pizza crust', 'sausage patty', 'egg...              6  \n",
       "2       ['ground beef', 'yellow onions', 'diced tomato...             13  \n",
       "3       ['spreadable cheese with garlic and herbs', 'n...             11  \n",
       "4       ['tomato juice', 'apple cider vinegar', 'sugar...              8  \n",
       "...                                                   ...            ...  \n",
       "231632  ['celery', 'onion', 'green sweet pepper', 'gar...             22  \n",
       "231633  ['paprika', 'salt', 'garlic powder', 'onion po...             13  \n",
       "231634  ['hard-cooked eggs', 'mayonnaise', 'dijon must...              8  \n",
       "231635  ['butter', 'eagle brand condensed milk', 'ligh...             10  \n",
       "231636  ['granulated sugar', 'shortening', 'eggs', 'fl...              7  \n",
       "\n",
       "[231637 rows x 12 columns]"
      ]
     },
     "execution_count": 3,
     "metadata": {},
     "output_type": "execute_result"
    }
   ],
   "source": [
    "recipes = pd.read_csv(\"/kaggle/input/food-com-recipes-and-user-interactions/RAW_recipes.csv\")\n",
    "recipes"
   ]
  },
  {
   "cell_type": "markdown",
   "id": "22b483fc",
   "metadata": {
    "papermill": {
     "duration": 0.014297,
     "end_time": "2023-03-07T17:38:42.349965",
     "exception": false,
     "start_time": "2023-03-07T17:38:42.335668",
     "status": "completed"
    },
    "tags": []
   },
   "source": [
    "## Marge Interations data with the original Recipes data on column \"id\""
   ]
  },
  {
   "cell_type": "code",
   "execution_count": 4,
   "id": "aec4090b",
   "metadata": {
    "execution": {
     "iopub.execute_input": "2023-03-07T17:38:42.380015Z",
     "iopub.status.busy": "2023-03-07T17:38:42.379015Z",
     "iopub.status.idle": "2023-03-07T17:38:44.211445Z",
     "shell.execute_reply": "2023-03-07T17:38:44.210535Z"
    },
    "papermill": {
     "duration": 1.850359,
     "end_time": "2023-03-07T17:38:44.214349",
     "exception": false,
     "start_time": "2023-03-07T17:38:42.363990",
     "status": "completed"
    },
    "tags": []
   },
   "outputs": [
    {
     "name": "stdout",
     "output_type": "stream",
     "text": [
      "<class 'pandas.core.frame.DataFrame'>\n",
      "Int64Index: 1132367 entries, 0 to 1132366\n",
      "Data columns (total 17 columns):\n",
      " #   Column          Non-Null Count    Dtype \n",
      "---  ------          --------------    ----- \n",
      " 0   name            1132366 non-null  object\n",
      " 1   id              1132367 non-null  int64 \n",
      " 2   minutes         1132367 non-null  int64 \n",
      " 3   contributor_id  1132367 non-null  int64 \n",
      " 4   submitted       1132367 non-null  object\n",
      " 5   tags            1132367 non-null  object\n",
      " 6   nutrition       1132367 non-null  object\n",
      " 7   n_steps         1132367 non-null  int64 \n",
      " 8   steps           1132367 non-null  object\n",
      " 9   description     1108857 non-null  object\n",
      " 10  ingredients     1132367 non-null  object\n",
      " 11  n_ingredients   1132367 non-null  int64 \n",
      " 12  user_id         1132367 non-null  int64 \n",
      " 13  recipe_id       1132367 non-null  int64 \n",
      " 14  date            1132367 non-null  object\n",
      " 15  rating          1132367 non-null  int64 \n",
      " 16  review          1132198 non-null  object\n",
      "dtypes: int64(8), object(9)\n",
      "memory usage: 155.5+ MB\n"
     ]
    }
   ],
   "source": [
    "df = pd.merge(recipes,interactions, how=\"outer\", left_on = 'id', right_on= 'recipe_id')\n",
    "df.info()"
   ]
  },
  {
   "cell_type": "code",
   "execution_count": 5,
   "id": "ef9965e5",
   "metadata": {
    "execution": {
     "iopub.execute_input": "2023-03-07T17:38:44.247869Z",
     "iopub.status.busy": "2023-03-07T17:38:44.247513Z",
     "iopub.status.idle": "2023-03-07T17:38:44.265143Z",
     "shell.execute_reply": "2023-03-07T17:38:44.264248Z"
    },
    "papermill": {
     "duration": 0.036367,
     "end_time": "2023-03-07T17:38:44.267314",
     "exception": false,
     "start_time": "2023-03-07T17:38:44.230947",
     "status": "completed"
    },
    "tags": []
   },
   "outputs": [
    {
     "data": {
      "text/html": [
       "<div>\n",
       "<style scoped>\n",
       "    .dataframe tbody tr th:only-of-type {\n",
       "        vertical-align: middle;\n",
       "    }\n",
       "\n",
       "    .dataframe tbody tr th {\n",
       "        vertical-align: top;\n",
       "    }\n",
       "\n",
       "    .dataframe thead th {\n",
       "        text-align: right;\n",
       "    }\n",
       "</style>\n",
       "<table border=\"1\" class=\"dataframe\">\n",
       "  <thead>\n",
       "    <tr style=\"text-align: right;\">\n",
       "      <th></th>\n",
       "      <th>name</th>\n",
       "      <th>id</th>\n",
       "      <th>minutes</th>\n",
       "      <th>contributor_id</th>\n",
       "      <th>submitted</th>\n",
       "      <th>tags</th>\n",
       "      <th>nutrition</th>\n",
       "      <th>n_steps</th>\n",
       "      <th>steps</th>\n",
       "      <th>description</th>\n",
       "      <th>ingredients</th>\n",
       "      <th>n_ingredients</th>\n",
       "      <th>user_id</th>\n",
       "      <th>recipe_id</th>\n",
       "      <th>date</th>\n",
       "      <th>rating</th>\n",
       "      <th>review</th>\n",
       "    </tr>\n",
       "  </thead>\n",
       "  <tbody>\n",
       "    <tr>\n",
       "      <th>0</th>\n",
       "      <td>arriba   baked winter squash mexican style</td>\n",
       "      <td>137739</td>\n",
       "      <td>55</td>\n",
       "      <td>47892</td>\n",
       "      <td>2005-09-16</td>\n",
       "      <td>['60-minutes-or-less', 'time-to-make', 'course...</td>\n",
       "      <td>[51.5, 0.0, 13.0, 0.0, 2.0, 0.0, 4.0]</td>\n",
       "      <td>11</td>\n",
       "      <td>['make a choice and proceed with recipe', 'dep...</td>\n",
       "      <td>autumn is my favorite time of year to cook! th...</td>\n",
       "      <td>['winter squash', 'mexican seasoning', 'mixed ...</td>\n",
       "      <td>7</td>\n",
       "      <td>4470</td>\n",
       "      <td>137739</td>\n",
       "      <td>2006-02-18</td>\n",
       "      <td>5</td>\n",
       "      <td>I used an acorn squash and recipe#137681 Swee...</td>\n",
       "    </tr>\n",
       "    <tr>\n",
       "      <th>1</th>\n",
       "      <td>arriba   baked winter squash mexican style</td>\n",
       "      <td>137739</td>\n",
       "      <td>55</td>\n",
       "      <td>47892</td>\n",
       "      <td>2005-09-16</td>\n",
       "      <td>['60-minutes-or-less', 'time-to-make', 'course...</td>\n",
       "      <td>[51.5, 0.0, 13.0, 0.0, 2.0, 0.0, 4.0]</td>\n",
       "      <td>11</td>\n",
       "      <td>['make a choice and proceed with recipe', 'dep...</td>\n",
       "      <td>autumn is my favorite time of year to cook! th...</td>\n",
       "      <td>['winter squash', 'mexican seasoning', 'mixed ...</td>\n",
       "      <td>7</td>\n",
       "      <td>593927</td>\n",
       "      <td>137739</td>\n",
       "      <td>2010-08-21</td>\n",
       "      <td>5</td>\n",
       "      <td>This was a nice change. I used butternut squas...</td>\n",
       "    </tr>\n",
       "    <tr>\n",
       "      <th>2</th>\n",
       "      <td>arriba   baked winter squash mexican style</td>\n",
       "      <td>137739</td>\n",
       "      <td>55</td>\n",
       "      <td>47892</td>\n",
       "      <td>2005-09-16</td>\n",
       "      <td>['60-minutes-or-less', 'time-to-make', 'course...</td>\n",
       "      <td>[51.5, 0.0, 13.0, 0.0, 2.0, 0.0, 4.0]</td>\n",
       "      <td>11</td>\n",
       "      <td>['make a choice and proceed with recipe', 'dep...</td>\n",
       "      <td>autumn is my favorite time of year to cook! th...</td>\n",
       "      <td>['winter squash', 'mexican seasoning', 'mixed ...</td>\n",
       "      <td>7</td>\n",
       "      <td>178427</td>\n",
       "      <td>137739</td>\n",
       "      <td>2011-12-05</td>\n",
       "      <td>5</td>\n",
       "      <td>Excellent recipe! I used butternut squash and ...</td>\n",
       "    </tr>\n",
       "    <tr>\n",
       "      <th>3</th>\n",
       "      <td>a bit different  breakfast pizza</td>\n",
       "      <td>31490</td>\n",
       "      <td>30</td>\n",
       "      <td>26278</td>\n",
       "      <td>2002-06-17</td>\n",
       "      <td>['30-minutes-or-less', 'time-to-make', 'course...</td>\n",
       "      <td>[173.4, 18.0, 0.0, 17.0, 22.0, 35.0, 1.0]</td>\n",
       "      <td>9</td>\n",
       "      <td>['preheat oven to 425 degrees f', 'press dough...</td>\n",
       "      <td>this recipe calls for the crust to be prebaked...</td>\n",
       "      <td>['prepared pizza crust', 'sausage patty', 'egg...</td>\n",
       "      <td>6</td>\n",
       "      <td>28603</td>\n",
       "      <td>31490</td>\n",
       "      <td>2002-08-19</td>\n",
       "      <td>0</td>\n",
       "      <td>Have not tried this, but it sounds delicious. ...</td>\n",
       "    </tr>\n",
       "    <tr>\n",
       "      <th>4</th>\n",
       "      <td>a bit different  breakfast pizza</td>\n",
       "      <td>31490</td>\n",
       "      <td>30</td>\n",
       "      <td>26278</td>\n",
       "      <td>2002-06-17</td>\n",
       "      <td>['30-minutes-or-less', 'time-to-make', 'course...</td>\n",
       "      <td>[173.4, 18.0, 0.0, 17.0, 22.0, 35.0, 1.0]</td>\n",
       "      <td>9</td>\n",
       "      <td>['preheat oven to 425 degrees f', 'press dough...</td>\n",
       "      <td>this recipe calls for the crust to be prebaked...</td>\n",
       "      <td>['prepared pizza crust', 'sausage patty', 'egg...</td>\n",
       "      <td>6</td>\n",
       "      <td>346277</td>\n",
       "      <td>31490</td>\n",
       "      <td>2006-08-27</td>\n",
       "      <td>5</td>\n",
       "      <td>This recipe was wonderful.  Instead of using t...</td>\n",
       "    </tr>\n",
       "  </tbody>\n",
       "</table>\n",
       "</div>"
      ],
      "text/plain": [
       "                                         name      id  minutes  \\\n",
       "0  arriba   baked winter squash mexican style  137739       55   \n",
       "1  arriba   baked winter squash mexican style  137739       55   \n",
       "2  arriba   baked winter squash mexican style  137739       55   \n",
       "3            a bit different  breakfast pizza   31490       30   \n",
       "4            a bit different  breakfast pizza   31490       30   \n",
       "\n",
       "   contributor_id   submitted  \\\n",
       "0           47892  2005-09-16   \n",
       "1           47892  2005-09-16   \n",
       "2           47892  2005-09-16   \n",
       "3           26278  2002-06-17   \n",
       "4           26278  2002-06-17   \n",
       "\n",
       "                                                tags  \\\n",
       "0  ['60-minutes-or-less', 'time-to-make', 'course...   \n",
       "1  ['60-minutes-or-less', 'time-to-make', 'course...   \n",
       "2  ['60-minutes-or-less', 'time-to-make', 'course...   \n",
       "3  ['30-minutes-or-less', 'time-to-make', 'course...   \n",
       "4  ['30-minutes-or-less', 'time-to-make', 'course...   \n",
       "\n",
       "                                   nutrition  n_steps  \\\n",
       "0      [51.5, 0.0, 13.0, 0.0, 2.0, 0.0, 4.0]       11   \n",
       "1      [51.5, 0.0, 13.0, 0.0, 2.0, 0.0, 4.0]       11   \n",
       "2      [51.5, 0.0, 13.0, 0.0, 2.0, 0.0, 4.0]       11   \n",
       "3  [173.4, 18.0, 0.0, 17.0, 22.0, 35.0, 1.0]        9   \n",
       "4  [173.4, 18.0, 0.0, 17.0, 22.0, 35.0, 1.0]        9   \n",
       "\n",
       "                                               steps  \\\n",
       "0  ['make a choice and proceed with recipe', 'dep...   \n",
       "1  ['make a choice and proceed with recipe', 'dep...   \n",
       "2  ['make a choice and proceed with recipe', 'dep...   \n",
       "3  ['preheat oven to 425 degrees f', 'press dough...   \n",
       "4  ['preheat oven to 425 degrees f', 'press dough...   \n",
       "\n",
       "                                         description  \\\n",
       "0  autumn is my favorite time of year to cook! th...   \n",
       "1  autumn is my favorite time of year to cook! th...   \n",
       "2  autumn is my favorite time of year to cook! th...   \n",
       "3  this recipe calls for the crust to be prebaked...   \n",
       "4  this recipe calls for the crust to be prebaked...   \n",
       "\n",
       "                                         ingredients  n_ingredients  user_id  \\\n",
       "0  ['winter squash', 'mexican seasoning', 'mixed ...              7     4470   \n",
       "1  ['winter squash', 'mexican seasoning', 'mixed ...              7   593927   \n",
       "2  ['winter squash', 'mexican seasoning', 'mixed ...              7   178427   \n",
       "3  ['prepared pizza crust', 'sausage patty', 'egg...              6    28603   \n",
       "4  ['prepared pizza crust', 'sausage patty', 'egg...              6   346277   \n",
       "\n",
       "   recipe_id        date  rating  \\\n",
       "0     137739  2006-02-18       5   \n",
       "1     137739  2010-08-21       5   \n",
       "2     137739  2011-12-05       5   \n",
       "3      31490  2002-08-19       0   \n",
       "4      31490  2006-08-27       5   \n",
       "\n",
       "                                              review  \n",
       "0   I used an acorn squash and recipe#137681 Swee...  \n",
       "1  This was a nice change. I used butternut squas...  \n",
       "2  Excellent recipe! I used butternut squash and ...  \n",
       "3  Have not tried this, but it sounds delicious. ...  \n",
       "4  This recipe was wonderful.  Instead of using t...  "
      ]
     },
     "execution_count": 5,
     "metadata": {},
     "output_type": "execute_result"
    }
   ],
   "source": [
    "df.head(5)"
   ]
  },
  {
   "cell_type": "markdown",
   "id": "f9e401fc",
   "metadata": {
    "papermill": {
     "duration": 0.016101,
     "end_time": "2023-03-07T17:38:44.298772",
     "exception": false,
     "start_time": "2023-03-07T17:38:44.282671",
     "status": "completed"
    },
    "tags": []
   },
   "source": [
    "## Let's find answers to some cool questions!\n",
    "\n",
    "### What is the best recipe by user ratings and number of reviews?"
   ]
  },
  {
   "cell_type": "code",
   "execution_count": 6,
   "id": "c8e119e2",
   "metadata": {
    "execution": {
     "iopub.execute_input": "2023-03-07T17:38:44.331797Z",
     "iopub.status.busy": "2023-03-07T17:38:44.331441Z",
     "iopub.status.idle": "2023-03-07T17:38:45.121946Z",
     "shell.execute_reply": "2023-03-07T17:38:45.121327Z"
    },
    "papermill": {
     "duration": 0.80863,
     "end_time": "2023-03-07T17:38:45.123523",
     "exception": false,
     "start_time": "2023-03-07T17:38:44.314893",
     "status": "completed"
    },
    "tags": []
   },
   "outputs": [
    {
     "data": {
      "text/html": [
       "<div>\n",
       "<style scoped>\n",
       "    .dataframe tbody tr th:only-of-type {\n",
       "        vertical-align: middle;\n",
       "    }\n",
       "\n",
       "    .dataframe tbody tr th {\n",
       "        vertical-align: top;\n",
       "    }\n",
       "\n",
       "    .dataframe thead th {\n",
       "        text-align: right;\n",
       "    }\n",
       "</style>\n",
       "<table border=\"1\" class=\"dataframe\">\n",
       "  <thead>\n",
       "    <tr style=\"text-align: right;\">\n",
       "      <th></th>\n",
       "      <th></th>\n",
       "      <th>average_rating</th>\n",
       "      <th>No_of_Reviews</th>\n",
       "    </tr>\n",
       "    <tr>\n",
       "      <th>recipe_id</th>\n",
       "      <th>name</th>\n",
       "      <th></th>\n",
       "      <th></th>\n",
       "    </tr>\n",
       "  </thead>\n",
       "  <tbody>\n",
       "    <tr>\n",
       "      <th>55309</th>\n",
       "      <th>caprese salad tomatoes  italian marinated tomatoes</th>\n",
       "      <td>5.0</td>\n",
       "      <td>52</td>\n",
       "    </tr>\n",
       "    <tr>\n",
       "      <th>24768</th>\n",
       "      <th>berry cream cheese coffee cake</th>\n",
       "      <td>5.0</td>\n",
       "      <td>37</td>\n",
       "    </tr>\n",
       "    <tr>\n",
       "      <th>121941</th>\n",
       "      <th>kittencal s soft white baguette style bread</th>\n",
       "      <td>5.0</td>\n",
       "      <td>36</td>\n",
       "    </tr>\n",
       "    <tr>\n",
       "      <th>166669</th>\n",
       "      <th>kittencal s caesar tortellini salad</th>\n",
       "      <td>5.0</td>\n",
       "      <td>36</td>\n",
       "    </tr>\n",
       "    <tr>\n",
       "      <th>62754</th>\n",
       "      <th>linda s special potato salad</th>\n",
       "      <td>5.0</td>\n",
       "      <td>32</td>\n",
       "    </tr>\n",
       "    <tr>\n",
       "      <th>199171</th>\n",
       "      <th>broiled cinnamon toast</th>\n",
       "      <td>5.0</td>\n",
       "      <td>31</td>\n",
       "    </tr>\n",
       "    <tr>\n",
       "      <th>269136</th>\n",
       "      <th>earth bread</th>\n",
       "      <td>5.0</td>\n",
       "      <td>31</td>\n",
       "    </tr>\n",
       "    <tr>\n",
       "      <th>45107</th>\n",
       "      <th>strawberry cheese ring</th>\n",
       "      <td>5.0</td>\n",
       "      <td>28</td>\n",
       "    </tr>\n",
       "    <tr>\n",
       "      <th>94087</th>\n",
       "      <th>cranberry nut swirls</th>\n",
       "      <td>5.0</td>\n",
       "      <td>28</td>\n",
       "    </tr>\n",
       "    <tr>\n",
       "      <th>495202</th>\n",
       "      <th>crunchy valley chicken  rsc</th>\n",
       "      <td>5.0</td>\n",
       "      <td>28</td>\n",
       "    </tr>\n",
       "  </tbody>\n",
       "</table>\n",
       "</div>"
      ],
      "text/plain": [
       "                                                              average_rating  \\\n",
       "recipe_id name                                                                 \n",
       "55309     caprese salad tomatoes  italian marinated tomatoes             5.0   \n",
       "24768     berry cream cheese coffee cake                                 5.0   \n",
       "121941    kittencal s soft white baguette style bread                    5.0   \n",
       "166669    kittencal s caesar tortellini salad                            5.0   \n",
       "62754     linda s special potato salad                                   5.0   \n",
       "199171    broiled cinnamon toast                                         5.0   \n",
       "269136    earth bread                                                    5.0   \n",
       "45107     strawberry cheese ring                                         5.0   \n",
       "94087     cranberry nut swirls                                           5.0   \n",
       "495202    crunchy valley chicken  rsc                                    5.0   \n",
       "\n",
       "                                                              No_of_Reviews  \n",
       "recipe_id name                                                               \n",
       "55309     caprese salad tomatoes  italian marinated tomatoes             52  \n",
       "24768     berry cream cheese coffee cake                                 37  \n",
       "121941    kittencal s soft white baguette style bread                    36  \n",
       "166669    kittencal s caesar tortellini salad                            36  \n",
       "62754     linda s special potato salad                                   32  \n",
       "199171    broiled cinnamon toast                                         31  \n",
       "269136    earth bread                                                    31  \n",
       "45107     strawberry cheese ring                                         28  \n",
       "94087     cranberry nut swirls                                           28  \n",
       "495202    crunchy valley chicken  rsc                                    28  "
      ]
     },
     "execution_count": 6,
     "metadata": {},
     "output_type": "execute_result"
    }
   ],
   "source": [
    "rating = df[['name','rating','recipe_id']].groupby(['recipe_id','name'])['rating'].agg(['mean','count'])\\\n",
    "                                                        .rename(columns={\"mean\": \"average_rating\", \"count\": \"No_of_Reviews\"})\n",
    "(rating.sort_values(by = ['average_rating','No_of_Reviews'], ascending= False)).head(n=10)"
   ]
  },
  {
   "cell_type": "markdown",
   "id": "a52ed29f",
   "metadata": {
    "papermill": {
     "duration": 0.015035,
     "end_time": "2023-03-07T17:38:45.156288",
     "exception": false,
     "start_time": "2023-03-07T17:38:45.141253",
     "status": "completed"
    },
    "tags": []
   },
   "source": [
    "## Pre-processing of the data\n",
    " Some columns like nutritional values and ingredients are read as strings by python rather than list objects.\n",
    "1. We will now convert ingredients to list objects so that we can use them as iterables while text processing.\n",
    "2. We will convert nutritional values column to columns of nutritional values so that we can use them for comparision of different recipes nutritional values.\n",
    "\n",
    "Coverting nutritional values column to columns of nutritional values"
   ]
  },
  {
   "cell_type": "code",
   "execution_count": 7,
   "id": "aad76a2c",
   "metadata": {
    "execution": {
     "iopub.execute_input": "2023-03-07T17:38:45.187843Z",
     "iopub.status.busy": "2023-03-07T17:38:45.187216Z",
     "iopub.status.idle": "2023-03-07T17:38:58.974657Z",
     "shell.execute_reply": "2023-03-07T17:38:58.973684Z"
    },
    "papermill": {
     "duration": 13.805369,
     "end_time": "2023-03-07T17:38:58.976575",
     "exception": false,
     "start_time": "2023-03-07T17:38:45.171206",
     "status": "completed"
    },
    "tags": []
   },
   "outputs": [
    {
     "data": {
      "text/html": [
       "<div>\n",
       "<style scoped>\n",
       "    .dataframe tbody tr th:only-of-type {\n",
       "        vertical-align: middle;\n",
       "    }\n",
       "\n",
       "    .dataframe tbody tr th {\n",
       "        vertical-align: top;\n",
       "    }\n",
       "\n",
       "    .dataframe thead th {\n",
       "        text-align: right;\n",
       "    }\n",
       "</style>\n",
       "<table border=\"1\" class=\"dataframe\">\n",
       "  <thead>\n",
       "    <tr style=\"text-align: right;\">\n",
       "      <th></th>\n",
       "      <th>name</th>\n",
       "      <th>id</th>\n",
       "      <th>minutes</th>\n",
       "      <th>contributor_id</th>\n",
       "      <th>submitted</th>\n",
       "      <th>tags</th>\n",
       "      <th>nutrition</th>\n",
       "      <th>n_steps</th>\n",
       "      <th>steps</th>\n",
       "      <th>description</th>\n",
       "      <th>...</th>\n",
       "      <th>date</th>\n",
       "      <th>rating</th>\n",
       "      <th>review</th>\n",
       "      <th>cal</th>\n",
       "      <th>totalFat</th>\n",
       "      <th>sugar</th>\n",
       "      <th>sodium</th>\n",
       "      <th>protein</th>\n",
       "      <th>satFat</th>\n",
       "      <th>carbs</th>\n",
       "    </tr>\n",
       "  </thead>\n",
       "  <tbody>\n",
       "    <tr>\n",
       "      <th>0</th>\n",
       "      <td>arriba   baked winter squash mexican style</td>\n",
       "      <td>137739</td>\n",
       "      <td>55</td>\n",
       "      <td>47892</td>\n",
       "      <td>2005-09-16</td>\n",
       "      <td>['60-minutes-or-less', 'time-to-make', 'course...</td>\n",
       "      <td>[51.5, 0.0, 13.0, 0.0, 2.0, 0.0, 4.0]</td>\n",
       "      <td>11</td>\n",
       "      <td>['make a choice and proceed with recipe', 'dep...</td>\n",
       "      <td>autumn is my favorite time of year to cook! th...</td>\n",
       "      <td>...</td>\n",
       "      <td>2006-02-18</td>\n",
       "      <td>5</td>\n",
       "      <td>I used an acorn squash and recipe#137681 Swee...</td>\n",
       "      <td>51.5</td>\n",
       "      <td>0.0</td>\n",
       "      <td>13.0</td>\n",
       "      <td>0.0</td>\n",
       "      <td>2.0</td>\n",
       "      <td>0.0</td>\n",
       "      <td>4.0</td>\n",
       "    </tr>\n",
       "    <tr>\n",
       "      <th>1</th>\n",
       "      <td>arriba   baked winter squash mexican style</td>\n",
       "      <td>137739</td>\n",
       "      <td>55</td>\n",
       "      <td>47892</td>\n",
       "      <td>2005-09-16</td>\n",
       "      <td>['60-minutes-or-less', 'time-to-make', 'course...</td>\n",
       "      <td>[51.5, 0.0, 13.0, 0.0, 2.0, 0.0, 4.0]</td>\n",
       "      <td>11</td>\n",
       "      <td>['make a choice and proceed with recipe', 'dep...</td>\n",
       "      <td>autumn is my favorite time of year to cook! th...</td>\n",
       "      <td>...</td>\n",
       "      <td>2010-08-21</td>\n",
       "      <td>5</td>\n",
       "      <td>This was a nice change. I used butternut squas...</td>\n",
       "      <td>51.5</td>\n",
       "      <td>0.0</td>\n",
       "      <td>13.0</td>\n",
       "      <td>0.0</td>\n",
       "      <td>2.0</td>\n",
       "      <td>0.0</td>\n",
       "      <td>4.0</td>\n",
       "    </tr>\n",
       "    <tr>\n",
       "      <th>2</th>\n",
       "      <td>arriba   baked winter squash mexican style</td>\n",
       "      <td>137739</td>\n",
       "      <td>55</td>\n",
       "      <td>47892</td>\n",
       "      <td>2005-09-16</td>\n",
       "      <td>['60-minutes-or-less', 'time-to-make', 'course...</td>\n",
       "      <td>[51.5, 0.0, 13.0, 0.0, 2.0, 0.0, 4.0]</td>\n",
       "      <td>11</td>\n",
       "      <td>['make a choice and proceed with recipe', 'dep...</td>\n",
       "      <td>autumn is my favorite time of year to cook! th...</td>\n",
       "      <td>...</td>\n",
       "      <td>2011-12-05</td>\n",
       "      <td>5</td>\n",
       "      <td>Excellent recipe! I used butternut squash and ...</td>\n",
       "      <td>51.5</td>\n",
       "      <td>0.0</td>\n",
       "      <td>13.0</td>\n",
       "      <td>0.0</td>\n",
       "      <td>2.0</td>\n",
       "      <td>0.0</td>\n",
       "      <td>4.0</td>\n",
       "    </tr>\n",
       "    <tr>\n",
       "      <th>3</th>\n",
       "      <td>a bit different  breakfast pizza</td>\n",
       "      <td>31490</td>\n",
       "      <td>30</td>\n",
       "      <td>26278</td>\n",
       "      <td>2002-06-17</td>\n",
       "      <td>['30-minutes-or-less', 'time-to-make', 'course...</td>\n",
       "      <td>[173.4, 18.0, 0.0, 17.0, 22.0, 35.0, 1.0]</td>\n",
       "      <td>9</td>\n",
       "      <td>['preheat oven to 425 degrees f', 'press dough...</td>\n",
       "      <td>this recipe calls for the crust to be prebaked...</td>\n",
       "      <td>...</td>\n",
       "      <td>2002-08-19</td>\n",
       "      <td>0</td>\n",
       "      <td>Have not tried this, but it sounds delicious. ...</td>\n",
       "      <td>173.4</td>\n",
       "      <td>18.0</td>\n",
       "      <td>0.0</td>\n",
       "      <td>17.0</td>\n",
       "      <td>22.0</td>\n",
       "      <td>35.0</td>\n",
       "      <td>1.0</td>\n",
       "    </tr>\n",
       "    <tr>\n",
       "      <th>4</th>\n",
       "      <td>a bit different  breakfast pizza</td>\n",
       "      <td>31490</td>\n",
       "      <td>30</td>\n",
       "      <td>26278</td>\n",
       "      <td>2002-06-17</td>\n",
       "      <td>['30-minutes-or-less', 'time-to-make', 'course...</td>\n",
       "      <td>[173.4, 18.0, 0.0, 17.0, 22.0, 35.0, 1.0]</td>\n",
       "      <td>9</td>\n",
       "      <td>['preheat oven to 425 degrees f', 'press dough...</td>\n",
       "      <td>this recipe calls for the crust to be prebaked...</td>\n",
       "      <td>...</td>\n",
       "      <td>2006-08-27</td>\n",
       "      <td>5</td>\n",
       "      <td>This recipe was wonderful.  Instead of using t...</td>\n",
       "      <td>173.4</td>\n",
       "      <td>18.0</td>\n",
       "      <td>0.0</td>\n",
       "      <td>17.0</td>\n",
       "      <td>22.0</td>\n",
       "      <td>35.0</td>\n",
       "      <td>1.0</td>\n",
       "    </tr>\n",
       "  </tbody>\n",
       "</table>\n",
       "<p>5 rows × 24 columns</p>\n",
       "</div>"
      ],
      "text/plain": [
       "                                         name      id  minutes  \\\n",
       "0  arriba   baked winter squash mexican style  137739       55   \n",
       "1  arriba   baked winter squash mexican style  137739       55   \n",
       "2  arriba   baked winter squash mexican style  137739       55   \n",
       "3            a bit different  breakfast pizza   31490       30   \n",
       "4            a bit different  breakfast pizza   31490       30   \n",
       "\n",
       "   contributor_id   submitted  \\\n",
       "0           47892  2005-09-16   \n",
       "1           47892  2005-09-16   \n",
       "2           47892  2005-09-16   \n",
       "3           26278  2002-06-17   \n",
       "4           26278  2002-06-17   \n",
       "\n",
       "                                                tags  \\\n",
       "0  ['60-minutes-or-less', 'time-to-make', 'course...   \n",
       "1  ['60-minutes-or-less', 'time-to-make', 'course...   \n",
       "2  ['60-minutes-or-less', 'time-to-make', 'course...   \n",
       "3  ['30-minutes-or-less', 'time-to-make', 'course...   \n",
       "4  ['30-minutes-or-less', 'time-to-make', 'course...   \n",
       "\n",
       "                                   nutrition  n_steps  \\\n",
       "0      [51.5, 0.0, 13.0, 0.0, 2.0, 0.0, 4.0]       11   \n",
       "1      [51.5, 0.0, 13.0, 0.0, 2.0, 0.0, 4.0]       11   \n",
       "2      [51.5, 0.0, 13.0, 0.0, 2.0, 0.0, 4.0]       11   \n",
       "3  [173.4, 18.0, 0.0, 17.0, 22.0, 35.0, 1.0]        9   \n",
       "4  [173.4, 18.0, 0.0, 17.0, 22.0, 35.0, 1.0]        9   \n",
       "\n",
       "                                               steps  \\\n",
       "0  ['make a choice and proceed with recipe', 'dep...   \n",
       "1  ['make a choice and proceed with recipe', 'dep...   \n",
       "2  ['make a choice and proceed with recipe', 'dep...   \n",
       "3  ['preheat oven to 425 degrees f', 'press dough...   \n",
       "4  ['preheat oven to 425 degrees f', 'press dough...   \n",
       "\n",
       "                                         description  ...        date  rating  \\\n",
       "0  autumn is my favorite time of year to cook! th...  ...  2006-02-18       5   \n",
       "1  autumn is my favorite time of year to cook! th...  ...  2010-08-21       5   \n",
       "2  autumn is my favorite time of year to cook! th...  ...  2011-12-05       5   \n",
       "3  this recipe calls for the crust to be prebaked...  ...  2002-08-19       0   \n",
       "4  this recipe calls for the crust to be prebaked...  ...  2006-08-27       5   \n",
       "\n",
       "                                              review    cal totalFat  sugar  \\\n",
       "0   I used an acorn squash and recipe#137681 Swee...   51.5      0.0   13.0   \n",
       "1  This was a nice change. I used butternut squas...   51.5      0.0   13.0   \n",
       "2  Excellent recipe! I used butternut squash and ...   51.5      0.0   13.0   \n",
       "3  Have not tried this, but it sounds delicious. ...  173.4     18.0    0.0   \n",
       "4  This recipe was wonderful.  Instead of using t...  173.4     18.0    0.0   \n",
       "\n",
       "  sodium  protein  satFat  carbs  \n",
       "0    0.0      2.0     0.0    4.0  \n",
       "1    0.0      2.0     0.0    4.0  \n",
       "2    0.0      2.0     0.0    4.0  \n",
       "3   17.0     22.0    35.0    1.0  \n",
       "4   17.0     22.0    35.0    1.0  \n",
       "\n",
       "[5 rows x 24 columns]"
      ]
     },
     "execution_count": 7,
     "metadata": {},
     "output_type": "execute_result"
    }
   ],
   "source": [
    "NutriList=['cal', 'totalFat', 'sugar', 'sodium', 'protein', 'satFat', 'carbs']\n",
    "\n",
    "NutriList_Columns = pd.DataFrame(df['nutrition'].apply(eval).to_list(),\\\n",
    "                        index=df.index\\\n",
    "                        ,columns=NutriList)\n",
    "\n",
    "df = df.join(NutriList_Columns)\n",
    "df.head(5)"
   ]
  },
  {
   "cell_type": "markdown",
   "id": "65455b07",
   "metadata": {
    "papermill": {
     "duration": 0.015906,
     "end_time": "2023-03-07T17:38:59.008412",
     "exception": false,
     "start_time": "2023-03-07T17:38:58.992506",
     "status": "completed"
    },
    "tags": []
   },
   "source": [
    "Converting ingredients string to list of ingredients"
   ]
  },
  {
   "cell_type": "code",
   "execution_count": 8,
   "id": "72fd5f82",
   "metadata": {
    "execution": {
     "iopub.execute_input": "2023-03-07T17:38:59.041548Z",
     "iopub.status.busy": "2023-03-07T17:38:59.041231Z",
     "iopub.status.idle": "2023-03-07T17:39:15.436801Z",
     "shell.execute_reply": "2023-03-07T17:39:15.436043Z"
    },
    "papermill": {
     "duration": 16.414127,
     "end_time": "2023-03-07T17:39:15.438642",
     "exception": false,
     "start_time": "2023-03-07T17:38:59.024515",
     "status": "completed"
    },
    "tags": []
   },
   "outputs": [
    {
     "data": {
      "text/plain": [
       "0    [winter squash, mexican seasoning, mixed spice...\n",
       "1    [winter squash, mexican seasoning, mixed spice...\n",
       "2    [winter squash, mexican seasoning, mixed spice...\n",
       "3    [prepared pizza crust, sausage patty, eggs, mi...\n",
       "4    [prepared pizza crust, sausage patty, eggs, mi...\n",
       "Name: ingredients, dtype: object"
      ]
     },
     "execution_count": 8,
     "metadata": {},
     "output_type": "execute_result"
    }
   ],
   "source": [
    "df['ingredients'] = df['ingredients'].apply(eval)\n",
    "df['ingredients'].head()"
   ]
  },
  {
   "cell_type": "code",
   "execution_count": 9,
   "id": "cb9a91db",
   "metadata": {
    "execution": {
     "iopub.execute_input": "2023-03-07T17:39:15.474011Z",
     "iopub.status.busy": "2023-03-07T17:39:15.473706Z",
     "iopub.status.idle": "2023-03-07T17:39:15.479699Z",
     "shell.execute_reply": "2023-03-07T17:39:15.478824Z"
    },
    "papermill": {
     "duration": 0.025044,
     "end_time": "2023-03-07T17:39:15.481661",
     "exception": false,
     "start_time": "2023-03-07T17:39:15.456617",
     "status": "completed"
    },
    "tags": []
   },
   "outputs": [
    {
     "data": {
      "text/plain": [
       "list"
      ]
     },
     "execution_count": 9,
     "metadata": {},
     "output_type": "execute_result"
    }
   ],
   "source": [
    "type(df['ingredients'][0])"
   ]
  },
  {
   "cell_type": "markdown",
   "id": "4daf384b",
   "metadata": {
    "papermill": {
     "duration": 0.016944,
     "end_time": "2023-03-07T17:39:15.521330",
     "exception": false,
     "start_time": "2023-03-07T17:39:15.504386",
     "status": "completed"
    },
    "tags": []
   },
   "source": [
    "Converting ingredients list back to usable text strings"
   ]
  },
  {
   "cell_type": "code",
   "execution_count": 10,
   "id": "917d8bf8",
   "metadata": {
    "execution": {
     "iopub.execute_input": "2023-03-07T17:39:15.555589Z",
     "iopub.status.busy": "2023-03-07T17:39:15.554949Z",
     "iopub.status.idle": "2023-03-07T17:39:16.444342Z",
     "shell.execute_reply": "2023-03-07T17:39:16.443091Z"
    },
    "papermill": {
     "duration": 0.909109,
     "end_time": "2023-03-07T17:39:16.446895",
     "exception": false,
     "start_time": "2023-03-07T17:39:15.537786",
     "status": "completed"
    },
    "tags": []
   },
   "outputs": [
    {
     "data": {
      "text/plain": [
       "0    winter squash,mexican seasoning,mixed spice,ho...\n",
       "1    winter squash,mexican seasoning,mixed spice,ho...\n",
       "2    winter squash,mexican seasoning,mixed spice,ho...\n",
       "3    prepared pizza crust,sausage patty,eggs,milk,s...\n",
       "4    prepared pizza crust,sausage patty,eggs,milk,s...\n",
       "Name: ingredients, dtype: object"
      ]
     },
     "execution_count": 10,
     "metadata": {},
     "output_type": "execute_result"
    }
   ],
   "source": [
    "df['ingredients'] = [','.join(z).strip() for z in df['ingredients']]\n",
    "df['ingredients'].head()"
   ]
  },
  {
   "cell_type": "markdown",
   "id": "1921978c",
   "metadata": {
    "papermill": {
     "duration": 0.015827,
     "end_time": "2023-03-07T17:39:16.479231",
     "exception": false,
     "start_time": "2023-03-07T17:39:16.463404",
     "status": "completed"
    },
    "tags": []
   },
   "source": [
    "# EDA"
   ]
  },
  {
   "cell_type": "code",
   "execution_count": 11,
   "id": "33d06099",
   "metadata": {
    "execution": {
     "iopub.execute_input": "2023-03-07T17:39:16.512618Z",
     "iopub.status.busy": "2023-03-07T17:39:16.512263Z",
     "iopub.status.idle": "2023-03-07T17:39:17.235599Z",
     "shell.execute_reply": "2023-03-07T17:39:17.234704Z"
    },
    "papermill": {
     "duration": 0.744239,
     "end_time": "2023-03-07T17:39:17.239209",
     "exception": false,
     "start_time": "2023-03-07T17:39:16.494970",
     "status": "completed"
    },
    "tags": []
   },
   "outputs": [],
   "source": [
    "import matplotlib.pyplot as plt\n",
    "import seaborn as sns\n",
    "import pickle"
   ]
  },
  {
   "cell_type": "code",
   "execution_count": 12,
   "id": "db2c5853",
   "metadata": {
    "execution": {
     "iopub.execute_input": "2023-03-07T17:39:17.274123Z",
     "iopub.status.busy": "2023-03-07T17:39:17.273743Z",
     "iopub.status.idle": "2023-03-07T17:39:19.628431Z",
     "shell.execute_reply": "2023-03-07T17:39:19.627807Z"
    },
    "papermill": {
     "duration": 2.37561,
     "end_time": "2023-03-07T17:39:19.632183",
     "exception": false,
     "start_time": "2023-03-07T17:39:17.256573",
     "status": "completed"
    },
    "tags": []
   },
   "outputs": [
    {
     "data": {
      "image/png": "[encoded data removed]",
      "text/plain": [
       "<Figure size 1500x1000 with 10 Axes>"
      ]
     },
     "metadata": {},
     "output_type": "display_data"
    }
   ],
   "source": [
    "#Get all numeric columns\n",
    "numeric_columns = ['minutes', 'n_steps', 'n_ingredients', 'cal', 'totalFat', 'sugar', 'sodium', 'protein', 'satFat', 'carbs']\n",
    "\n",
    "plt.style.use('ggplot')\n",
    "fig, axis = plt.subplots(2,5,figsize=(15,10))\n",
    "axis = axis.ravel()\n",
    "for i,ax in enumerate(axis):\n",
    "    sns.boxplot(data=df[numeric_columns[i]],ax=ax)\n",
    "    ax.set(title=numeric_columns[i])\n",
    "plt.tight_layout()\n",
    "plt.show()"
   ]
  },
  {
   "cell_type": "markdown",
   "id": "7ad51190",
   "metadata": {
    "papermill": {
     "duration": 0.017014,
     "end_time": "2023-03-07T17:39:19.667665",
     "exception": false,
     "start_time": "2023-03-07T17:39:19.650651",
     "status": "completed"
    },
    "tags": []
   },
   "source": [
    "There are many outliers, so we should remove outliers\n",
    "\n",
    "To remove the outliers i will set my lower and upper bound as : lower bound = Q1 - 1.5 * IQR upper bound = Q3 + 1.5 * IQR. For more infomation see the below figure.\n"
   ]
  },
  {
   "attachments": {
    "6d420c5d-2f06-49e4-87c0-78b2dbb269f4.png": {
     "image/png": "[encoded data removed]"
    }
   },
   "cell_type": "markdown",
   "id": "b8905d68",
   "metadata": {
    "papermill": {
     "duration": 0.016705,
     "end_time": "2023-03-07T17:39:19.701637",
     "exception": false,
     "start_time": "2023-03-07T17:39:19.684932",
     "status": "completed"
    },
    "tags": []
   },
   "source": [
    "![image.png](attachment:6d420c5d-2f06-49e4-87c0-78b2dbb269f4.png)"
   ]
  },
  {
   "cell_type": "markdown",
   "id": "4c117b69",
   "metadata": {
    "papermill": {
     "duration": 0.017042,
     "end_time": "2023-03-07T17:39:19.737468",
     "exception": false,
     "start_time": "2023-03-07T17:39:19.720426",
     "status": "completed"
    },
    "tags": []
   },
   "source": [
    "The values out of these range are considered as outliers and we have to remove them."
   ]
  },
  {
   "cell_type": "code",
   "execution_count": 13,
   "id": "9d5ef5ee",
   "metadata": {
    "execution": {
     "iopub.execute_input": "2023-03-07T17:39:19.775666Z",
     "iopub.status.busy": "2023-03-07T17:39:19.774255Z",
     "iopub.status.idle": "2023-03-07T17:39:22.704459Z",
     "shell.execute_reply": "2023-03-07T17:39:22.703546Z"
    },
    "papermill": {
     "duration": 2.952442,
     "end_time": "2023-03-07T17:39:22.706727",
     "exception": false,
     "start_time": "2023-03-07T17:39:19.754285",
     "status": "completed"
    },
    "tags": []
   },
   "outputs": [],
   "source": [
    "# Removing values according to IQR\n",
    "Columns_Remove_Outliers=['n_steps','minutes','n_ingredients','cal', 'totalFat', 'sugar',   'sodium', 'protein', 'satFat', 'carbs']\n",
    "for col in Columns_Remove_Outliers:\n",
    "    IQR = df[col].quantile(0.75) - df[col].quantile(0.25)\n",
    "    colmax = df[col].quantile(0.75) + 1.5 * IQR\n",
    "    colmin = df[col].quantile(0.25) - 1.5 * IQR\n",
    "    df = df[ (df[col] < colmax) & (df[col] > colmin) ]\n"
   ]
  },
  {
   "cell_type": "code",
   "execution_count": 14,
   "id": "172ae973",
   "metadata": {
    "execution": {
     "iopub.execute_input": "2023-03-07T17:39:22.744847Z",
     "iopub.status.busy": "2023-03-07T17:39:22.744339Z",
     "iopub.status.idle": "2023-03-07T17:39:24.009410Z",
     "shell.execute_reply": "2023-03-07T17:39:24.008528Z"
    },
    "papermill": {
     "duration": 1.288147,
     "end_time": "2023-03-07T17:39:24.012099",
     "exception": false,
     "start_time": "2023-03-07T17:39:22.723952",
     "status": "completed"
    },
    "tags": []
   },
   "outputs": [
    {
     "data": {
      "image/png": "[encoded data removed]",
      "text/plain": [
       "<Figure size 1400x1000 with 10 Axes>"
      ]
     },
     "metadata": {},
     "output_type": "display_data"
    }
   ],
   "source": [
    "#Now we will look at distributions again\n",
    "plt.style.use('ggplot')\n",
    "fig, axis = plt.subplots(2,5,figsize=(14,10))\n",
    "axis = axis.ravel()\n",
    "for i,ax in enumerate(axis):\n",
    "    sns.boxplot(data=df[numeric_columns[i]],ax=ax)\n",
    "    ax.set(title=numeric_columns[i])\n",
    "plt.tight_layout()\n",
    "plt.show()"
   ]
  },
  {
   "cell_type": "markdown",
   "id": "7af285ab",
   "metadata": {
    "papermill": {
     "duration": 0.018774,
     "end_time": "2023-03-07T17:39:24.049220",
     "exception": false,
     "start_time": "2023-03-07T17:39:24.030446",
     "status": "completed"
    },
    "tags": []
   },
   "source": [
    "This is much better than before removing the outliers"
   ]
  },
  {
   "cell_type": "code",
   "execution_count": 15,
   "id": "0a94fecb",
   "metadata": {
    "execution": {
     "iopub.execute_input": "2023-03-07T17:39:24.088553Z",
     "iopub.status.busy": "2023-03-07T17:39:24.088160Z",
     "iopub.status.idle": "2023-03-07T17:39:24.094200Z",
     "shell.execute_reply": "2023-03-07T17:39:24.093336Z"
    },
    "papermill": {
     "duration": 0.027561,
     "end_time": "2023-03-07T17:39:24.095920",
     "exception": false,
     "start_time": "2023-03-07T17:39:24.068359",
     "status": "completed"
    },
    "tags": []
   },
   "outputs": [
    {
     "data": {
      "text/plain": [
       "(681529, 24)"
      ]
     },
     "execution_count": 15,
     "metadata": {},
     "output_type": "execute_result"
    }
   ],
   "source": [
    "df.shape"
   ]
  },
  {
   "cell_type": "code",
   "execution_count": 16,
   "id": "45881ae9",
   "metadata": {
    "execution": {
     "iopub.execute_input": "2023-03-07T17:39:24.134989Z",
     "iopub.status.busy": "2023-03-07T17:39:24.134590Z",
     "iopub.status.idle": "2023-03-07T17:39:24.364440Z",
     "shell.execute_reply": "2023-03-07T17:39:24.363439Z"
    },
    "papermill": {
     "duration": 0.251505,
     "end_time": "2023-03-07T17:39:24.366228",
     "exception": false,
     "start_time": "2023-03-07T17:39:24.114723",
     "status": "completed"
    },
    "tags": []
   },
   "outputs": [
    {
     "data": {
      "text/html": [
       "<div>\n",
       "<style scoped>\n",
       "    .dataframe tbody tr th:only-of-type {\n",
       "        vertical-align: middle;\n",
       "    }\n",
       "\n",
       "    .dataframe tbody tr th {\n",
       "        vertical-align: top;\n",
       "    }\n",
       "\n",
       "    .dataframe thead th {\n",
       "        text-align: right;\n",
       "    }\n",
       "</style>\n",
       "<table border=\"1\" class=\"dataframe\">\n",
       "  <thead>\n",
       "    <tr style=\"text-align: right;\">\n",
       "      <th></th>\n",
       "      <th>id</th>\n",
       "      <th>minutes</th>\n",
       "      <th>contributor_id</th>\n",
       "      <th>n_steps</th>\n",
       "      <th>n_ingredients</th>\n",
       "      <th>user_id</th>\n",
       "      <th>recipe_id</th>\n",
       "      <th>rating</th>\n",
       "      <th>cal</th>\n",
       "      <th>totalFat</th>\n",
       "      <th>sugar</th>\n",
       "      <th>sodium</th>\n",
       "      <th>protein</th>\n",
       "      <th>satFat</th>\n",
       "      <th>carbs</th>\n",
       "    </tr>\n",
       "  </thead>\n",
       "  <tbody>\n",
       "    <tr>\n",
       "      <th>count</th>\n",
       "      <td>681529.000000</td>\n",
       "      <td>681529.000000</td>\n",
       "      <td>6.815290e+05</td>\n",
       "      <td>681529.000000</td>\n",
       "      <td>681529.000000</td>\n",
       "      <td>6.815290e+05</td>\n",
       "      <td>681529.000000</td>\n",
       "      <td>681529.000000</td>\n",
       "      <td>681529.000000</td>\n",
       "      <td>681529.000000</td>\n",
       "      <td>681529.000000</td>\n",
       "      <td>681529.000000</td>\n",
       "      <td>681529.000000</td>\n",
       "      <td>681529.000000</td>\n",
       "      <td>681529.000000</td>\n",
       "    </tr>\n",
       "    <tr>\n",
       "      <th>mean</th>\n",
       "      <td>165070.274238</td>\n",
       "      <td>37.183137</td>\n",
       "      <td>2.255315e+06</td>\n",
       "      <td>8.511934</td>\n",
       "      <td>8.442376</td>\n",
       "      <td>1.277264e+08</td>\n",
       "      <td>165070.274238</td>\n",
       "      <td>4.431619</td>\n",
       "      <td>245.773590</td>\n",
       "      <td>17.595486</td>\n",
       "      <td>30.754819</td>\n",
       "      <td>15.813249</td>\n",
       "      <td>21.712812</td>\n",
       "      <td>21.425999</td>\n",
       "      <td>7.576463</td>\n",
       "    </tr>\n",
       "    <tr>\n",
       "      <th>std</th>\n",
       "      <td>130650.681980</td>\n",
       "      <td>25.243758</td>\n",
       "      <td>6.164117e+07</td>\n",
       "      <td>4.044032</td>\n",
       "      <td>3.223988</td>\n",
       "      <td>4.831046e+08</td>\n",
       "      <td>130650.681980</td>\n",
       "      <td>1.221984</td>\n",
       "      <td>140.748095</td>\n",
       "      <td>14.013828</td>\n",
       "      <td>31.914752</td>\n",
       "      <td>14.847214</td>\n",
       "      <td>22.296866</td>\n",
       "      <td>19.588747</td>\n",
       "      <td>5.717056</td>\n",
       "    </tr>\n",
       "    <tr>\n",
       "      <th>min</th>\n",
       "      <td>45.000000</td>\n",
       "      <td>0.000000</td>\n",
       "      <td>2.700000e+01</td>\n",
       "      <td>0.000000</td>\n",
       "      <td>1.000000</td>\n",
       "      <td>1.533000e+03</td>\n",
       "      <td>45.000000</td>\n",
       "      <td>0.000000</td>\n",
       "      <td>0.000000</td>\n",
       "      <td>0.000000</td>\n",
       "      <td>0.000000</td>\n",
       "      <td>0.000000</td>\n",
       "      <td>0.000000</td>\n",
       "      <td>0.000000</td>\n",
       "      <td>0.000000</td>\n",
       "    </tr>\n",
       "    <tr>\n",
       "      <th>25%</th>\n",
       "      <td>56818.000000</td>\n",
       "      <td>20.000000</td>\n",
       "      <td>3.744900e+04</td>\n",
       "      <td>5.000000</td>\n",
       "      <td>6.000000</td>\n",
       "      <td>1.331740e+05</td>\n",
       "      <td>56818.000000</td>\n",
       "      <td>4.000000</td>\n",
       "      <td>136.000000</td>\n",
       "      <td>7.000000</td>\n",
       "      <td>7.000000</td>\n",
       "      <td>4.000000</td>\n",
       "      <td>5.000000</td>\n",
       "      <td>5.000000</td>\n",
       "      <td>3.000000</td>\n",
       "    </tr>\n",
       "    <tr>\n",
       "      <th>50%</th>\n",
       "      <td>127331.000000</td>\n",
       "      <td>30.000000</td>\n",
       "      <td>9.369800e+04</td>\n",
       "      <td>8.000000</td>\n",
       "      <td>8.000000</td>\n",
       "      <td>3.233400e+05</td>\n",
       "      <td>127331.000000</td>\n",
       "      <td>5.000000</td>\n",
       "      <td>227.200000</td>\n",
       "      <td>15.000000</td>\n",
       "      <td>18.000000</td>\n",
       "      <td>11.000000</td>\n",
       "      <td>12.000000</td>\n",
       "      <td>16.000000</td>\n",
       "      <td>7.000000</td>\n",
       "    </tr>\n",
       "    <tr>\n",
       "      <th>75%</th>\n",
       "      <td>251524.000000</td>\n",
       "      <td>50.000000</td>\n",
       "      <td>2.564110e+05</td>\n",
       "      <td>11.000000</td>\n",
       "      <td>11.000000</td>\n",
       "      <td>7.441790e+05</td>\n",
       "      <td>251524.000000</td>\n",
       "      <td>5.000000</td>\n",
       "      <td>337.300000</td>\n",
       "      <td>26.000000</td>\n",
       "      <td>46.000000</td>\n",
       "      <td>24.000000</td>\n",
       "      <td>34.000000</td>\n",
       "      <td>33.000000</td>\n",
       "      <td>11.000000</td>\n",
       "    </tr>\n",
       "    <tr>\n",
       "      <th>max</th>\n",
       "      <td>537716.000000</td>\n",
       "      <td>132.000000</td>\n",
       "      <td>2.002285e+09</td>\n",
       "      <td>20.000000</td>\n",
       "      <td>18.000000</td>\n",
       "      <td>2.002373e+09</td>\n",
       "      <td>537716.000000</td>\n",
       "      <td>5.000000</td>\n",
       "      <td>954.800000</td>\n",
       "      <td>70.000000</td>\n",
       "      <td>135.000000</td>\n",
       "      <td>64.000000</td>\n",
       "      <td>92.000000</td>\n",
       "      <td>80.000000</td>\n",
       "      <td>25.000000</td>\n",
       "    </tr>\n",
       "  </tbody>\n",
       "</table>\n",
       "</div>"
      ],
      "text/plain": [
       "                  id        minutes  contributor_id        n_steps  \\\n",
       "count  681529.000000  681529.000000    6.815290e+05  681529.000000   \n",
       "mean   165070.274238      37.183137    2.255315e+06       8.511934   \n",
       "std    130650.681980      25.243758    6.164117e+07       4.044032   \n",
       "min        45.000000       0.000000    2.700000e+01       0.000000   \n",
       "25%     56818.000000      20.000000    3.744900e+04       5.000000   \n",
       "50%    127331.000000      30.000000    9.369800e+04       8.000000   \n",
       "75%    251524.000000      50.000000    2.564110e+05      11.000000   \n",
       "max    537716.000000     132.000000    2.002285e+09      20.000000   \n",
       "\n",
       "       n_ingredients       user_id      recipe_id         rating  \\\n",
       "count  681529.000000  6.815290e+05  681529.000000  681529.000000   \n",
       "mean        8.442376  1.277264e+08  165070.274238       4.431619   \n",
       "std         3.223988  4.831046e+08  130650.681980       1.221984   \n",
       "min         1.000000  1.533000e+03      45.000000       0.000000   \n",
       "25%         6.000000  1.331740e+05   56818.000000       4.000000   \n",
       "50%         8.000000  3.233400e+05  127331.000000       5.000000   \n",
       "75%        11.000000  7.441790e+05  251524.000000       5.000000   \n",
       "max        18.000000  2.002373e+09  537716.000000       5.000000   \n",
       "\n",
       "                 cal       totalFat          sugar         sodium  \\\n",
       "count  681529.000000  681529.000000  681529.000000  681529.000000   \n",
       "mean      245.773590      17.595486      30.754819      15.813249   \n",
       "std       140.748095      14.013828      31.914752      14.847214   \n",
       "min         0.000000       0.000000       0.000000       0.000000   \n",
       "25%       136.000000       7.000000       7.000000       4.000000   \n",
       "50%       227.200000      15.000000      18.000000      11.000000   \n",
       "75%       337.300000      26.000000      46.000000      24.000000   \n",
       "max       954.800000      70.000000     135.000000      64.000000   \n",
       "\n",
       "             protein         satFat          carbs  \n",
       "count  681529.000000  681529.000000  681529.000000  \n",
       "mean       21.712812      21.425999       7.576463  \n",
       "std        22.296866      19.588747       5.717056  \n",
       "min         0.000000       0.000000       0.000000  \n",
       "25%         5.000000       5.000000       3.000000  \n",
       "50%        12.000000      16.000000       7.000000  \n",
       "75%        34.000000      33.000000      11.000000  \n",
       "max        92.000000      80.000000      25.000000  "
      ]
     },
     "execution_count": 16,
     "metadata": {},
     "output_type": "execute_result"
    }
   ],
   "source": [
    "df.describe()"
   ]
  },
  {
   "cell_type": "code",
   "execution_count": 17,
   "id": "99703115",
   "metadata": {
    "execution": {
     "iopub.execute_input": "2023-03-07T17:39:24.414084Z",
     "iopub.status.busy": "2023-03-07T17:39:24.411655Z",
     "iopub.status.idle": "2023-03-07T17:39:24.998754Z",
     "shell.execute_reply": "2023-03-07T17:39:24.997939Z"
    },
    "papermill": {
     "duration": 0.615189,
     "end_time": "2023-03-07T17:39:25.000860",
     "exception": false,
     "start_time": "2023-03-07T17:39:24.385671",
     "status": "completed"
    },
    "tags": []
   },
   "outputs": [
    {
     "data": {
      "text/html": [
       "<div>\n",
       "<style scoped>\n",
       "    .dataframe tbody tr th:only-of-type {\n",
       "        vertical-align: middle;\n",
       "    }\n",
       "\n",
       "    .dataframe tbody tr th {\n",
       "        vertical-align: top;\n",
       "    }\n",
       "\n",
       "    .dataframe thead th {\n",
       "        text-align: right;\n",
       "    }\n",
       "</style>\n",
       "<table border=\"1\" class=\"dataframe\">\n",
       "  <thead>\n",
       "    <tr style=\"text-align: right;\">\n",
       "      <th></th>\n",
       "      <th>name</th>\n",
       "      <th>id</th>\n",
       "      <th>minutes</th>\n",
       "      <th>contributor_id</th>\n",
       "      <th>submitted</th>\n",
       "      <th>tags</th>\n",
       "      <th>nutrition</th>\n",
       "      <th>n_steps</th>\n",
       "      <th>steps</th>\n",
       "      <th>description</th>\n",
       "      <th>...</th>\n",
       "      <th>date</th>\n",
       "      <th>rating</th>\n",
       "      <th>review</th>\n",
       "      <th>cal</th>\n",
       "      <th>totalFat</th>\n",
       "      <th>sugar</th>\n",
       "      <th>sodium</th>\n",
       "      <th>protein</th>\n",
       "      <th>satFat</th>\n",
       "      <th>carbs</th>\n",
       "    </tr>\n",
       "  </thead>\n",
       "  <tbody>\n",
       "    <tr>\n",
       "      <th>0</th>\n",
       "      <td>arriba   baked winter squash mexican style</td>\n",
       "      <td>137739</td>\n",
       "      <td>55</td>\n",
       "      <td>47892</td>\n",
       "      <td>2005-09-16</td>\n",
       "      <td>['60-minutes-or-less', 'time-to-make', 'course...</td>\n",
       "      <td>[51.5, 0.0, 13.0, 0.0, 2.0, 0.0, 4.0]</td>\n",
       "      <td>11</td>\n",
       "      <td>['make a choice and proceed with recipe', 'dep...</td>\n",
       "      <td>autumn is my favorite time of year to cook! th...</td>\n",
       "      <td>...</td>\n",
       "      <td>2006-02-18</td>\n",
       "      <td>5</td>\n",
       "      <td>I used an acorn squash and recipe#137681 Swee...</td>\n",
       "      <td>51.5</td>\n",
       "      <td>0.0</td>\n",
       "      <td>13.0</td>\n",
       "      <td>0.0</td>\n",
       "      <td>2.0</td>\n",
       "      <td>0.0</td>\n",
       "      <td>4.0</td>\n",
       "    </tr>\n",
       "    <tr>\n",
       "      <th>1</th>\n",
       "      <td>arriba   baked winter squash mexican style</td>\n",
       "      <td>137739</td>\n",
       "      <td>55</td>\n",
       "      <td>47892</td>\n",
       "      <td>2005-09-16</td>\n",
       "      <td>['60-minutes-or-less', 'time-to-make', 'course...</td>\n",
       "      <td>[51.5, 0.0, 13.0, 0.0, 2.0, 0.0, 4.0]</td>\n",
       "      <td>11</td>\n",
       "      <td>['make a choice and proceed with recipe', 'dep...</td>\n",
       "      <td>autumn is my favorite time of year to cook! th...</td>\n",
       "      <td>...</td>\n",
       "      <td>2010-08-21</td>\n",
       "      <td>5</td>\n",
       "      <td>This was a nice change. I used butternut squas...</td>\n",
       "      <td>51.5</td>\n",
       "      <td>0.0</td>\n",
       "      <td>13.0</td>\n",
       "      <td>0.0</td>\n",
       "      <td>2.0</td>\n",
       "      <td>0.0</td>\n",
       "      <td>4.0</td>\n",
       "    </tr>\n",
       "    <tr>\n",
       "      <th>2</th>\n",
       "      <td>arriba   baked winter squash mexican style</td>\n",
       "      <td>137739</td>\n",
       "      <td>55</td>\n",
       "      <td>47892</td>\n",
       "      <td>2005-09-16</td>\n",
       "      <td>['60-minutes-or-less', 'time-to-make', 'course...</td>\n",
       "      <td>[51.5, 0.0, 13.0, 0.0, 2.0, 0.0, 4.0]</td>\n",
       "      <td>11</td>\n",
       "      <td>['make a choice and proceed with recipe', 'dep...</td>\n",
       "      <td>autumn is my favorite time of year to cook! th...</td>\n",
       "      <td>...</td>\n",
       "      <td>2011-12-05</td>\n",
       "      <td>5</td>\n",
       "      <td>Excellent recipe! I used butternut squash and ...</td>\n",
       "      <td>51.5</td>\n",
       "      <td>0.0</td>\n",
       "      <td>13.0</td>\n",
       "      <td>0.0</td>\n",
       "      <td>2.0</td>\n",
       "      <td>0.0</td>\n",
       "      <td>4.0</td>\n",
       "    </tr>\n",
       "    <tr>\n",
       "      <th>3</th>\n",
       "      <td>a bit different  breakfast pizza</td>\n",
       "      <td>31490</td>\n",
       "      <td>30</td>\n",
       "      <td>26278</td>\n",
       "      <td>2002-06-17</td>\n",
       "      <td>['30-minutes-or-less', 'time-to-make', 'course...</td>\n",
       "      <td>[173.4, 18.0, 0.0, 17.0, 22.0, 35.0, 1.0]</td>\n",
       "      <td>9</td>\n",
       "      <td>['preheat oven to 425 degrees f', 'press dough...</td>\n",
       "      <td>this recipe calls for the crust to be prebaked...</td>\n",
       "      <td>...</td>\n",
       "      <td>2002-08-19</td>\n",
       "      <td>0</td>\n",
       "      <td>Have not tried this, but it sounds delicious. ...</td>\n",
       "      <td>173.4</td>\n",
       "      <td>18.0</td>\n",
       "      <td>0.0</td>\n",
       "      <td>17.0</td>\n",
       "      <td>22.0</td>\n",
       "      <td>35.0</td>\n",
       "      <td>1.0</td>\n",
       "    </tr>\n",
       "    <tr>\n",
       "      <th>4</th>\n",
       "      <td>a bit different  breakfast pizza</td>\n",
       "      <td>31490</td>\n",
       "      <td>30</td>\n",
       "      <td>26278</td>\n",
       "      <td>2002-06-17</td>\n",
       "      <td>['30-minutes-or-less', 'time-to-make', 'course...</td>\n",
       "      <td>[173.4, 18.0, 0.0, 17.0, 22.0, 35.0, 1.0]</td>\n",
       "      <td>9</td>\n",
       "      <td>['preheat oven to 425 degrees f', 'press dough...</td>\n",
       "      <td>this recipe calls for the crust to be prebaked...</td>\n",
       "      <td>...</td>\n",
       "      <td>2006-08-27</td>\n",
       "      <td>5</td>\n",
       "      <td>This recipe was wonderful.  Instead of using t...</td>\n",
       "      <td>173.4</td>\n",
       "      <td>18.0</td>\n",
       "      <td>0.0</td>\n",
       "      <td>17.0</td>\n",
       "      <td>22.0</td>\n",
       "      <td>35.0</td>\n",
       "      <td>1.0</td>\n",
       "    </tr>\n",
       "    <tr>\n",
       "      <th>...</th>\n",
       "      <td>...</td>\n",
       "      <td>...</td>\n",
       "      <td>...</td>\n",
       "      <td>...</td>\n",
       "      <td>...</td>\n",
       "      <td>...</td>\n",
       "      <td>...</td>\n",
       "      <td>...</td>\n",
       "      <td>...</td>\n",
       "      <td>...</td>\n",
       "      <td>...</td>\n",
       "      <td>...</td>\n",
       "      <td>...</td>\n",
       "      <td>...</td>\n",
       "      <td>...</td>\n",
       "      <td>...</td>\n",
       "      <td>...</td>\n",
       "      <td>...</td>\n",
       "      <td>...</td>\n",
       "      <td>...</td>\n",
       "      <td>...</td>\n",
       "    </tr>\n",
       "    <tr>\n",
       "      <th>1132362</th>\n",
       "      <td>zydeco ya ya deviled eggs</td>\n",
       "      <td>308080</td>\n",
       "      <td>40</td>\n",
       "      <td>37779</td>\n",
       "      <td>2008-06-07</td>\n",
       "      <td>['60-minutes-or-less', 'time-to-make', 'course...</td>\n",
       "      <td>[59.2, 6.0, 2.0, 3.0, 6.0, 5.0, 0.0]</td>\n",
       "      <td>7</td>\n",
       "      <td>['in a bowl , combine the mashed yolks and may...</td>\n",
       "      <td>deviled eggs, cajun-style</td>\n",
       "      <td>...</td>\n",
       "      <td>2009-10-14</td>\n",
       "      <td>5</td>\n",
       "      <td>These were very good. I meant to add some jala...</td>\n",
       "      <td>59.2</td>\n",
       "      <td>6.0</td>\n",
       "      <td>2.0</td>\n",
       "      <td>3.0</td>\n",
       "      <td>6.0</td>\n",
       "      <td>5.0</td>\n",
       "      <td>0.0</td>\n",
       "    </tr>\n",
       "    <tr>\n",
       "      <th>1132363</th>\n",
       "      <td>cookies by design   cookies on a stick</td>\n",
       "      <td>298512</td>\n",
       "      <td>29</td>\n",
       "      <td>506822</td>\n",
       "      <td>2008-04-15</td>\n",
       "      <td>['30-minutes-or-less', 'time-to-make', 'course...</td>\n",
       "      <td>[188.0, 11.0, 57.0, 11.0, 7.0, 21.0, 9.0]</td>\n",
       "      <td>9</td>\n",
       "      <td>['place melted butter in a large mixing bowl a...</td>\n",
       "      <td>i've heard of the 'cookies by design' company,...</td>\n",
       "      <td>...</td>\n",
       "      <td>2008-05-02</td>\n",
       "      <td>1</td>\n",
       "      <td>I would rate this a zero if I could. I followe...</td>\n",
       "      <td>188.0</td>\n",
       "      <td>11.0</td>\n",
       "      <td>57.0</td>\n",
       "      <td>11.0</td>\n",
       "      <td>7.0</td>\n",
       "      <td>21.0</td>\n",
       "      <td>9.0</td>\n",
       "    </tr>\n",
       "    <tr>\n",
       "      <th>1132364</th>\n",
       "      <td>cookies by design   sugar shortbread cookies</td>\n",
       "      <td>298509</td>\n",
       "      <td>20</td>\n",
       "      <td>506822</td>\n",
       "      <td>2008-04-15</td>\n",
       "      <td>['30-minutes-or-less', 'time-to-make', 'course...</td>\n",
       "      <td>[174.9, 14.0, 33.0, 4.0, 4.0, 11.0, 6.0]</td>\n",
       "      <td>5</td>\n",
       "      <td>['whip sugar and shortening in a large bowl , ...</td>\n",
       "      <td>i've heard of the 'cookies by design' company,...</td>\n",
       "      <td>...</td>\n",
       "      <td>2008-06-19</td>\n",
       "      <td>1</td>\n",
       "      <td>This recipe tastes nothing like the Cookies by...</td>\n",
       "      <td>174.9</td>\n",
       "      <td>14.0</td>\n",
       "      <td>33.0</td>\n",
       "      <td>4.0</td>\n",
       "      <td>4.0</td>\n",
       "      <td>11.0</td>\n",
       "      <td>6.0</td>\n",
       "    </tr>\n",
       "    <tr>\n",
       "      <th>1132365</th>\n",
       "      <td>cookies by design   sugar shortbread cookies</td>\n",
       "      <td>298509</td>\n",
       "      <td>20</td>\n",
       "      <td>506822</td>\n",
       "      <td>2008-04-15</td>\n",
       "      <td>['30-minutes-or-less', 'time-to-make', 'course...</td>\n",
       "      <td>[174.9, 14.0, 33.0, 4.0, 4.0, 11.0, 6.0]</td>\n",
       "      <td>5</td>\n",
       "      <td>['whip sugar and shortening in a large bowl , ...</td>\n",
       "      <td>i've heard of the 'cookies by design' company,...</td>\n",
       "      <td>...</td>\n",
       "      <td>2010-02-08</td>\n",
       "      <td>5</td>\n",
       "      <td>yummy cookies, i love this recipe me and my sm...</td>\n",
       "      <td>174.9</td>\n",
       "      <td>14.0</td>\n",
       "      <td>33.0</td>\n",
       "      <td>4.0</td>\n",
       "      <td>4.0</td>\n",
       "      <td>11.0</td>\n",
       "      <td>6.0</td>\n",
       "    </tr>\n",
       "    <tr>\n",
       "      <th>1132366</th>\n",
       "      <td>cookies by design   sugar shortbread cookies</td>\n",
       "      <td>298509</td>\n",
       "      <td>20</td>\n",
       "      <td>506822</td>\n",
       "      <td>2008-04-15</td>\n",
       "      <td>['30-minutes-or-less', 'time-to-make', 'course...</td>\n",
       "      <td>[174.9, 14.0, 33.0, 4.0, 4.0, 11.0, 6.0]</td>\n",
       "      <td>5</td>\n",
       "      <td>['whip sugar and shortening in a large bowl , ...</td>\n",
       "      <td>i've heard of the 'cookies by design' company,...</td>\n",
       "      <td>...</td>\n",
       "      <td>2014-11-01</td>\n",
       "      <td>0</td>\n",
       "      <td>I work at a Cookies By Design and can say this...</td>\n",
       "      <td>174.9</td>\n",
       "      <td>14.0</td>\n",
       "      <td>33.0</td>\n",
       "      <td>4.0</td>\n",
       "      <td>4.0</td>\n",
       "      <td>11.0</td>\n",
       "      <td>6.0</td>\n",
       "    </tr>\n",
       "  </tbody>\n",
       "</table>\n",
       "<p>681529 rows × 24 columns</p>\n",
       "</div>"
      ],
      "text/plain": [
       "                                                 name      id  minutes  \\\n",
       "0          arriba   baked winter squash mexican style  137739       55   \n",
       "1          arriba   baked winter squash mexican style  137739       55   \n",
       "2          arriba   baked winter squash mexican style  137739       55   \n",
       "3                    a bit different  breakfast pizza   31490       30   \n",
       "4                    a bit different  breakfast pizza   31490       30   \n",
       "...                                               ...     ...      ...   \n",
       "1132362                     zydeco ya ya deviled eggs  308080       40   \n",
       "1132363        cookies by design   cookies on a stick  298512       29   \n",
       "1132364  cookies by design   sugar shortbread cookies  298509       20   \n",
       "1132365  cookies by design   sugar shortbread cookies  298509       20   \n",
       "1132366  cookies by design   sugar shortbread cookies  298509       20   \n",
       "\n",
       "         contributor_id   submitted  \\\n",
       "0                 47892  2005-09-16   \n",
       "1                 47892  2005-09-16   \n",
       "2                 47892  2005-09-16   \n",
       "3                 26278  2002-06-17   \n",
       "4                 26278  2002-06-17   \n",
       "...                 ...         ...   \n",
       "1132362           37779  2008-06-07   \n",
       "1132363          506822  2008-04-15   \n",
       "1132364          506822  2008-04-15   \n",
       "1132365          506822  2008-04-15   \n",
       "1132366          506822  2008-04-15   \n",
       "\n",
       "                                                      tags  \\\n",
       "0        ['60-minutes-or-less', 'time-to-make', 'course...   \n",
       "1        ['60-minutes-or-less', 'time-to-make', 'course...   \n",
       "2        ['60-minutes-or-less', 'time-to-make', 'course...   \n",
       "3        ['30-minutes-or-less', 'time-to-make', 'course...   \n",
       "4        ['30-minutes-or-less', 'time-to-make', 'course...   \n",
       "...                                                    ...   \n",
       "1132362  ['60-minutes-or-less', 'time-to-make', 'course...   \n",
       "1132363  ['30-minutes-or-less', 'time-to-make', 'course...   \n",
       "1132364  ['30-minutes-or-less', 'time-to-make', 'course...   \n",
       "1132365  ['30-minutes-or-less', 'time-to-make', 'course...   \n",
       "1132366  ['30-minutes-or-less', 'time-to-make', 'course...   \n",
       "\n",
       "                                         nutrition  n_steps  \\\n",
       "0            [51.5, 0.0, 13.0, 0.0, 2.0, 0.0, 4.0]       11   \n",
       "1            [51.5, 0.0, 13.0, 0.0, 2.0, 0.0, 4.0]       11   \n",
       "2            [51.5, 0.0, 13.0, 0.0, 2.0, 0.0, 4.0]       11   \n",
       "3        [173.4, 18.0, 0.0, 17.0, 22.0, 35.0, 1.0]        9   \n",
       "4        [173.4, 18.0, 0.0, 17.0, 22.0, 35.0, 1.0]        9   \n",
       "...                                            ...      ...   \n",
       "1132362       [59.2, 6.0, 2.0, 3.0, 6.0, 5.0, 0.0]        7   \n",
       "1132363  [188.0, 11.0, 57.0, 11.0, 7.0, 21.0, 9.0]        9   \n",
       "1132364   [174.9, 14.0, 33.0, 4.0, 4.0, 11.0, 6.0]        5   \n",
       "1132365   [174.9, 14.0, 33.0, 4.0, 4.0, 11.0, 6.0]        5   \n",
       "1132366   [174.9, 14.0, 33.0, 4.0, 4.0, 11.0, 6.0]        5   \n",
       "\n",
       "                                                     steps  \\\n",
       "0        ['make a choice and proceed with recipe', 'dep...   \n",
       "1        ['make a choice and proceed with recipe', 'dep...   \n",
       "2        ['make a choice and proceed with recipe', 'dep...   \n",
       "3        ['preheat oven to 425 degrees f', 'press dough...   \n",
       "4        ['preheat oven to 425 degrees f', 'press dough...   \n",
       "...                                                    ...   \n",
       "1132362  ['in a bowl , combine the mashed yolks and may...   \n",
       "1132363  ['place melted butter in a large mixing bowl a...   \n",
       "1132364  ['whip sugar and shortening in a large bowl , ...   \n",
       "1132365  ['whip sugar and shortening in a large bowl , ...   \n",
       "1132366  ['whip sugar and shortening in a large bowl , ...   \n",
       "\n",
       "                                               description  ...        date  \\\n",
       "0        autumn is my favorite time of year to cook! th...  ...  2006-02-18   \n",
       "1        autumn is my favorite time of year to cook! th...  ...  2010-08-21   \n",
       "2        autumn is my favorite time of year to cook! th...  ...  2011-12-05   \n",
       "3        this recipe calls for the crust to be prebaked...  ...  2002-08-19   \n",
       "4        this recipe calls for the crust to be prebaked...  ...  2006-08-27   \n",
       "...                                                    ...  ...         ...   \n",
       "1132362                          deviled eggs, cajun-style  ...  2009-10-14   \n",
       "1132363  i've heard of the 'cookies by design' company,...  ...  2008-05-02   \n",
       "1132364  i've heard of the 'cookies by design' company,...  ...  2008-06-19   \n",
       "1132365  i've heard of the 'cookies by design' company,...  ...  2010-02-08   \n",
       "1132366  i've heard of the 'cookies by design' company,...  ...  2014-11-01   \n",
       "\n",
       "         rating                                             review    cal  \\\n",
       "0             5   I used an acorn squash and recipe#137681 Swee...   51.5   \n",
       "1             5  This was a nice change. I used butternut squas...   51.5   \n",
       "2             5  Excellent recipe! I used butternut squash and ...   51.5   \n",
       "3             0  Have not tried this, but it sounds delicious. ...  173.4   \n",
       "4             5  This recipe was wonderful.  Instead of using t...  173.4   \n",
       "...         ...                                                ...    ...   \n",
       "1132362       5  These were very good. I meant to add some jala...   59.2   \n",
       "1132363       1  I would rate this a zero if I could. I followe...  188.0   \n",
       "1132364       1  This recipe tastes nothing like the Cookies by...  174.9   \n",
       "1132365       5  yummy cookies, i love this recipe me and my sm...  174.9   \n",
       "1132366       0  I work at a Cookies By Design and can say this...  174.9   \n",
       "\n",
       "        totalFat  sugar sodium  protein  satFat  carbs  \n",
       "0            0.0   13.0    0.0      2.0     0.0    4.0  \n",
       "1            0.0   13.0    0.0      2.0     0.0    4.0  \n",
       "2            0.0   13.0    0.0      2.0     0.0    4.0  \n",
       "3           18.0    0.0   17.0     22.0    35.0    1.0  \n",
       "4           18.0    0.0   17.0     22.0    35.0    1.0  \n",
       "...          ...    ...    ...      ...     ...    ...  \n",
       "1132362      6.0    2.0    3.0      6.0     5.0    0.0  \n",
       "1132363     11.0   57.0   11.0      7.0    21.0    9.0  \n",
       "1132364     14.0   33.0    4.0      4.0    11.0    6.0  \n",
       "1132365     14.0   33.0    4.0      4.0    11.0    6.0  \n",
       "1132366     14.0   33.0    4.0      4.0    11.0    6.0  \n",
       "\n",
       "[681529 rows x 24 columns]"
      ]
     },
     "execution_count": 17,
     "metadata": {},
     "output_type": "execute_result"
    }
   ],
   "source": [
    "df"
   ]
  },
  {
   "cell_type": "code",
   "execution_count": 18,
   "id": "d42e3bb3",
   "metadata": {
    "execution": {
     "iopub.execute_input": "2023-03-07T17:39:25.041954Z",
     "iopub.status.busy": "2023-03-07T17:39:25.041454Z",
     "iopub.status.idle": "2023-03-07T17:39:26.736938Z",
     "shell.execute_reply": "2023-03-07T17:39:26.735625Z"
    },
    "papermill": {
     "duration": 1.718632,
     "end_time": "2023-03-07T17:39:26.739478",
     "exception": false,
     "start_time": "2023-03-07T17:39:25.020846",
     "status": "completed"
    },
    "tags": []
   },
   "outputs": [],
   "source": [
    "#create a file\n",
    "picklefile = open('data_without_outliers.pkl', 'wb')\n",
    "#pickle the dataframe\n",
    "pickle.dump(df, picklefile)\n"
   ]
  },
  {
   "cell_type": "code",
   "execution_count": 19,
   "id": "45271a29",
   "metadata": {
    "execution": {
     "iopub.execute_input": "2023-03-07T17:39:26.783350Z",
     "iopub.status.busy": "2023-03-07T17:39:26.782416Z",
     "iopub.status.idle": "2023-03-07T17:39:26.786949Z",
     "shell.execute_reply": "2023-03-07T17:39:26.786136Z"
    },
    "papermill": {
     "duration": 0.030317,
     "end_time": "2023-03-07T17:39:26.788842",
     "exception": false,
     "start_time": "2023-03-07T17:39:26.758525",
     "status": "completed"
    },
    "tags": []
   },
   "outputs": [],
   "source": [
    "#close file\n",
    "picklefile.close()"
   ]
  },
  {
   "cell_type": "code",
   "execution_count": 20,
   "id": "4d6623fd",
   "metadata": {
    "execution": {
     "iopub.execute_input": "2023-03-07T17:39:26.830993Z",
     "iopub.status.busy": "2023-03-07T17:39:26.830656Z",
     "iopub.status.idle": "2023-03-07T17:39:26.901268Z",
     "shell.execute_reply": "2023-03-07T17:39:26.900344Z"
    },
    "papermill": {
     "duration": 0.093236,
     "end_time": "2023-03-07T17:39:26.903555",
     "exception": false,
     "start_time": "2023-03-07T17:39:26.810319",
     "status": "completed"
    },
    "tags": []
   },
   "outputs": [],
   "source": [
    "\n",
    "data = pd.DataFrame().assign(user_id=df['user_id'], recipe_id=df['recipe_id'], date=df['date'], rating=df['rating'], review=df['review'])\n",
    "\n"
   ]
  },
  {
   "cell_type": "code",
   "execution_count": 21,
   "id": "059814cd",
   "metadata": {
    "execution": {
     "iopub.execute_input": "2023-03-07T17:39:26.943445Z",
     "iopub.status.busy": "2023-03-07T17:39:26.942472Z",
     "iopub.status.idle": "2023-03-07T17:39:26.955622Z",
     "shell.execute_reply": "2023-03-07T17:39:26.954694Z"
    },
    "papermill": {
     "duration": 0.034815,
     "end_time": "2023-03-07T17:39:26.957624",
     "exception": false,
     "start_time": "2023-03-07T17:39:26.922809",
     "status": "completed"
    },
    "tags": []
   },
   "outputs": [
    {
     "data": {
      "text/html": [
       "<div>\n",
       "<style scoped>\n",
       "    .dataframe tbody tr th:only-of-type {\n",
       "        vertical-align: middle;\n",
       "    }\n",
       "\n",
       "    .dataframe tbody tr th {\n",
       "        vertical-align: top;\n",
       "    }\n",
       "\n",
       "    .dataframe thead th {\n",
       "        text-align: right;\n",
       "    }\n",
       "</style>\n",
       "<table border=\"1\" class=\"dataframe\">\n",
       "  <thead>\n",
       "    <tr style=\"text-align: right;\">\n",
       "      <th></th>\n",
       "      <th>user_id</th>\n",
       "      <th>recipe_id</th>\n",
       "      <th>date</th>\n",
       "      <th>rating</th>\n",
       "      <th>review</th>\n",
       "    </tr>\n",
       "  </thead>\n",
       "  <tbody>\n",
       "    <tr>\n",
       "      <th>0</th>\n",
       "      <td>4470</td>\n",
       "      <td>137739</td>\n",
       "      <td>2006-02-18</td>\n",
       "      <td>5</td>\n",
       "      <td>I used an acorn squash and recipe#137681 Swee...</td>\n",
       "    </tr>\n",
       "    <tr>\n",
       "      <th>1</th>\n",
       "      <td>593927</td>\n",
       "      <td>137739</td>\n",
       "      <td>2010-08-21</td>\n",
       "      <td>5</td>\n",
       "      <td>This was a nice change. I used butternut squas...</td>\n",
       "    </tr>\n",
       "    <tr>\n",
       "      <th>2</th>\n",
       "      <td>178427</td>\n",
       "      <td>137739</td>\n",
       "      <td>2011-12-05</td>\n",
       "      <td>5</td>\n",
       "      <td>Excellent recipe! I used butternut squash and ...</td>\n",
       "    </tr>\n",
       "    <tr>\n",
       "      <th>3</th>\n",
       "      <td>28603</td>\n",
       "      <td>31490</td>\n",
       "      <td>2002-08-19</td>\n",
       "      <td>0</td>\n",
       "      <td>Have not tried this, but it sounds delicious. ...</td>\n",
       "    </tr>\n",
       "    <tr>\n",
       "      <th>4</th>\n",
       "      <td>346277</td>\n",
       "      <td>31490</td>\n",
       "      <td>2006-08-27</td>\n",
       "      <td>5</td>\n",
       "      <td>This recipe was wonderful.  Instead of using t...</td>\n",
       "    </tr>\n",
       "    <tr>\n",
       "      <th>...</th>\n",
       "      <td>...</td>\n",
       "      <td>...</td>\n",
       "      <td>...</td>\n",
       "      <td>...</td>\n",
       "      <td>...</td>\n",
       "    </tr>\n",
       "    <tr>\n",
       "      <th>1132362</th>\n",
       "      <td>844554</td>\n",
       "      <td>308080</td>\n",
       "      <td>2009-10-14</td>\n",
       "      <td>5</td>\n",
       "      <td>These were very good. I meant to add some jala...</td>\n",
       "    </tr>\n",
       "    <tr>\n",
       "      <th>1132363</th>\n",
       "      <td>804234</td>\n",
       "      <td>298512</td>\n",
       "      <td>2008-05-02</td>\n",
       "      <td>1</td>\n",
       "      <td>I would rate this a zero if I could. I followe...</td>\n",
       "    </tr>\n",
       "    <tr>\n",
       "      <th>1132364</th>\n",
       "      <td>866651</td>\n",
       "      <td>298509</td>\n",
       "      <td>2008-06-19</td>\n",
       "      <td>1</td>\n",
       "      <td>This recipe tastes nothing like the Cookies by...</td>\n",
       "    </tr>\n",
       "    <tr>\n",
       "      <th>1132365</th>\n",
       "      <td>1546277</td>\n",
       "      <td>298509</td>\n",
       "      <td>2010-02-08</td>\n",
       "      <td>5</td>\n",
       "      <td>yummy cookies, i love this recipe me and my sm...</td>\n",
       "    </tr>\n",
       "    <tr>\n",
       "      <th>1132366</th>\n",
       "      <td>1803287907</td>\n",
       "      <td>298509</td>\n",
       "      <td>2014-11-01</td>\n",
       "      <td>0</td>\n",
       "      <td>I work at a Cookies By Design and can say this...</td>\n",
       "    </tr>\n",
       "  </tbody>\n",
       "</table>\n",
       "<p>681529 rows × 5 columns</p>\n",
       "</div>"
      ],
      "text/plain": [
       "            user_id  recipe_id        date  rating  \\\n",
       "0              4470     137739  2006-02-18       5   \n",
       "1            593927     137739  2010-08-21       5   \n",
       "2            178427     137739  2011-12-05       5   \n",
       "3             28603      31490  2002-08-19       0   \n",
       "4            346277      31490  2006-08-27       5   \n",
       "...             ...        ...         ...     ...   \n",
       "1132362      844554     308080  2009-10-14       5   \n",
       "1132363      804234     298512  2008-05-02       1   \n",
       "1132364      866651     298509  2008-06-19       1   \n",
       "1132365     1546277     298509  2010-02-08       5   \n",
       "1132366  1803287907     298509  2014-11-01       0   \n",
       "\n",
       "                                                    review  \n",
       "0         I used an acorn squash and recipe#137681 Swee...  \n",
       "1        This was a nice change. I used butternut squas...  \n",
       "2        Excellent recipe! I used butternut squash and ...  \n",
       "3        Have not tried this, but it sounds delicious. ...  \n",
       "4        This recipe was wonderful.  Instead of using t...  \n",
       "...                                                    ...  \n",
       "1132362  These were very good. I meant to add some jala...  \n",
       "1132363  I would rate this a zero if I could. I followe...  \n",
       "1132364  This recipe tastes nothing like the Cookies by...  \n",
       "1132365  yummy cookies, i love this recipe me and my sm...  \n",
       "1132366  I work at a Cookies By Design and can say this...  \n",
       "\n",
       "[681529 rows x 5 columns]"
      ]
     },
     "execution_count": 21,
     "metadata": {},
     "output_type": "execute_result"
    }
   ],
   "source": [
    "data"
   ]
  },
  {
   "cell_type": "code",
   "execution_count": 22,
   "id": "ecf506da",
   "metadata": {
    "execution": {
     "iopub.execute_input": "2023-03-07T17:39:26.997550Z",
     "iopub.status.busy": "2023-03-07T17:39:26.997273Z",
     "iopub.status.idle": "2023-03-07T17:39:27.153907Z",
     "shell.execute_reply": "2023-03-07T17:39:27.153010Z"
    },
    "papermill": {
     "duration": 0.179003,
     "end_time": "2023-03-07T17:39:27.156387",
     "exception": false,
     "start_time": "2023-03-07T17:39:26.977384",
     "status": "completed"
    },
    "tags": []
   },
   "outputs": [
    {
     "name": "stdout",
     "output_type": "stream",
     "text": [
      "<class 'pandas.core.frame.DataFrame'>\n",
      "Int64Index: 681529 entries, 0 to 1132366\n",
      "Data columns (total 5 columns):\n",
      " #   Column     Non-Null Count   Dtype \n",
      "---  ------     --------------   ----- \n",
      " 0   user_id    681529 non-null  int64 \n",
      " 1   recipe_id  681529 non-null  int64 \n",
      " 2   date       681529 non-null  object\n",
      " 3   rating     681529 non-null  int64 \n",
      " 4   review     681443 non-null  object\n",
      "dtypes: int64(3), object(2)\n",
      "memory usage: 47.3+ MB\n"
     ]
    }
   ],
   "source": [
    "data.info()"
   ]
  },
  {
   "cell_type": "markdown",
   "id": "8cb580f4",
   "metadata": {
    "papermill": {
     "duration": 0.020267,
     "end_time": "2023-03-07T17:39:27.197054",
     "exception": false,
     "start_time": "2023-03-07T17:39:27.176787",
     "status": "completed"
    },
    "tags": []
   },
   "source": [
    "### Checking for NaN values"
   ]
  },
  {
   "cell_type": "code",
   "execution_count": 23,
   "id": "d85ead12",
   "metadata": {
    "execution": {
     "iopub.execute_input": "2023-03-07T17:39:27.237179Z",
     "iopub.status.busy": "2023-03-07T17:39:27.236771Z",
     "iopub.status.idle": "2023-03-07T17:39:27.524697Z",
     "shell.execute_reply": "2023-03-07T17:39:27.524074Z"
    },
    "papermill": {
     "duration": 0.31177,
     "end_time": "2023-03-07T17:39:27.527596",
     "exception": false,
     "start_time": "2023-03-07T17:39:27.215826",
     "status": "completed"
    },
    "tags": []
   },
   "outputs": [
    {
     "data": {
      "text/plain": [
       "(681443, 5)"
      ]
     },
     "execution_count": 23,
     "metadata": {},
     "output_type": "execute_result"
    }
   ],
   "source": [
    "data = data.dropna(axis=0, subset=['review','date'])\n",
    "data.shape"
   ]
  },
  {
   "cell_type": "code",
   "execution_count": 24,
   "id": "fdccfa59",
   "metadata": {
    "execution": {
     "iopub.execute_input": "2023-03-07T17:39:27.569915Z",
     "iopub.status.busy": "2023-03-07T17:39:27.569480Z",
     "iopub.status.idle": "2023-03-07T17:39:27.718734Z",
     "shell.execute_reply": "2023-03-07T17:39:27.717617Z"
    },
    "papermill": {
     "duration": 0.171966,
     "end_time": "2023-03-07T17:39:27.721157",
     "exception": false,
     "start_time": "2023-03-07T17:39:27.549191",
     "status": "completed"
    },
    "tags": []
   },
   "outputs": [
    {
     "name": "stdout",
     "output_type": "stream",
     "text": [
      "No of NaN values in our dataframe:  0\n"
     ]
    }
   ],
   "source": [
    "print(\"No of NaN values in our dataframe: \", sum(data.isnull().any()))"
   ]
  },
  {
   "cell_type": "markdown",
   "id": "81ab9af5",
   "metadata": {
    "papermill": {
     "duration": 0.019229,
     "end_time": "2023-03-07T17:39:27.760690",
     "exception": false,
     "start_time": "2023-03-07T17:39:27.741461",
     "status": "completed"
    },
    "tags": []
   },
   "source": [
    "### Removing duplicates"
   ]
  },
  {
   "cell_type": "code",
   "execution_count": 25,
   "id": "a4e0cf8e",
   "metadata": {
    "execution": {
     "iopub.execute_input": "2023-03-07T17:39:27.802574Z",
     "iopub.status.busy": "2023-03-07T17:39:27.801860Z",
     "iopub.status.idle": "2023-03-07T17:39:27.922204Z",
     "shell.execute_reply": "2023-03-07T17:39:27.921180Z"
    },
    "papermill": {
     "duration": 0.144939,
     "end_time": "2023-03-07T17:39:27.925010",
     "exception": false,
     "start_time": "2023-03-07T17:39:27.780071",
     "status": "completed"
    },
    "tags": []
   },
   "outputs": [
    {
     "name": "stdout",
     "output_type": "stream",
     "text": [
      "There are 0 duplicate rating entries in the data..\n"
     ]
    }
   ],
   "source": [
    "dup_bool = data.duplicated(['user_id','recipe_id','rating'])\n",
    "dups = sum(dup_bool) # by considering all columns..( including timestamp)\n",
    "print(\"There are {} duplicate rating entries in the data..\".format(dups))"
   ]
  },
  {
   "cell_type": "markdown",
   "id": "374ad486",
   "metadata": {
    "papermill": {
     "duration": 0.02037,
     "end_time": "2023-03-07T17:39:27.966588",
     "exception": false,
     "start_time": "2023-03-07T17:39:27.946218",
     "status": "completed"
    },
    "tags": []
   },
   "source": [
    "### Basic Statistics (#Ratings, #Users, and #Recipes)"
   ]
  },
  {
   "cell_type": "code",
   "execution_count": 26,
   "id": "8e3932c6",
   "metadata": {
    "execution": {
     "iopub.execute_input": "2023-03-07T17:39:28.007869Z",
     "iopub.status.busy": "2023-03-07T17:39:28.007521Z",
     "iopub.status.idle": "2023-03-07T17:39:28.082645Z",
     "shell.execute_reply": "2023-03-07T17:39:28.081279Z"
    },
    "papermill": {
     "duration": 0.098533,
     "end_time": "2023-03-07T17:39:28.084833",
     "exception": false,
     "start_time": "2023-03-07T17:39:27.986300",
     "status": "completed"
    },
    "tags": []
   },
   "outputs": [
    {
     "name": "stdout",
     "output_type": "stream",
     "text": [
      "Total data \n",
      "--------------------------------------------------\n",
      "\n",
      "Total no of ratings : 681443\n",
      "Total No of Users   : 144175\n",
      "Total No of Recipes  : 139301\n"
     ]
    }
   ],
   "source": [
    "print(\"Total data \")\n",
    "print(\"-\"*50)\n",
    "print(\"\\nTotal no of ratings :\",data.shape[0])\n",
    "print(\"Total No of Users   :\", len(np.unique(data.user_id)))\n",
    "print(\"Total No of Recipes  :\", len(np.unique(data.recipe_id)))"
   ]
  },
  {
   "cell_type": "code",
   "execution_count": 27,
   "id": "db8c838a",
   "metadata": {
    "execution": {
     "iopub.execute_input": "2023-03-07T17:39:28.127001Z",
     "iopub.status.busy": "2023-03-07T17:39:28.126119Z",
     "iopub.status.idle": "2023-03-07T17:39:28.876800Z",
     "shell.execute_reply": "2023-03-07T17:39:28.873219Z"
    },
    "papermill": {
     "duration": 0.774833,
     "end_time": "2023-03-07T17:39:28.879488",
     "exception": false,
     "start_time": "2023-03-07T17:39:28.104655",
     "status": "completed"
    },
    "tags": []
   },
   "outputs": [
    {
     "data": {
      "text/html": [
       "<div>\n",
       "<style scoped>\n",
       "    .dataframe tbody tr th:only-of-type {\n",
       "        vertical-align: middle;\n",
       "    }\n",
       "\n",
       "    .dataframe tbody tr th {\n",
       "        vertical-align: top;\n",
       "    }\n",
       "\n",
       "    .dataframe thead th {\n",
       "        text-align: right;\n",
       "    }\n",
       "</style>\n",
       "<table border=\"1\" class=\"dataframe\">\n",
       "  <thead>\n",
       "    <tr style=\"text-align: right;\">\n",
       "      <th></th>\n",
       "      <th>user_id</th>\n",
       "      <th>recipe_id</th>\n",
       "      <th>date</th>\n",
       "      <th>rating</th>\n",
       "      <th>review</th>\n",
       "    </tr>\n",
       "  </thead>\n",
       "  <tbody>\n",
       "    <tr>\n",
       "      <th>0</th>\n",
       "      <td>4470</td>\n",
       "      <td>137739</td>\n",
       "      <td>2006-02-18</td>\n",
       "      <td>5</td>\n",
       "      <td>I used an acorn squash and recipe#137681 Swee...</td>\n",
       "    </tr>\n",
       "    <tr>\n",
       "      <th>1</th>\n",
       "      <td>593927</td>\n",
       "      <td>137739</td>\n",
       "      <td>2010-08-21</td>\n",
       "      <td>5</td>\n",
       "      <td>This was a nice change. I used butternut squas...</td>\n",
       "    </tr>\n",
       "    <tr>\n",
       "      <th>2</th>\n",
       "      <td>178427</td>\n",
       "      <td>137739</td>\n",
       "      <td>2011-12-05</td>\n",
       "      <td>5</td>\n",
       "      <td>Excellent recipe! I used butternut squash and ...</td>\n",
       "    </tr>\n",
       "    <tr>\n",
       "      <th>3</th>\n",
       "      <td>28603</td>\n",
       "      <td>31490</td>\n",
       "      <td>2002-08-19</td>\n",
       "      <td>0</td>\n",
       "      <td>Have not tried this, but it sounds delicious. ...</td>\n",
       "    </tr>\n",
       "    <tr>\n",
       "      <th>4</th>\n",
       "      <td>346277</td>\n",
       "      <td>31490</td>\n",
       "      <td>2006-08-27</td>\n",
       "      <td>5</td>\n",
       "      <td>This recipe was wonderful.  Instead of using t...</td>\n",
       "    </tr>\n",
       "    <tr>\n",
       "      <th>...</th>\n",
       "      <td>...</td>\n",
       "      <td>...</td>\n",
       "      <td>...</td>\n",
       "      <td>...</td>\n",
       "      <td>...</td>\n",
       "    </tr>\n",
       "    <tr>\n",
       "      <th>1132362</th>\n",
       "      <td>844554</td>\n",
       "      <td>308080</td>\n",
       "      <td>2009-10-14</td>\n",
       "      <td>5</td>\n",
       "      <td>These were very good. I meant to add some jala...</td>\n",
       "    </tr>\n",
       "    <tr>\n",
       "      <th>1132363</th>\n",
       "      <td>804234</td>\n",
       "      <td>298512</td>\n",
       "      <td>2008-05-02</td>\n",
       "      <td>1</td>\n",
       "      <td>I would rate this a zero if I could. I followe...</td>\n",
       "    </tr>\n",
       "    <tr>\n",
       "      <th>1132364</th>\n",
       "      <td>866651</td>\n",
       "      <td>298509</td>\n",
       "      <td>2008-06-19</td>\n",
       "      <td>1</td>\n",
       "      <td>This recipe tastes nothing like the Cookies by...</td>\n",
       "    </tr>\n",
       "    <tr>\n",
       "      <th>1132365</th>\n",
       "      <td>1546277</td>\n",
       "      <td>298509</td>\n",
       "      <td>2010-02-08</td>\n",
       "      <td>5</td>\n",
       "      <td>yummy cookies, i love this recipe me and my sm...</td>\n",
       "    </tr>\n",
       "    <tr>\n",
       "      <th>1132366</th>\n",
       "      <td>1803287907</td>\n",
       "      <td>298509</td>\n",
       "      <td>2014-11-01</td>\n",
       "      <td>0</td>\n",
       "      <td>I work at a Cookies By Design and can say this...</td>\n",
       "    </tr>\n",
       "  </tbody>\n",
       "</table>\n",
       "<p>681443 rows × 5 columns</p>\n",
       "</div>"
      ],
      "text/plain": [
       "            user_id  recipe_id        date  rating  \\\n",
       "0              4470     137739  2006-02-18       5   \n",
       "1            593927     137739  2010-08-21       5   \n",
       "2            178427     137739  2011-12-05       5   \n",
       "3             28603      31490  2002-08-19       0   \n",
       "4            346277      31490  2006-08-27       5   \n",
       "...             ...        ...         ...     ...   \n",
       "1132362      844554     308080  2009-10-14       5   \n",
       "1132363      804234     298512  2008-05-02       1   \n",
       "1132364      866651     298509  2008-06-19       1   \n",
       "1132365     1546277     298509  2010-02-08       5   \n",
       "1132366  1803287907     298509  2014-11-01       0   \n",
       "\n",
       "                                                    review  \n",
       "0         I used an acorn squash and recipe#137681 Swee...  \n",
       "1        This was a nice change. I used butternut squas...  \n",
       "2        Excellent recipe! I used butternut squash and ...  \n",
       "3        Have not tried this, but it sounds delicious. ...  \n",
       "4        This recipe was wonderful.  Instead of using t...  \n",
       "...                                                    ...  \n",
       "1132362  These were very good. I meant to add some jala...  \n",
       "1132363  I would rate this a zero if I could. I followe...  \n",
       "1132364  This recipe tastes nothing like the Cookies by...  \n",
       "1132365  yummy cookies, i love this recipe me and my sm...  \n",
       "1132366  I work at a Cookies By Design and can say this...  \n",
       "\n",
       "[681443 rows x 5 columns]"
      ]
     },
     "execution_count": 27,
     "metadata": {},
     "output_type": "execute_result"
    }
   ],
   "source": [
    "data.sort_values(\"date\")\n",
    "data"
   ]
  },
  {
   "cell_type": "code",
   "execution_count": 28,
   "id": "a358459c",
   "metadata": {
    "execution": {
     "iopub.execute_input": "2023-03-07T17:39:28.922456Z",
     "iopub.status.busy": "2023-03-07T17:39:28.922137Z",
     "iopub.status.idle": "2023-03-07T17:39:29.552054Z",
     "shell.execute_reply": "2023-03-07T17:39:29.551068Z"
    },
    "papermill": {
     "duration": 0.653389,
     "end_time": "2023-03-07T17:39:29.554469",
     "exception": false,
     "start_time": "2023-03-07T17:39:28.901080",
     "status": "completed"
    },
    "tags": []
   },
   "outputs": [],
   "source": [
    "#create a file\n",
    "picklefile = open('data_for_train_test.pkl', 'wb')\n",
    "#pickle the dataframe\n",
    "pickle.dump(data, picklefile)\n"
   ]
  },
  {
   "cell_type": "code",
   "execution_count": 29,
   "id": "336daf21",
   "metadata": {
    "execution": {
     "iopub.execute_input": "2023-03-07T17:39:29.596815Z",
     "iopub.status.busy": "2023-03-07T17:39:29.596465Z",
     "iopub.status.idle": "2023-03-07T17:39:29.600587Z",
     "shell.execute_reply": "2023-03-07T17:39:29.599853Z"
    },
    "papermill": {
     "duration": 0.027753,
     "end_time": "2023-03-07T17:39:29.602422",
     "exception": false,
     "start_time": "2023-03-07T17:39:29.574669",
     "status": "completed"
    },
    "tags": []
   },
   "outputs": [],
   "source": [
    "#close file\n",
    "picklefile.close()"
   ]
  },
  {
   "cell_type": "markdown",
   "id": "ab2cfde5",
   "metadata": {
    "papermill": {
     "duration": 0.019682,
     "end_time": "2023-03-07T17:39:29.642413",
     "exception": false,
     "start_time": "2023-03-07T17:39:29.622731",
     "status": "completed"
    },
    "tags": []
   },
   "source": [
    "### Spliting data into Train and Test(80:20) on time feature"
   ]
  },
  {
   "cell_type": "code",
   "execution_count": 30,
   "id": "3f8caca7",
   "metadata": {
    "execution": {
     "iopub.execute_input": "2023-03-07T17:39:29.683014Z",
     "iopub.status.busy": "2023-03-07T17:39:29.682704Z",
     "iopub.status.idle": "2023-03-07T17:39:29.686799Z",
     "shell.execute_reply": "2023-03-07T17:39:29.686003Z"
    },
    "papermill": {
     "duration": 0.026286,
     "end_time": "2023-03-07T17:39:29.688528",
     "exception": false,
     "start_time": "2023-03-07T17:39:29.662242",
     "status": "completed"
    },
    "tags": []
   },
   "outputs": [],
   "source": [
    "import os"
   ]
  },
  {
   "cell_type": "code",
   "execution_count": 31,
   "id": "fbea2d2d",
   "metadata": {
    "execution": {
     "iopub.execute_input": "2023-03-07T17:39:29.730101Z",
     "iopub.status.busy": "2023-03-07T17:39:29.729778Z",
     "iopub.status.idle": "2023-03-07T17:39:35.907898Z",
     "shell.execute_reply": "2023-03-07T17:39:35.907001Z"
    },
    "papermill": {
     "duration": 6.201469,
     "end_time": "2023-03-07T17:39:35.910177",
     "exception": false,
     "start_time": "2023-03-07T17:39:29.708708",
     "status": "completed"
    },
    "tags": []
   },
   "outputs": [],
   "source": [
    "if not os.path.isfile('train.csv'):\n",
    "    # create the dataframe and store it in the disk for offline purposes..\n",
    "    data.iloc[:int(data.shape[0]*0.80)].to_csv(\"train.csv\", index=False)\n",
    "\n",
    "if not os.path.isfile('test.csv'):\n",
    "    # create the dataframe and store it in the disk for offline purposes..\n",
    "    data.iloc[int(data.shape[0]*0.80):].to_csv(\"test.csv\", index=False)\n",
    "\n",
    "train_df = pd.read_csv(\"train.csv\", parse_dates=['date'])\n",
    "test_df = pd.read_csv(\"test.csv\")"
   ]
  },
  {
   "cell_type": "markdown",
   "id": "2984a7aa",
   "metadata": {
    "papermill": {
     "duration": 0.018914,
     "end_time": "2023-03-07T17:39:35.948855",
     "exception": false,
     "start_time": "2023-03-07T17:39:35.929941",
     "status": "completed"
    },
    "tags": []
   },
   "source": [
    "### Basic Statistics in Train data (#Ratings, #Users, and #Recipes)"
   ]
  },
  {
   "cell_type": "code",
   "execution_count": 32,
   "id": "6f052b5b",
   "metadata": {
    "execution": {
     "iopub.execute_input": "2023-03-07T17:39:35.991483Z",
     "iopub.status.busy": "2023-03-07T17:39:35.990291Z",
     "iopub.status.idle": "2023-03-07T17:39:36.056341Z",
     "shell.execute_reply": "2023-03-07T17:39:36.055335Z"
    },
    "papermill": {
     "duration": 0.089807,
     "end_time": "2023-03-07T17:39:36.058902",
     "exception": false,
     "start_time": "2023-03-07T17:39:35.969095",
     "status": "completed"
    },
    "tags": []
   },
   "outputs": [
    {
     "name": "stdout",
     "output_type": "stream",
     "text": [
      "Training data \n",
      "--------------------------------------------------\n",
      "\n",
      "Total no of ratings : 545154\n",
      "Total No of Users   : 121016\n",
      "Total No of Recipes  : 111529\n"
     ]
    }
   ],
   "source": [
    "print(\"Training data \")\n",
    "print(\"-\"*50)\n",
    "print(\"\\nTotal no of ratings :\",train_df.shape[0])\n",
    "print(\"Total No of Users   :\", len(np.unique(train_df.user_id)))\n",
    "print(\"Total No of Recipes  :\", len(np.unique(train_df.recipe_id)))"
   ]
  },
  {
   "cell_type": "code",
   "execution_count": 33,
   "id": "63885232",
   "metadata": {
    "execution": {
     "iopub.execute_input": "2023-03-07T17:39:36.101365Z",
     "iopub.status.busy": "2023-03-07T17:39:36.100983Z",
     "iopub.status.idle": "2023-03-07T17:39:36.120474Z",
     "shell.execute_reply": "2023-03-07T17:39:36.119384Z"
    },
    "papermill": {
     "duration": 0.04315,
     "end_time": "2023-03-07T17:39:36.122760",
     "exception": false,
     "start_time": "2023-03-07T17:39:36.079610",
     "status": "completed"
    },
    "tags": []
   },
   "outputs": [
    {
     "name": "stdout",
     "output_type": "stream",
     "text": [
      "Test data \n",
      "--------------------------------------------------\n",
      "\n",
      "Total no of ratings : 136289\n",
      "Total No of Users   : 45722\n",
      "Total No of Recipes  : 27773\n"
     ]
    }
   ],
   "source": [
    "print(\"Test data \")\n",
    "print(\"-\"*50)\n",
    "print(\"\\nTotal no of ratings :\",test_df.shape[0])\n",
    "print(\"Total No of Users   :\", len(np.unique(test_df.user_id)))\n",
    "print(\"Total No of Recipes  :\", len(np.unique(test_df.recipe_id)))"
   ]
  },
  {
   "cell_type": "markdown",
   "id": "deecac23",
   "metadata": {
    "papermill": {
     "duration": 0.022481,
     "end_time": "2023-03-07T17:39:36.165846",
     "exception": false,
     "start_time": "2023-03-07T17:39:36.143365",
     "status": "completed"
    },
    "tags": []
   },
   "source": [
    "### Exploratory Data Analysis on Train data"
   ]
  },
  {
   "cell_type": "markdown",
   "id": "f012070c",
   "metadata": {
    "papermill": {
     "duration": 0.019606,
     "end_time": "2023-03-07T17:39:36.206249",
     "exception": false,
     "start_time": "2023-03-07T17:39:36.186643",
     "status": "completed"
    },
    "tags": []
   },
   "source": [
    "#### method to make y-axis more readable to scale kilo, Million, Billion values"
   ]
  },
  {
   "cell_type": "code",
   "execution_count": 34,
   "id": "5ca3919b",
   "metadata": {
    "execution": {
     "iopub.execute_input": "2023-03-07T17:39:36.246952Z",
     "iopub.status.busy": "2023-03-07T17:39:36.246627Z",
     "iopub.status.idle": "2023-03-07T17:39:36.253016Z",
     "shell.execute_reply": "2023-03-07T17:39:36.252117Z"
    },
    "papermill": {
     "duration": 0.029626,
     "end_time": "2023-03-07T17:39:36.255595",
     "exception": false,
     "start_time": "2023-03-07T17:39:36.225969",
     "status": "completed"
    },
    "tags": []
   },
   "outputs": [],
   "source": [
    "def human(num, units = 'M'):\n",
    "    units = units.lower()\n",
    "    num = float(num)\n",
    "    if units == 'k':\n",
    "        return str(num/10**3) + \" K\"\n",
    "    elif units == 'm':\n",
    "        return str(num/10**6) + \" M\"\n",
    "    elif units == 'b':\n",
    "        return str(num/10**9) +  \" B\""
   ]
  },
  {
   "cell_type": "markdown",
   "id": "36aea909",
   "metadata": {
    "papermill": {
     "duration": 0.019459,
     "end_time": "2023-03-07T17:39:36.295391",
     "exception": false,
     "start_time": "2023-03-07T17:39:36.275932",
     "status": "completed"
    },
    "tags": []
   },
   "source": [
    "#### Distribution of ratings"
   ]
  },
  {
   "cell_type": "code",
   "execution_count": 35,
   "id": "ed122920",
   "metadata": {
    "execution": {
     "iopub.execute_input": "2023-03-07T17:39:36.336017Z",
     "iopub.status.busy": "2023-03-07T17:39:36.335465Z",
     "iopub.status.idle": "2023-03-07T17:39:36.347230Z",
     "shell.execute_reply": "2023-03-07T17:39:36.345954Z"
    },
    "papermill": {
     "duration": 0.035773,
     "end_time": "2023-03-07T17:39:36.350510",
     "exception": false,
     "start_time": "2023-03-07T17:39:36.314737",
     "status": "completed"
    },
    "tags": []
   },
   "outputs": [],
   "source": [
    "import matplotlib\n",
    "matplotlib.use('nbagg')\n",
    "import matplotlib.pyplot as plt\n",
    "plt.rcParams.update({'figure.max_open_warning': 0})\n",
    "import seaborn as sns\n",
    "sns.set_theme(style=\"whitegrid\")"
   ]
  },
  {
   "cell_type": "code",
   "execution_count": 36,
   "id": "d59daa53",
   "metadata": {
    "execution": {
     "iopub.execute_input": "2023-03-07T17:39:36.398578Z",
     "iopub.status.busy": "2023-03-07T17:39:36.397808Z",
     "iopub.status.idle": "2023-03-07T17:39:36.404531Z",
     "shell.execute_reply": "2023-03-07T17:39:36.403722Z"
    },
    "papermill": {
     "duration": 0.035018,
     "end_time": "2023-03-07T17:39:36.406286",
     "exception": false,
     "start_time": "2023-03-07T17:39:36.371268",
     "status": "completed"
    },
    "tags": []
   },
   "outputs": [],
   "source": [
    " %matplotlib inline"
   ]
  },
  {
   "attachments": {
    "2a55d9a2-0d97-495a-9839-4c505d69c816.png": {
     "image/png": "[encoded data removed]"
    }
   },
   "cell_type": "markdown",
   "id": "a03c74a2",
   "metadata": {
    "papermill": {
     "duration": 0.019221,
     "end_time": "2023-03-07T17:39:36.447593",
     "exception": false,
     "start_time": "2023-03-07T17:39:36.428372",
     "status": "completed"
    },
    "tags": []
   },
   "source": [
    "![Screenshot_20230223_201627.png](attachment:2a55d9a2-0d97-495a-9839-4c505d69c816.png)"
   ]
  },
  {
   "cell_type": "markdown",
   "id": "22ec4399",
   "metadata": {
    "papermill": {
     "duration": 0.028023,
     "end_time": "2023-03-07T17:39:36.495294",
     "exception": false,
     "start_time": "2023-03-07T17:39:36.467271",
     "status": "completed"
    },
    "tags": []
   },
   "source": [
    "#### Number of Ratings per a month"
   ]
  },
  {
   "cell_type": "code",
   "execution_count": 37,
   "id": "0de5df80",
   "metadata": {
    "execution": {
     "iopub.execute_input": "2023-03-07T17:39:36.541555Z",
     "iopub.status.busy": "2023-03-07T17:39:36.541049Z",
     "iopub.status.idle": "2023-03-07T17:39:37.165754Z",
     "shell.execute_reply": "2023-03-07T17:39:37.164815Z"
    },
    "papermill": {
     "duration": 0.650873,
     "end_time": "2023-03-07T17:39:37.167738",
     "exception": false,
     "start_time": "2023-03-07T17:39:36.516865",
     "status": "completed"
    },
    "tags": []
   },
   "outputs": [
    {
     "name": "stderr",
     "output_type": "stream",
     "text": [
      "/opt/conda/lib/python3.7/site-packages/ipykernel_launcher.py:5: UserWarning: FixedFormatter should only be used together with FixedLocator\n",
      "  \"\"\"\n"
     ]
    },
    {
     "data": {
      "image/png": "[encoded data removed]",
      "text/plain": [
       "<Figure size 640x480 with 1 Axes>"
      ]
     },
     "metadata": {},
     "output_type": "display_data"
    }
   ],
   "source": [
    "ax = train_df.resample('m', on='date')['rating'].count().plot()\n",
    "ax.set_title('No of ratings per month (Training data)')\n",
    "plt.xlabel('Month')\n",
    "plt.ylabel('No of ratings(per month)')\n",
    "ax.set_yticklabels([human(item, 'M') for item in ax.get_yticks()])\n",
    "plt.show()"
   ]
  },
  {
   "cell_type": "markdown",
   "id": "ecc25cda",
   "metadata": {
    "papermill": {
     "duration": 0.019827,
     "end_time": "2023-03-07T17:39:37.208520",
     "exception": false,
     "start_time": "2023-03-07T17:39:37.188693",
     "status": "completed"
    },
    "tags": []
   },
   "source": [
    "#### Analysis on the Ratings given by user"
   ]
  },
  {
   "cell_type": "code",
   "execution_count": 38,
   "id": "a6fc7e06",
   "metadata": {
    "execution": {
     "iopub.execute_input": "2023-03-07T17:39:37.253736Z",
     "iopub.status.busy": "2023-03-07T17:39:37.252871Z",
     "iopub.status.idle": "2023-03-07T17:39:37.303884Z",
     "shell.execute_reply": "2023-03-07T17:39:37.303055Z"
    },
    "papermill": {
     "duration": 0.075063,
     "end_time": "2023-03-07T17:39:37.305578",
     "exception": false,
     "start_time": "2023-03-07T17:39:37.230515",
     "status": "completed"
    },
    "tags": []
   },
   "outputs": [
    {
     "data": {
      "text/plain": [
       "user_id\n",
       "424680        3866\n",
       "37449         3151\n",
       "383346        3043\n",
       "169430        2289\n",
       "128473        2018\n",
       "              ... \n",
       "1042137          1\n",
       "1042018          1\n",
       "1041933          1\n",
       "1041734          1\n",
       "2002372464       1\n",
       "Name: rating, Length: 121016, dtype: int64"
      ]
     },
     "execution_count": 38,
     "metadata": {},
     "output_type": "execute_result"
    }
   ],
   "source": [
    "no_of_rated_recipes_per_user = train_df.groupby(by='user_id')['rating'].count().sort_values(ascending=False)\n",
    "\n",
    "no_of_rated_recipes_per_user"
   ]
  },
  {
   "cell_type": "markdown",
   "id": "ac9c760c",
   "metadata": {
    "papermill": {
     "duration": 0.019886,
     "end_time": "2023-03-07T17:39:37.346002",
     "exception": false,
     "start_time": "2023-03-07T17:39:37.326116",
     "status": "completed"
    },
    "tags": []
   },
   "source": [
    "Here we are notice that we have very very few rating data is available."
   ]
  },
  {
   "cell_type": "code",
   "execution_count": 39,
   "id": "a1ee073e",
   "metadata": {
    "execution": {
     "iopub.execute_input": "2023-03-07T17:39:37.389329Z",
     "iopub.status.busy": "2023-03-07T17:39:37.388870Z",
     "iopub.status.idle": "2023-03-07T17:39:39.207318Z",
     "shell.execute_reply": "2023-03-07T17:39:39.206411Z"
    },
    "papermill": {
     "duration": 1.84279,
     "end_time": "2023-03-07T17:39:39.209235",
     "exception": false,
     "start_time": "2023-03-07T17:39:37.366445",
     "status": "completed"
    },
    "tags": []
   },
   "outputs": [
    {
     "name": "stderr",
     "output_type": "stream",
     "text": [
      "/opt/conda/lib/python3.7/site-packages/ipykernel_launcher.py:4: FutureWarning: \n",
      "\n",
      "`shade` is now deprecated in favor of `fill`; setting `fill=True`.\n",
      "This will become an error in seaborn v0.14.0; please update your code.\n",
      "\n",
      "  after removing the cwd from sys.path.\n",
      "/opt/conda/lib/python3.7/site-packages/ipykernel_launcher.py:9: FutureWarning: \n",
      "\n",
      "`shade` is now deprecated in favor of `fill`; setting `fill=True`.\n",
      "This will become an error in seaborn v0.14.0; please update your code.\n",
      "\n",
      "  if __name__ == \"__main__\":\n"
     ]
    },
    {
     "data": {
      "image/png": "[encoded data removed]",
      "text/plain": [
       "<Figure size 960x480 with 2 Axes>"
      ]
     },
     "metadata": {},
     "output_type": "display_data"
    }
   ],
   "source": [
    "fig = plt.figure(figsize=plt.figaspect(.5))\n",
    "\n",
    "ax1 = plt.subplot(121)\n",
    "sns.kdeplot(no_of_rated_recipes_per_user, shade=True, ax=ax1)\n",
    "plt.xlabel('No of ratings by user')\n",
    "plt.title(\"PDF\")\n",
    "\n",
    "ax2 = plt.subplot(122)\n",
    "sns.kdeplot(no_of_rated_recipes_per_user, shade=True, cumulative=True,ax=ax2)\n",
    "plt.xlabel('No of ratings by user')\n",
    "plt.title('CDF')\n",
    "\n",
    "plt.show()"
   ]
  },
  {
   "cell_type": "code",
   "execution_count": 40,
   "id": "d36beb4e",
   "metadata": {
    "execution": {
     "iopub.execute_input": "2023-03-07T17:39:39.257300Z",
     "iopub.status.busy": "2023-03-07T17:39:39.256757Z",
     "iopub.status.idle": "2023-03-07T17:39:39.267990Z",
     "shell.execute_reply": "2023-03-07T17:39:39.267052Z"
    },
    "papermill": {
     "duration": 0.037555,
     "end_time": "2023-03-07T17:39:39.270240",
     "exception": false,
     "start_time": "2023-03-07T17:39:39.232685",
     "status": "completed"
    },
    "tags": []
   },
   "outputs": [],
   "source": [
    "train_df['rating'] = train_df['rating'].replace(0, np.nan)"
   ]
  },
  {
   "cell_type": "code",
   "execution_count": 41,
   "id": "02c7c262",
   "metadata": {
    "execution": {
     "iopub.execute_input": "2023-03-07T17:39:39.316791Z",
     "iopub.status.busy": "2023-03-07T17:39:39.316472Z",
     "iopub.status.idle": "2023-03-07T17:39:39.344816Z",
     "shell.execute_reply": "2023-03-07T17:39:39.344214Z"
    },
    "papermill": {
     "duration": 0.053371,
     "end_time": "2023-03-07T17:39:39.346611",
     "exception": false,
     "start_time": "2023-03-07T17:39:39.293240",
     "status": "completed"
    },
    "tags": []
   },
   "outputs": [
    {
     "data": {
      "text/plain": [
       "count    518758.000000\n",
       "mean          4.658436\n",
       "std           0.713491\n",
       "min           1.000000\n",
       "25%           5.000000\n",
       "50%           5.000000\n",
       "75%           5.000000\n",
       "max           5.000000\n",
       "Name: rating, dtype: float64"
      ]
     },
     "execution_count": 41,
     "metadata": {},
     "output_type": "execute_result"
    }
   ],
   "source": [
    "train_df[\"rating\"].describe()"
   ]
  },
  {
   "cell_type": "code",
   "execution_count": 42,
   "id": "11ed747b",
   "metadata": {
    "execution": {
     "iopub.execute_input": "2023-03-07T17:39:39.394010Z",
     "iopub.status.busy": "2023-03-07T17:39:39.393152Z",
     "iopub.status.idle": "2023-03-07T17:39:39.400610Z",
     "shell.execute_reply": "2023-03-07T17:39:39.399478Z"
    },
    "papermill": {
     "duration": 0.033058,
     "end_time": "2023-03-07T17:39:39.402527",
     "exception": false,
     "start_time": "2023-03-07T17:39:39.369469",
     "status": "completed"
    },
    "tags": []
   },
   "outputs": [
    {
     "name": "stdout",
     "output_type": "stream",
     "text": [
      "No of NaN values in our dataframe:  26396\n"
     ]
    }
   ],
   "source": [
    "print(\"No of NaN values in our dataframe: \", train_df[\"rating\"].isna().sum())"
   ]
  },
  {
   "cell_type": "code",
   "execution_count": 43,
   "id": "473ab326",
   "metadata": {
    "execution": {
     "iopub.execute_input": "2023-03-07T17:39:39.447950Z",
     "iopub.status.busy": "2023-03-07T17:39:39.447339Z",
     "iopub.status.idle": "2023-03-07T17:39:39.452773Z",
     "shell.execute_reply": "2023-03-07T17:39:39.451831Z"
    },
    "papermill": {
     "duration": 0.030255,
     "end_time": "2023-03-07T17:39:39.454661",
     "exception": false,
     "start_time": "2023-03-07T17:39:39.424406",
     "status": "completed"
    },
    "tags": []
   },
   "outputs": [],
   "source": [
    "# this is just to know how much time will it take to run this entire ipython notebook \n",
    "from datetime import datetime\n",
    "# globalstart = datetime.now()\n",
    "\n",
    "from scipy import sparse\n",
    "from scipy.sparse import csr_matrix"
   ]
  },
  {
   "cell_type": "markdown",
   "id": "09bb277f",
   "metadata": {
    "papermill": {
     "duration": 0.023762,
     "end_time": "2023-03-07T17:39:39.499630",
     "exception": false,
     "start_time": "2023-03-07T17:39:39.475868",
     "status": "completed"
    },
    "tags": []
   },
   "source": [
    "## Creating sparse matrix from data frame"
   ]
  },
  {
   "cell_type": "markdown",
   "id": "0325eb2c",
   "metadata": {
    "papermill": {
     "duration": 0.020986,
     "end_time": "2023-03-07T17:39:39.542912",
     "exception": false,
     "start_time": "2023-03-07T17:39:39.521926",
     "status": "completed"
    },
    "tags": []
   },
   "source": [
    "### Creating sparse matrix from train data frame"
   ]
  },
  {
   "cell_type": "code",
   "execution_count": 44,
   "id": "b086579c",
   "metadata": {
    "execution": {
     "iopub.execute_input": "2023-03-07T17:39:39.587924Z",
     "iopub.status.busy": "2023-03-07T17:39:39.586986Z",
     "iopub.status.idle": "2023-03-07T17:39:39.601003Z",
     "shell.execute_reply": "2023-03-07T17:39:39.600161Z"
    },
    "papermill": {
     "duration": 0.039083,
     "end_time": "2023-03-07T17:39:39.602726",
     "exception": false,
     "start_time": "2023-03-07T17:39:39.563643",
     "status": "completed"
    },
    "tags": []
   },
   "outputs": [
    {
     "data": {
      "text/html": [
       "<div>\n",
       "<style scoped>\n",
       "    .dataframe tbody tr th:only-of-type {\n",
       "        vertical-align: middle;\n",
       "    }\n",
       "\n",
       "    .dataframe tbody tr th {\n",
       "        vertical-align: top;\n",
       "    }\n",
       "\n",
       "    .dataframe thead th {\n",
       "        text-align: right;\n",
       "    }\n",
       "</style>\n",
       "<table border=\"1\" class=\"dataframe\">\n",
       "  <thead>\n",
       "    <tr style=\"text-align: right;\">\n",
       "      <th></th>\n",
       "      <th>user_id</th>\n",
       "      <th>recipe_id</th>\n",
       "      <th>date</th>\n",
       "      <th>rating</th>\n",
       "      <th>review</th>\n",
       "    </tr>\n",
       "  </thead>\n",
       "  <tbody>\n",
       "    <tr>\n",
       "      <th>0</th>\n",
       "      <td>4470</td>\n",
       "      <td>137739</td>\n",
       "      <td>2006-02-18</td>\n",
       "      <td>5.0</td>\n",
       "      <td>I used an acorn squash and recipe#137681 Swee...</td>\n",
       "    </tr>\n",
       "    <tr>\n",
       "      <th>1</th>\n",
       "      <td>593927</td>\n",
       "      <td>137739</td>\n",
       "      <td>2010-08-21</td>\n",
       "      <td>5.0</td>\n",
       "      <td>This was a nice change. I used butternut squas...</td>\n",
       "    </tr>\n",
       "    <tr>\n",
       "      <th>2</th>\n",
       "      <td>178427</td>\n",
       "      <td>137739</td>\n",
       "      <td>2011-12-05</td>\n",
       "      <td>5.0</td>\n",
       "      <td>Excellent recipe! I used butternut squash and ...</td>\n",
       "    </tr>\n",
       "    <tr>\n",
       "      <th>3</th>\n",
       "      <td>28603</td>\n",
       "      <td>31490</td>\n",
       "      <td>2002-08-19</td>\n",
       "      <td>NaN</td>\n",
       "      <td>Have not tried this, but it sounds delicious. ...</td>\n",
       "    </tr>\n",
       "    <tr>\n",
       "      <th>4</th>\n",
       "      <td>346277</td>\n",
       "      <td>31490</td>\n",
       "      <td>2006-08-27</td>\n",
       "      <td>5.0</td>\n",
       "      <td>This recipe was wonderful.  Instead of using t...</td>\n",
       "    </tr>\n",
       "    <tr>\n",
       "      <th>...</th>\n",
       "      <td>...</td>\n",
       "      <td>...</td>\n",
       "      <td>...</td>\n",
       "      <td>...</td>\n",
       "      <td>...</td>\n",
       "    </tr>\n",
       "    <tr>\n",
       "      <th>545149</th>\n",
       "      <td>68960</td>\n",
       "      <td>115404</td>\n",
       "      <td>2007-01-18</td>\n",
       "      <td>5.0</td>\n",
       "      <td>Chia, you are one of my most favourite chefs. ...</td>\n",
       "    </tr>\n",
       "    <tr>\n",
       "      <th>545150</th>\n",
       "      <td>322381</td>\n",
       "      <td>115404</td>\n",
       "      <td>2007-08-14</td>\n",
       "      <td>3.0</td>\n",
       "      <td>Definitely a quick, easy and healthy option fo...</td>\n",
       "    </tr>\n",
       "    <tr>\n",
       "      <th>545151</th>\n",
       "      <td>544026</td>\n",
       "      <td>115404</td>\n",
       "      <td>2007-11-17</td>\n",
       "      <td>4.0</td>\n",
       "      <td>I made this recipe, only changed it to \"chicke...</td>\n",
       "    </tr>\n",
       "    <tr>\n",
       "      <th>545152</th>\n",
       "      <td>1221394</td>\n",
       "      <td>498744</td>\n",
       "      <td>2013-11-26</td>\n",
       "      <td>5.0</td>\n",
       "      <td>Found this also in Cooking Light but didn&amp;#039...</td>\n",
       "    </tr>\n",
       "    <tr>\n",
       "      <th>545153</th>\n",
       "      <td>39835</td>\n",
       "      <td>316098</td>\n",
       "      <td>2008-08-10</td>\n",
       "      <td>4.0</td>\n",
       "      <td>Very good and easy to make! We used whole whea...</td>\n",
       "    </tr>\n",
       "  </tbody>\n",
       "</table>\n",
       "<p>545154 rows × 5 columns</p>\n",
       "</div>"
      ],
      "text/plain": [
       "        user_id  recipe_id       date  rating  \\\n",
       "0          4470     137739 2006-02-18     5.0   \n",
       "1        593927     137739 2010-08-21     5.0   \n",
       "2        178427     137739 2011-12-05     5.0   \n",
       "3         28603      31490 2002-08-19     NaN   \n",
       "4        346277      31490 2006-08-27     5.0   \n",
       "...         ...        ...        ...     ...   \n",
       "545149    68960     115404 2007-01-18     5.0   \n",
       "545150   322381     115404 2007-08-14     3.0   \n",
       "545151   544026     115404 2007-11-17     4.0   \n",
       "545152  1221394     498744 2013-11-26     5.0   \n",
       "545153    39835     316098 2008-08-10     4.0   \n",
       "\n",
       "                                                   review  \n",
       "0        I used an acorn squash and recipe#137681 Swee...  \n",
       "1       This was a nice change. I used butternut squas...  \n",
       "2       Excellent recipe! I used butternut squash and ...  \n",
       "3       Have not tried this, but it sounds delicious. ...  \n",
       "4       This recipe was wonderful.  Instead of using t...  \n",
       "...                                                   ...  \n",
       "545149  Chia, you are one of my most favourite chefs. ...  \n",
       "545150  Definitely a quick, easy and healthy option fo...  \n",
       "545151  I made this recipe, only changed it to \"chicke...  \n",
       "545152  Found this also in Cooking Light but didn&#039...  \n",
       "545153  Very good and easy to make! We used whole whea...  \n",
       "\n",
       "[545154 rows x 5 columns]"
      ]
     },
     "execution_count": 44,
     "metadata": {},
     "output_type": "execute_result"
    }
   ],
   "source": [
    "train_df"
   ]
  },
  {
   "cell_type": "code",
   "execution_count": 45,
   "id": "cd812a7e",
   "metadata": {
    "execution": {
     "iopub.execute_input": "2023-03-07T17:39:39.649075Z",
     "iopub.status.busy": "2023-03-07T17:39:39.648596Z",
     "iopub.status.idle": "2023-03-07T17:41:00.546719Z",
     "shell.execute_reply": "2023-03-07T17:41:00.545716Z"
    },
    "papermill": {
     "duration": 80.943546,
     "end_time": "2023-03-07T17:41:00.569074",
     "exception": false,
     "start_time": "2023-03-07T17:39:39.625528",
     "status": "completed"
    },
    "tags": []
   },
   "outputs": [
    {
     "name": "stdout",
     "output_type": "stream",
     "text": [
      "We are creating sparse_matrix from the dataframe..\n",
      "Done. It's shape is : (user, recipe) :  (2002372465, 537717)\n",
      "Saving it into disk for furthur usage..\n",
      "Done..\n",
      "\n",
      "0:01:20.890976\n"
     ]
    }
   ],
   "source": [
    "start = datetime.now()\n",
    "if os.path.isfile('train_sparse_matrix.npz'):\n",
    "    print(\"It is present in your pwd, getting it from disk....\")\n",
    "    # just get it from the disk instead of computing it\n",
    "    train_sparse_matrix = sparse.load_npz('train_sparse_matrix.npz')\n",
    "    print(\"DONE..\")\n",
    "else: \n",
    "    print(\"We are creating sparse_matrix from the dataframe..\")\n",
    "    # create sparse_matrix and store it for after usage.\n",
    "    # csr_matrix(data_values, (row_index, col_index), shape_of_matrix)\n",
    "    # It should be in such a way that, MATRIX[row, col] = data\n",
    "    train_sparse_matrix = sparse.csr_matrix((train_df.rating.values, (train_df.user_id.values,\n",
    "                                               train_df.recipe_id.values)),)\n",
    "    \n",
    "    print('Done. It\\'s shape is : (user, recipe) : ',train_sparse_matrix.shape)\n",
    "    print('Saving it into disk for furthur usage..')\n",
    "    # save it into disk\n",
    "    sparse.save_npz(\"train_sparse_matrix.npz\", train_sparse_matrix)\n",
    "    print('Done..\\n')\n",
    "\n",
    "print(datetime.now() - start)"
   ]
  },
  {
   "cell_type": "markdown",
   "id": "a135cf22",
   "metadata": {
    "papermill": {
     "duration": 0.020319,
     "end_time": "2023-03-07T17:41:00.610061",
     "exception": false,
     "start_time": "2023-03-07T17:41:00.589742",
     "status": "completed"
    },
    "tags": []
   },
   "source": [
    "## The Sparsity of Train Sparse Matrix"
   ]
  },
  {
   "cell_type": "code",
   "execution_count": 46,
   "id": "9ed384c9",
   "metadata": {
    "execution": {
     "iopub.execute_input": "2023-03-07T17:41:00.653699Z",
     "iopub.status.busy": "2023-03-07T17:41:00.653372Z",
     "iopub.status.idle": "2023-03-07T17:41:01.925841Z",
     "shell.execute_reply": "2023-03-07T17:41:01.924793Z"
    },
    "papermill": {
     "duration": 1.296669,
     "end_time": "2023-03-07T17:41:01.927481",
     "exception": false,
     "start_time": "2023-03-07T17:41:00.630812",
     "status": "completed"
    },
    "tags": []
   },
   "outputs": [
    {
     "name": "stdout",
     "output_type": "stream",
     "text": [
      "Sparsity Of Train matrix : 99.99999994936853 % \n"
     ]
    }
   ],
   "source": [
    "us,mv = train_sparse_matrix.shape\n",
    "elem = train_sparse_matrix.count_nonzero()\n",
    "\n",
    "print(\"Sparsity Of Train matrix : {} % \".format(  (1-(elem/(us*mv))) * 100) )"
   ]
  },
  {
   "cell_type": "markdown",
   "id": "22a28278",
   "metadata": {
    "papermill": {
     "duration": 0.021103,
     "end_time": "2023-03-07T17:41:01.969407",
     "exception": false,
     "start_time": "2023-03-07T17:41:01.948304",
     "status": "completed"
    },
    "tags": []
   },
   "source": [
    "## Creating sparse matrix from test data frame"
   ]
  },
  {
   "cell_type": "code",
   "execution_count": 47,
   "id": "9c537c81",
   "metadata": {
    "execution": {
     "iopub.execute_input": "2023-03-07T17:41:02.013289Z",
     "iopub.status.busy": "2023-03-07T17:41:02.012515Z",
     "iopub.status.idle": "2023-03-07T17:41:02.024624Z",
     "shell.execute_reply": "2023-03-07T17:41:02.023786Z"
    },
    "papermill": {
     "duration": 0.035459,
     "end_time": "2023-03-07T17:41:02.026137",
     "exception": false,
     "start_time": "2023-03-07T17:41:01.990678",
     "status": "completed"
    },
    "tags": []
   },
   "outputs": [
    {
     "data": {
      "text/html": [
       "<div>\n",
       "<style scoped>\n",
       "    .dataframe tbody tr th:only-of-type {\n",
       "        vertical-align: middle;\n",
       "    }\n",
       "\n",
       "    .dataframe tbody tr th {\n",
       "        vertical-align: top;\n",
       "    }\n",
       "\n",
       "    .dataframe thead th {\n",
       "        text-align: right;\n",
       "    }\n",
       "</style>\n",
       "<table border=\"1\" class=\"dataframe\">\n",
       "  <thead>\n",
       "    <tr style=\"text-align: right;\">\n",
       "      <th></th>\n",
       "      <th>user_id</th>\n",
       "      <th>recipe_id</th>\n",
       "      <th>date</th>\n",
       "      <th>rating</th>\n",
       "      <th>review</th>\n",
       "    </tr>\n",
       "  </thead>\n",
       "  <tbody>\n",
       "    <tr>\n",
       "      <th>0</th>\n",
       "      <td>1157188</td>\n",
       "      <td>316098</td>\n",
       "      <td>2010-01-11</td>\n",
       "      <td>5</td>\n",
       "      <td>Great recipe!  I need to go grocery shopping, ...</td>\n",
       "    </tr>\n",
       "    <tr>\n",
       "      <th>1</th>\n",
       "      <td>115053</td>\n",
       "      <td>316098</td>\n",
       "      <td>2010-02-10</td>\n",
       "      <td>4</td>\n",
       "      <td>This was really good.  Followed recipe pretty ...</td>\n",
       "    </tr>\n",
       "    <tr>\n",
       "      <th>2</th>\n",
       "      <td>198154</td>\n",
       "      <td>316098</td>\n",
       "      <td>2017-05-04</td>\n",
       "      <td>4</td>\n",
       "      <td>I made this for dinner tonight using fresh bab...</td>\n",
       "    </tr>\n",
       "    <tr>\n",
       "      <th>3</th>\n",
       "      <td>49304</td>\n",
       "      <td>51193</td>\n",
       "      <td>2003-02-18</td>\n",
       "      <td>5</td>\n",
       "      <td>Chia, this is a delicious Shrimp recipe, love ...</td>\n",
       "    </tr>\n",
       "    <tr>\n",
       "      <th>4</th>\n",
       "      <td>92385</td>\n",
       "      <td>51193</td>\n",
       "      <td>2004-05-11</td>\n",
       "      <td>5</td>\n",
       "      <td>Very nice! This is fresh tasting, because of t...</td>\n",
       "    </tr>\n",
       "    <tr>\n",
       "      <th>...</th>\n",
       "      <td>...</td>\n",
       "      <td>...</td>\n",
       "      <td>...</td>\n",
       "      <td>...</td>\n",
       "      <td>...</td>\n",
       "    </tr>\n",
       "    <tr>\n",
       "      <th>136284</th>\n",
       "      <td>844554</td>\n",
       "      <td>308080</td>\n",
       "      <td>2009-10-14</td>\n",
       "      <td>5</td>\n",
       "      <td>These were very good. I meant to add some jala...</td>\n",
       "    </tr>\n",
       "    <tr>\n",
       "      <th>136285</th>\n",
       "      <td>804234</td>\n",
       "      <td>298512</td>\n",
       "      <td>2008-05-02</td>\n",
       "      <td>1</td>\n",
       "      <td>I would rate this a zero if I could. I followe...</td>\n",
       "    </tr>\n",
       "    <tr>\n",
       "      <th>136286</th>\n",
       "      <td>866651</td>\n",
       "      <td>298509</td>\n",
       "      <td>2008-06-19</td>\n",
       "      <td>1</td>\n",
       "      <td>This recipe tastes nothing like the Cookies by...</td>\n",
       "    </tr>\n",
       "    <tr>\n",
       "      <th>136287</th>\n",
       "      <td>1546277</td>\n",
       "      <td>298509</td>\n",
       "      <td>2010-02-08</td>\n",
       "      <td>5</td>\n",
       "      <td>yummy cookies, i love this recipe me and my sm...</td>\n",
       "    </tr>\n",
       "    <tr>\n",
       "      <th>136288</th>\n",
       "      <td>1803287907</td>\n",
       "      <td>298509</td>\n",
       "      <td>2014-11-01</td>\n",
       "      <td>0</td>\n",
       "      <td>I work at a Cookies By Design and can say this...</td>\n",
       "    </tr>\n",
       "  </tbody>\n",
       "</table>\n",
       "<p>136289 rows × 5 columns</p>\n",
       "</div>"
      ],
      "text/plain": [
       "           user_id  recipe_id        date  rating  \\\n",
       "0          1157188     316098  2010-01-11       5   \n",
       "1           115053     316098  2010-02-10       4   \n",
       "2           198154     316098  2017-05-04       4   \n",
       "3            49304      51193  2003-02-18       5   \n",
       "4            92385      51193  2004-05-11       5   \n",
       "...            ...        ...         ...     ...   \n",
       "136284      844554     308080  2009-10-14       5   \n",
       "136285      804234     298512  2008-05-02       1   \n",
       "136286      866651     298509  2008-06-19       1   \n",
       "136287     1546277     298509  2010-02-08       5   \n",
       "136288  1803287907     298509  2014-11-01       0   \n",
       "\n",
       "                                                   review  \n",
       "0       Great recipe!  I need to go grocery shopping, ...  \n",
       "1       This was really good.  Followed recipe pretty ...  \n",
       "2       I made this for dinner tonight using fresh bab...  \n",
       "3       Chia, this is a delicious Shrimp recipe, love ...  \n",
       "4       Very nice! This is fresh tasting, because of t...  \n",
       "...                                                   ...  \n",
       "136284  These were very good. I meant to add some jala...  \n",
       "136285  I would rate this a zero if I could. I followe...  \n",
       "136286  This recipe tastes nothing like the Cookies by...  \n",
       "136287  yummy cookies, i love this recipe me and my sm...  \n",
       "136288  I work at a Cookies By Design and can say this...  \n",
       "\n",
       "[136289 rows x 5 columns]"
      ]
     },
     "execution_count": 47,
     "metadata": {},
     "output_type": "execute_result"
    }
   ],
   "source": [
    "test_df"
   ]
  },
  {
   "cell_type": "code",
   "execution_count": 48,
   "id": "e434f84f",
   "metadata": {
    "execution": {
     "iopub.execute_input": "2023-03-07T17:41:02.070659Z",
     "iopub.status.busy": "2023-03-07T17:41:02.069889Z",
     "iopub.status.idle": "2023-03-07T17:42:21.375582Z",
     "shell.execute_reply": "2023-03-07T17:42:21.374616Z"
    },
    "papermill": {
     "duration": 79.351766,
     "end_time": "2023-03-07T17:42:21.399449",
     "exception": false,
     "start_time": "2023-03-07T17:41:02.047683",
     "status": "completed"
    },
    "tags": []
   },
   "outputs": [
    {
     "name": "stdout",
     "output_type": "stream",
     "text": [
      "We are creating sparse_matrix from the dataframe..\n",
      "Done. It's shape is : (user, recipe) :  (2002372707, 537040)\n",
      "Saving it into disk for furthur usage..\n",
      "Done..\n",
      "\n",
      "0:01:19.298774\n"
     ]
    }
   ],
   "source": [
    "start = datetime.now()\n",
    "if os.path.isfile('test_sparse_matrix.npz'):\n",
    "    print(\"It is present in your pwd, getting it from disk....\")\n",
    "    # just get it from the disk instead of computing it\n",
    "    test_sparse_matrix = sparse.load_npz('test_sparse_matrix.npz')\n",
    "    print(\"DONE..\")\n",
    "else: \n",
    "    print(\"We are creating sparse_matrix from the dataframe..\")\n",
    "    # create sparse_matrix and store it for after usage.\n",
    "    # csr_matrix(data_values, (row_index, col_index), shape_of_matrix)\n",
    "    # It should be in such a way that, MATRIX[row, col] = data\n",
    "    test_sparse_matrix = sparse.csr_matrix((test_df.rating.values, (test_df.user_id.values,\n",
    "                                               test_df.recipe_id.values)))\n",
    "    \n",
    "    print('Done. It\\'s shape is : (user, recipe) : ',test_sparse_matrix.shape)\n",
    "    print('Saving it into disk for furthur usage..')\n",
    "    # save it into disk\n",
    "    sparse.save_npz(\"test_sparse_matrix.npz\", test_sparse_matrix)\n",
    "    print('Done..\\n')\n",
    "    \n",
    "print(datetime.now() - start)"
   ]
  },
  {
   "cell_type": "code",
   "execution_count": 49,
   "id": "772a02ad",
   "metadata": {
    "execution": {
     "iopub.execute_input": "2023-03-07T17:42:21.444239Z",
     "iopub.status.busy": "2023-03-07T17:42:21.443727Z",
     "iopub.status.idle": "2023-03-07T17:42:22.711773Z",
     "shell.execute_reply": "2023-03-07T17:42:22.710563Z"
    },
    "papermill": {
     "duration": 1.292723,
     "end_time": "2023-03-07T17:42:22.713855",
     "exception": false,
     "start_time": "2023-03-07T17:42:21.421132",
     "status": "completed"
    },
    "tags": []
   },
   "outputs": [
    {
     "name": "stdout",
     "output_type": "stream",
     "text": [
      "Sparsity Of Test matrix : 99.99999998796861 % \n"
     ]
    }
   ],
   "source": [
    "us,mv = test_sparse_matrix.shape\n",
    "elem = test_sparse_matrix.count_nonzero()\n",
    "\n",
    "print(\"Sparsity Of Test matrix : {} % \".format(  (1-(elem/(us*mv))) * 100) )"
   ]
  },
  {
   "cell_type": "code",
   "execution_count": null,
   "id": "ba7fc186",
   "metadata": {
    "papermill": {
     "duration": 0.021475,
     "end_time": "2023-03-07T17:42:22.757054",
     "exception": false,
     "start_time": "2023-03-07T17:42:22.735579",
     "status": "completed"
    },
    "tags": []
   },
   "outputs": [],
   "source": []
  }
 ],
 "metadata": {
  "kernelspec": {
   "display_name": "Python 3",
   "language": "python",
   "name": "python3"
  },
  "language_info": {
   "codemirror_mode": {
    "name": "ipython",
    "version": 3
   },
   "file_extension": ".py",
   "mimetype": "text/x-python",
   "name": "python",
   "nbconvert_exporter": "python",
   "pygments_lexer": "ipython3",
   "version": "3.7.12"
  },
  "papermill": {
   "default_parameters": {},
   "duration": 245.484768,
   "end_time": "2023-03-07T17:42:24.101731",
   "environment_variables": {},
   "exception": null,
   "input_path": "__notebook__.ipynb",
   "output_path": "__notebook__.ipynb",
   "parameters": {},
   "start_time": "2023-03-07T17:38:18.616963",
   "version": "2.3.4"
  }
 },
 "nbformat": 4,
 "nbformat_minor": 5
}
