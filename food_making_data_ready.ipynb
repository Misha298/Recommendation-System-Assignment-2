{
  "metadata": {
    "kernelspec": {
      "language": "python",
      "display_name": "Python 3",
      "name": "python3"
    },
    "language_info": {
      "pygments_lexer": "ipython3",
      "nbconvert_exporter": "python",
      "version": "3.6.4",
      "file_extension": ".py",
      "codemirror_mode": {
        "name": "ipython",
        "version": 3
      },
      "name": "python",
      "mimetype": "text/x-python"
    },
    "colab": {
      "provenance": []
    }
  },
  "nbformat_minor": 0,
  "nbformat": 4,
  "cells": [
    {
      "cell_type": "code",
      "source": [
        "# This Python 3 environment comes with many helpful analytics libraries installed\n",
        "# It is defined by the kaggle/python Docker image: https://github.com/kaggle/docker-python\n",
        "# For example, here's several helpful packages to load\n",
        "\n",
        "import numpy as np # linear algebra\n",
        "import pandas as pd # data processing, CSV file I/O (e.g. pd.read_csv)\n",
        "\n",
        "# Input data files are available in the read-only \"../input/\" directory\n",
        "# For example, running this (by clicking run or pressing Shift+Enter) will list all files under the input directory\n",
        "\n",
        "import os\n",
        "for dirname, _, filenames in os.walk('/kaggle/input'):\n",
        "    for filename in filenames:\n",
        "        print(os.path.join(dirname, filename))\n",
        "\n",
        "# You can write up to 20GB to the current directory (/kaggle/working/) that gets preserved as output when you create a version using \"Save & Run All\" \n",
        "# You can also write temporary files to /kaggle/temp/, but they won't be saved outside of the current session"
      ],
      "metadata": {
        "_uuid": "8f2839f25d086af736a60e9eeb907d3b93b6e0e5",
        "_cell_guid": "b1076dfc-b9ad-4769-8c92-a6c4dae69d19",
        "execution": {
          "iopub.status.busy": "2023-03-01T08:58:32.690836Z",
          "iopub.execute_input": "2023-03-01T08:58:32.691233Z",
          "iopub.status.idle": "2023-03-01T08:58:32.716484Z",
          "shell.execute_reply.started": "2023-03-01T08:58:32.691197Z",
          "shell.execute_reply": "2023-03-01T08:58:32.714859Z"
        },
        "trusted": true,
        "id": "gikpXmFsA2vw"
      },
      "execution_count": null,
      "outputs": []
    },
    {
      "cell_type": "code",
      "source": [
        "import pandas as pd\n",
        "import numpy as np\n",
        "from datetime import datetime\n",
        "from nltk.stem import PorterStemmer\n",
        "import math\n",
        "from nltk.tokenize import sent_tokenize, word_tokenize\n",
        "from nltk.corpus import stopwords \n",
        "from nltk.tokenize import RegexpTokenizer\n",
        "import nltk\n",
        "nltk.download('punkt')\n",
        "from nltk.stem import WordNetLemmatizer\n",
        "nltk.download('stopwords')\n",
        "nltk.download('wordnet')\n",
        "nltk.download('omw-1.4')\n",
        "from sklearn.model_selection import train_test_split\n",
        "from sklearn.feature_extraction.text import CountVectorizer\n",
        "import seaborn as sns\n",
        "import matplotlib.pyplot as plt\n",
        "import string"
      ],
      "metadata": {
        "execution": {
          "iopub.status.busy": "2023-03-01T08:58:33.938096Z",
          "iopub.execute_input": "2023-03-01T08:58:33.938533Z",
          "iopub.status.idle": "2023-03-01T08:58:35.686494Z",
          "shell.execute_reply.started": "2023-03-01T08:58:33.938493Z",
          "shell.execute_reply": "2023-03-01T08:58:35.685359Z"
        },
        "trusted": true,
        "id": "z7KmMAEkA2v1"
      },
      "execution_count": null,
      "outputs": []
    },
    {
      "cell_type": "code",
      "source": [
        "#loading the dataset \n",
        "df1 = pd.read_csv('/kaggle/input/food-com-recipes-and-user-interactions/RAW_interactions.csv')"
      ],
      "metadata": {
        "execution": {
          "iopub.status.busy": "2023-03-01T08:58:35.688488Z",
          "iopub.execute_input": "2023-03-01T08:58:35.688844Z",
          "iopub.status.idle": "2023-03-01T08:58:45.191303Z",
          "shell.execute_reply.started": "2023-03-01T08:58:35.688806Z",
          "shell.execute_reply": "2023-03-01T08:58:45.189745Z"
        },
        "trusted": true,
        "id": "SQxBcAcgA2v2"
      },
      "execution_count": null,
      "outputs": []
    },
    {
      "cell_type": "code",
      "source": [
        "#This uses the loc method to select all rows from the DataFrame df1 where the 'review' column is not null. This results in a new DataFrame that contains only the rows with non-null values in the 'review' column.\n",
        "df1 = df1.loc[~df1['review'].isnull()]"
      ],
      "metadata": {
        "execution": {
          "iopub.status.busy": "2023-03-01T08:58:45.192742Z",
          "iopub.execute_input": "2023-03-01T08:58:45.193087Z",
          "iopub.status.idle": "2023-03-01T08:58:45.464316Z",
          "shell.execute_reply.started": "2023-03-01T08:58:45.193054Z",
          "shell.execute_reply": "2023-03-01T08:58:45.462829Z"
        },
        "trusted": true,
        "id": "AysuckpRA2v3"
      },
      "execution_count": null,
      "outputs": []
    },
    {
      "cell_type": "code",
      "source": [
        "#The output of this line will be a string that displays the number of unique users and unique recipes in the DataFrame.\n",
        "n_users = len(df1.user_id.unique())\n",
        "n_recipe = len(df1.recipe_id.unique())\n",
        "print('Unique Users: {0}, unique recipe: {1}'.format(n_users, n_recipe))"
      ],
      "metadata": {
        "execution": {
          "iopub.status.busy": "2023-03-01T08:58:45.467531Z",
          "iopub.execute_input": "2023-03-01T08:58:45.467984Z",
          "iopub.status.idle": "2023-03-01T08:58:45.515841Z",
          "shell.execute_reply.started": "2023-03-01T08:58:45.467938Z",
          "shell.execute_reply": "2023-03-01T08:58:45.514830Z"
        },
        "trusted": true,
        "id": "g-azpyLPA2v3"
      },
      "execution_count": null,
      "outputs": []
    },
    {
      "cell_type": "code",
      "source": [
        "#The resulting user_counts Series can be used to analyze the distribution of ratings among users, and to identify users who have made the most or the fewest ratings.\n",
        "user_counts = df1[\"user_id\"].value_counts()\n",
        "user_counts"
      ],
      "metadata": {
        "execution": {
          "iopub.status.busy": "2023-03-01T08:58:45.517081Z",
          "iopub.execute_input": "2023-03-01T08:58:45.519699Z",
          "iopub.status.idle": "2023-03-01T08:58:45.582264Z",
          "shell.execute_reply.started": "2023-03-01T08:58:45.519663Z",
          "shell.execute_reply": "2023-03-01T08:58:45.581023Z"
        },
        "trusted": true,
        "id": "0y_LOYcsA2v4"
      },
      "execution_count": null,
      "outputs": []
    },
    {
      "cell_type": "code",
      "source": [
        "#The resulting active_users list can be used to filter the DataFrame df1 to include only the ratings or interactions made by the active users\n",
        "active_users = user_counts.loc[user_counts >= 40].index.tolist()\n",
        "active_users"
      ],
      "metadata": {
        "execution": {
          "iopub.status.busy": "2023-03-01T08:58:45.583516Z",
          "iopub.execute_input": "2023-03-01T08:58:45.583744Z",
          "iopub.status.idle": "2023-03-01T08:58:45.606844Z",
          "shell.execute_reply.started": "2023-03-01T08:58:45.583720Z",
          "shell.execute_reply": "2023-03-01T08:58:45.605359Z"
        },
        "collapsed": true,
        "jupyter": {
          "outputs_hidden": true
        },
        "trusted": true,
        "id": "vBCsfp1nA2v4"
      },
      "execution_count": null,
      "outputs": []
    },
    {
      "cell_type": "markdown",
      "source": [
        "negative and positive  words"
      ],
      "metadata": {
        "id": "Z7_8wnHhA2v4"
      }
    },
    {
      "cell_type": "code",
      "source": [
        "negative_type_words = ' '.join([text for text in df1['review'][ (df1['rating']==1) | (df1['rating']==2) ] ] )\n",
        "positive_type_words = ' '.join([text for text in df1['review'][ (df1['rating']==4) | (df1['rating']==5) ] ] )"
      ],
      "metadata": {
        "execution": {
          "iopub.status.busy": "2023-03-01T08:58:45.608468Z",
          "iopub.execute_input": "2023-03-01T08:58:45.608847Z",
          "iopub.status.idle": "2023-03-01T08:58:46.277125Z",
          "shell.execute_reply.started": "2023-03-01T08:58:45.608809Z",
          "shell.execute_reply": "2023-03-01T08:58:46.276301Z"
        },
        "trusted": true,
        "id": "Nvulll5IA2v6"
      },
      "execution_count": null,
      "outputs": []
    },
    {
      "cell_type": "code",
      "source": [
        "punctuation_marks = set(string.punctuation)"
      ],
      "metadata": {
        "execution": {
          "iopub.status.busy": "2023-03-01T08:58:46.278534Z",
          "iopub.execute_input": "2023-03-01T08:58:46.278966Z",
          "iopub.status.idle": "2023-03-01T08:58:46.285370Z",
          "shell.execute_reply.started": "2023-03-01T08:58:46.278927Z",
          "shell.execute_reply": "2023-03-01T08:58:46.283807Z"
        },
        "trusted": true,
        "id": "1kJaGajuA2v6"
      },
      "execution_count": null,
      "outputs": []
    },
    {
      "cell_type": "code",
      "source": [
        "positive_type_words = ''.join([char for char in positive_type_words if char not in punctuation_marks])\n",
        "negative_type_words = ''.join([char for char in negative_type_words if char not in punctuation_marks])"
      ],
      "metadata": {
        "execution": {
          "iopub.status.busy": "2023-03-01T08:58:46.287459Z",
          "iopub.execute_input": "2023-03-01T08:58:46.287892Z",
          "iopub.status.idle": "2023-03-01T08:59:12.463171Z",
          "shell.execute_reply.started": "2023-03-01T08:58:46.287855Z",
          "shell.execute_reply": "2023-03-01T08:59:12.461732Z"
        },
        "trusted": true,
        "id": "ybOgzmTWA2v7"
      },
      "execution_count": null,
      "outputs": []
    },
    {
      "cell_type": "code",
      "source": [
        "import re\n",
        "positive_type_words = re.sub(r'\\d+', '', positive_type_words)\n",
        "negative_type_words = re.sub(r'\\d+', '', negative_type_words)"
      ],
      "metadata": {
        "execution": {
          "iopub.status.busy": "2023-03-01T08:59:12.467838Z",
          "iopub.execute_input": "2023-03-01T08:59:12.468222Z",
          "iopub.status.idle": "2023-03-01T08:59:18.636244Z",
          "shell.execute_reply.started": "2023-03-01T08:59:12.468188Z",
          "shell.execute_reply": "2023-03-01T08:59:18.635121Z"
        },
        "trusted": true,
        "id": "aVMKfWGlA2v7"
      },
      "execution_count": null,
      "outputs": []
    },
    {
      "cell_type": "code",
      "source": [
        "negative_type_words = negative_type_words.replace(\"[^a-zA-Z]\",\" \")\n",
        "positive_type_words = positive_type_words.replace(\"[^a-zA-Z]\",\" \")"
      ],
      "metadata": {
        "execution": {
          "iopub.status.busy": "2023-03-01T08:59:18.637389Z",
          "iopub.execute_input": "2023-03-01T08:59:18.638189Z",
          "iopub.status.idle": "2023-03-01T08:59:18.698158Z",
          "shell.execute_reply.started": "2023-03-01T08:59:18.638155Z",
          "shell.execute_reply": "2023-03-01T08:59:18.696948Z"
        },
        "trusted": true,
        "id": "GwADgsPxA2v7"
      },
      "execution_count": null,
      "outputs": []
    },
    {
      "cell_type": "code",
      "source": [
        "positive_type_words = positive_type_words.split()\n",
        "negative_type_words = negative_type_words.split()"
      ],
      "metadata": {
        "execution": {
          "iopub.status.busy": "2023-03-01T08:59:18.699212Z",
          "iopub.execute_input": "2023-03-01T08:59:18.699520Z",
          "iopub.status.idle": "2023-03-01T08:59:21.933020Z",
          "shell.execute_reply.started": "2023-03-01T08:59:18.699488Z",
          "shell.execute_reply": "2023-03-01T08:59:21.931103Z"
        },
        "trusted": true,
        "id": "KTi6ZQ42A2v8"
      },
      "execution_count": null,
      "outputs": []
    },
    {
      "cell_type": "code",
      "source": [
        "positive_type_words = list(set(positive_type_words))\n",
        "negative_type_words = list(set(negative_type_words))"
      ],
      "metadata": {
        "execution": {
          "iopub.status.busy": "2023-03-01T08:59:21.934646Z",
          "iopub.execute_input": "2023-03-01T08:59:21.935049Z",
          "iopub.status.idle": "2023-03-01T08:59:26.182568Z",
          "shell.execute_reply.started": "2023-03-01T08:59:21.935000Z",
          "shell.execute_reply": "2023-03-01T08:59:26.181096Z"
        },
        "trusted": true,
        "id": "591KnCB_A2v8"
      },
      "execution_count": null,
      "outputs": []
    },
    {
      "cell_type": "code",
      "source": [
        "len(positive_type_words)"
      ],
      "metadata": {
        "execution": {
          "iopub.status.busy": "2023-03-01T08:59:26.184397Z",
          "iopub.execute_input": "2023-03-01T08:59:26.184862Z",
          "iopub.status.idle": "2023-03-01T08:59:26.195520Z",
          "shell.execute_reply.started": "2023-03-01T08:59:26.184818Z",
          "shell.execute_reply": "2023-03-01T08:59:26.194122Z"
        },
        "trusted": true,
        "id": "xWGW1oUaA2v8"
      },
      "execution_count": null,
      "outputs": []
    },
    {
      "cell_type": "code",
      "source": [
        "len(negative_type_words)"
      ],
      "metadata": {
        "execution": {
          "iopub.status.busy": "2023-03-01T08:59:26.197433Z",
          "iopub.execute_input": "2023-03-01T08:59:26.197823Z",
          "iopub.status.idle": "2023-03-01T08:59:26.207394Z",
          "shell.execute_reply.started": "2023-03-01T08:59:26.197781Z",
          "shell.execute_reply": "2023-03-01T08:59:26.206563Z"
        },
        "trusted": true,
        "id": "BrIQJwymA2v9"
      },
      "execution_count": null,
      "outputs": []
    },
    {
      "cell_type": "code",
      "source": [
        "positive_type_words"
      ],
      "metadata": {
        "execution": {
          "iopub.status.busy": "2023-03-01T08:59:26.208756Z",
          "iopub.execute_input": "2023-03-01T08:59:26.209326Z",
          "iopub.status.idle": "2023-03-01T08:59:26.254745Z",
          "shell.execute_reply.started": "2023-03-01T08:59:26.209265Z",
          "shell.execute_reply": "2023-03-01T08:59:26.252838Z"
        },
        "collapsed": true,
        "jupyter": {
          "outputs_hidden": true
        },
        "trusted": true,
        "id": "W1DqT6c8A2v9"
      },
      "execution_count": null,
      "outputs": []
    },
    {
      "cell_type": "code",
      "source": [
        "stopwords = stopwords.words('english')\n",
        "positive_type_words = [word for word in positive_type_words if word not in stopwords]"
      ],
      "metadata": {
        "execution": {
          "iopub.status.busy": "2023-03-01T08:59:26.256709Z",
          "iopub.execute_input": "2023-03-01T08:59:26.257076Z",
          "iopub.status.idle": "2023-03-01T08:59:27.170589Z",
          "shell.execute_reply.started": "2023-03-01T08:59:26.257035Z",
          "shell.execute_reply": "2023-03-01T08:59:27.169455Z"
        },
        "trusted": true,
        "id": "79kQ6do1A2v9"
      },
      "execution_count": null,
      "outputs": []
    },
    {
      "cell_type": "code",
      "source": [
        "len(positive_type_words)"
      ],
      "metadata": {
        "execution": {
          "iopub.status.busy": "2023-03-01T08:59:27.172483Z",
          "iopub.execute_input": "2023-03-01T08:59:27.173108Z",
          "iopub.status.idle": "2023-03-01T08:59:27.178809Z",
          "shell.execute_reply.started": "2023-03-01T08:59:27.173072Z",
          "shell.execute_reply": "2023-03-01T08:59:27.177796Z"
        },
        "trusted": true,
        "id": "CnVseq1kA2v-"
      },
      "execution_count": null,
      "outputs": []
    },
    {
      "cell_type": "markdown",
      "source": [
        "replacing 0 ratings with proper rating"
      ],
      "metadata": {
        "id": "VNEMyj6hA2v-"
      }
    },
    {
      "cell_type": "code",
      "source": [
        "df = df1[(df1.user_id.isin(active_users))]\n",
        "df"
      ],
      "metadata": {
        "execution": {
          "iopub.status.busy": "2023-03-01T08:59:27.180070Z",
          "iopub.execute_input": "2023-03-01T08:59:27.180418Z",
          "iopub.status.idle": "2023-03-01T08:59:27.276206Z",
          "shell.execute_reply.started": "2023-03-01T08:59:27.180390Z",
          "shell.execute_reply": "2023-03-01T08:59:27.274776Z"
        },
        "trusted": true,
        "id": "dpi5JjsFA2v-"
      },
      "execution_count": null,
      "outputs": []
    },
    {
      "cell_type": "code",
      "source": [
        "df2 = df[df.rating==0]\n",
        "df2"
      ],
      "metadata": {
        "execution": {
          "iopub.status.busy": "2023-03-01T08:59:27.277690Z",
          "iopub.execute_input": "2023-03-01T08:59:27.278523Z",
          "iopub.status.idle": "2023-03-01T08:59:27.302751Z",
          "shell.execute_reply.started": "2023-03-01T08:59:27.278463Z",
          "shell.execute_reply": "2023-03-01T08:59:27.301075Z"
        },
        "trusted": true,
        "id": "w3giY8nBA2v-"
      },
      "execution_count": null,
      "outputs": []
    },
    {
      "cell_type": "code",
      "source": [
        "def count_pos_words(text):\n",
        "    pos_count = sum([text.lower().count(word) for word in positive_type_words])\n",
        "    return pos_count"
      ],
      "metadata": {
        "execution": {
          "iopub.status.busy": "2023-03-01T08:59:27.304415Z",
          "iopub.execute_input": "2023-03-01T08:59:27.304770Z",
          "iopub.status.idle": "2023-03-01T08:59:27.311887Z",
          "shell.execute_reply.started": "2023-03-01T08:59:27.304735Z",
          "shell.execute_reply": "2023-03-01T08:59:27.310217Z"
        },
        "trusted": true,
        "id": "_81N6LHXA2v_"
      },
      "execution_count": null,
      "outputs": []
    },
    {
      "cell_type": "code",
      "source": [
        "df2['pos_count'] = df2['review'].apply(count_pos_words)"
      ],
      "metadata": {
        "execution": {
          "iopub.status.busy": "2023-03-01T08:59:27.313807Z",
          "iopub.execute_input": "2023-03-01T08:59:27.314175Z",
          "iopub.status.idle": "2023-03-01T09:58:11.564003Z",
          "shell.execute_reply.started": "2023-03-01T08:59:27.314143Z",
          "shell.execute_reply": "2023-03-01T09:58:11.561373Z"
        },
        "collapsed": true,
        "jupyter": {
          "outputs_hidden": true
        },
        "trusted": true,
        "id": "JyUd_RP5A2v_"
      },
      "execution_count": null,
      "outputs": []
    },
    {
      "cell_type": "code",
      "source": [
        "def count_neg_words(text):\n",
        "    neg_count = sum([text.lower().count(word) for word in negative_type_words])\n",
        "    return neg_count"
      ],
      "metadata": {
        "execution": {
          "iopub.status.busy": "2023-03-01T09:58:11.568476Z",
          "iopub.execute_input": "2023-03-01T09:58:11.568993Z",
          "iopub.status.idle": "2023-03-01T09:58:11.580765Z",
          "shell.execute_reply.started": "2023-03-01T09:58:11.568929Z",
          "shell.execute_reply": "2023-03-01T09:58:11.579210Z"
        },
        "trusted": true,
        "id": "nwnt1CNdA2v_"
      },
      "execution_count": null,
      "outputs": []
    },
    {
      "cell_type": "code",
      "source": [
        "df2['neg_count'] = df2['review'].apply(count_neg_words)"
      ],
      "metadata": {
        "execution": {
          "iopub.status.busy": "2023-03-01T09:58:11.582718Z",
          "iopub.execute_input": "2023-03-01T09:58:11.583021Z",
          "iopub.status.idle": "2023-03-01T10:03:19.241028Z",
          "shell.execute_reply.started": "2023-03-01T09:58:11.582989Z",
          "shell.execute_reply": "2023-03-01T10:03:19.239414Z"
        },
        "collapsed": true,
        "jupyter": {
          "outputs_hidden": true
        },
        "trusted": true,
        "id": "XJPD9b6WA2v_"
      },
      "execution_count": null,
      "outputs": []
    },
    {
      "cell_type": "code",
      "source": [
        "df2"
      ],
      "metadata": {
        "execution": {
          "iopub.status.busy": "2023-03-01T10:03:19.243734Z",
          "iopub.execute_input": "2023-03-01T10:03:19.244167Z",
          "iopub.status.idle": "2023-03-01T10:03:19.269944Z",
          "shell.execute_reply.started": "2023-03-01T10:03:19.244122Z",
          "shell.execute_reply": "2023-03-01T10:03:19.268782Z"
        },
        "trusted": true,
        "id": "MUTV28LiA2wA"
      },
      "execution_count": null,
      "outputs": []
    },
    {
      "cell_type": "code",
      "source": [
        "for i in range(0,12585):\n",
        "    if df2.iloc[i,5] == df2.iloc[i,6]:\n",
        "        df2.iloc[i,3] = 3\n",
        "    elif df2.iloc[i,5] > df2.iloc[i,6]:\n",
        "        df2.iloc[i,3] = 4\n",
        "    else :\n",
        "        df2.iloc[i,3] = 2"
      ],
      "metadata": {
        "execution": {
          "iopub.status.busy": "2023-03-01T10:03:19.271354Z",
          "iopub.execute_input": "2023-03-01T10:03:19.271905Z",
          "iopub.status.idle": "2023-03-01T10:03:23.276196Z",
          "shell.execute_reply.started": "2023-03-01T10:03:19.271869Z",
          "shell.execute_reply": "2023-03-01T10:03:23.274475Z"
        },
        "collapsed": true,
        "jupyter": {
          "outputs_hidden": true
        },
        "trusted": true,
        "id": "kIrziHO8A2wA"
      },
      "execution_count": null,
      "outputs": []
    },
    {
      "cell_type": "code",
      "source": [
        "df2"
      ],
      "metadata": {
        "execution": {
          "iopub.status.busy": "2023-03-01T10:03:23.277954Z",
          "iopub.execute_input": "2023-03-01T10:03:23.278395Z",
          "iopub.status.idle": "2023-03-01T10:03:23.294429Z",
          "shell.execute_reply.started": "2023-03-01T10:03:23.278351Z",
          "shell.execute_reply": "2023-03-01T10:03:23.293724Z"
        },
        "trusted": true,
        "id": "Z-1g9Y8FA2wA"
      },
      "execution_count": null,
      "outputs": []
    },
    {
      "cell_type": "code",
      "source": [
        "df2 = df2.drop(columns=['pos_count','neg_count'])"
      ],
      "metadata": {
        "execution": {
          "iopub.status.busy": "2023-03-01T10:06:19.330254Z",
          "iopub.execute_input": "2023-03-01T10:06:19.330682Z",
          "iopub.status.idle": "2023-03-01T10:06:19.338735Z",
          "shell.execute_reply.started": "2023-03-01T10:06:19.330642Z",
          "shell.execute_reply": "2023-03-01T10:06:19.337725Z"
        },
        "trusted": true,
        "id": "oxcfXl90A2wA"
      },
      "execution_count": null,
      "outputs": []
    },
    {
      "cell_type": "code",
      "source": [
        "df2"
      ],
      "metadata": {
        "execution": {
          "iopub.status.busy": "2023-03-01T10:06:26.785342Z",
          "iopub.execute_input": "2023-03-01T10:06:26.785803Z",
          "iopub.status.idle": "2023-03-01T10:06:26.806721Z",
          "shell.execute_reply.started": "2023-03-01T10:06:26.785743Z",
          "shell.execute_reply": "2023-03-01T10:06:26.805816Z"
        },
        "trusted": true,
        "id": "nKbjHWEWA2wB"
      },
      "execution_count": null,
      "outputs": []
    },
    {
      "cell_type": "code",
      "source": [
        "df2.to_pickle('0-changed_rating.pkl')"
      ],
      "metadata": {
        "execution": {
          "iopub.status.busy": "2023-03-01T10:06:30.998970Z",
          "iopub.execute_input": "2023-03-01T10:06:30.999335Z",
          "iopub.status.idle": "2023-03-01T10:06:31.020661Z",
          "shell.execute_reply.started": "2023-03-01T10:06:30.999305Z",
          "shell.execute_reply": "2023-03-01T10:06:31.019360Z"
        },
        "trusted": true,
        "id": "XQrw7xZVA2wB"
      },
      "execution_count": null,
      "outputs": []
    },
    {
      "cell_type": "code",
      "source": [
        "df = df[df.rating!=0]"
      ],
      "metadata": {
        "execution": {
          "iopub.status.busy": "2023-03-01T10:06:31.927694Z",
          "iopub.execute_input": "2023-03-01T10:06:31.928103Z",
          "iopub.status.idle": "2023-03-01T10:06:31.961927Z",
          "shell.execute_reply.started": "2023-03-01T10:06:31.928069Z",
          "shell.execute_reply": "2023-03-01T10:06:31.960558Z"
        },
        "trusted": true,
        "id": "H6tzurmeA2wB"
      },
      "execution_count": null,
      "outputs": []
    },
    {
      "cell_type": "code",
      "source": [
        "df"
      ],
      "metadata": {
        "execution": {
          "iopub.status.busy": "2023-03-01T10:06:35.132559Z",
          "iopub.execute_input": "2023-03-01T10:06:35.133000Z",
          "iopub.status.idle": "2023-03-01T10:06:35.149942Z",
          "shell.execute_reply.started": "2023-03-01T10:06:35.132960Z",
          "shell.execute_reply": "2023-03-01T10:06:35.148444Z"
        },
        "trusted": true,
        "id": "k4zEY_mAA2wB"
      },
      "execution_count": null,
      "outputs": []
    },
    {
      "cell_type": "code",
      "source": [
        "frames = [df, df2]\n",
        "result = pd.concat(frames)"
      ],
      "metadata": {
        "execution": {
          "iopub.status.busy": "2023-03-01T10:06:35.655072Z",
          "iopub.execute_input": "2023-03-01T10:06:35.655645Z",
          "iopub.status.idle": "2023-03-01T10:06:35.706015Z",
          "shell.execute_reply.started": "2023-03-01T10:06:35.655614Z",
          "shell.execute_reply": "2023-03-01T10:06:35.704754Z"
        },
        "trusted": true,
        "id": "1HBfZGC-A2wB"
      },
      "execution_count": null,
      "outputs": []
    },
    {
      "cell_type": "code",
      "source": [
        "result"
      ],
      "metadata": {
        "execution": {
          "iopub.status.busy": "2023-03-01T10:06:38.760167Z",
          "iopub.execute_input": "2023-03-01T10:06:38.761567Z",
          "iopub.status.idle": "2023-03-01T10:06:38.775460Z",
          "shell.execute_reply.started": "2023-03-01T10:06:38.761497Z",
          "shell.execute_reply": "2023-03-01T10:06:38.773690Z"
        },
        "trusted": true,
        "id": "bCwTI9ODA2wC"
      },
      "execution_count": null,
      "outputs": []
    },
    {
      "cell_type": "code",
      "source": [
        "result.to_pickle('final_data_to_work.pkl')"
      ],
      "metadata": {
        "execution": {
          "iopub.status.busy": "2023-03-01T10:06:42.257829Z",
          "iopub.execute_input": "2023-03-01T10:06:42.258226Z",
          "iopub.status.idle": "2023-03-01T10:06:42.825964Z",
          "shell.execute_reply.started": "2023-03-01T10:06:42.258189Z",
          "shell.execute_reply": "2023-03-01T10:06:42.824822Z"
        },
        "trusted": true,
        "id": "nXlm95PYA2wC"
      },
      "execution_count": null,
      "outputs": []
    },
    {
      "cell_type": "code",
      "source": [
        "result"
      ],
      "metadata": {
        "execution": {
          "iopub.status.busy": "2023-03-01T10:06:43.449038Z",
          "iopub.execute_input": "2023-03-01T10:06:43.449464Z",
          "iopub.status.idle": "2023-03-01T10:06:43.465590Z",
          "shell.execute_reply.started": "2023-03-01T10:06:43.449427Z",
          "shell.execute_reply": "2023-03-01T10:06:43.464334Z"
        },
        "trusted": true,
        "id": "Gg8HDdrGA2wC"
      },
      "execution_count": null,
      "outputs": []
    },
    {
      "cell_type": "code",
      "source": [],
      "metadata": {
        "id": "NH9et9eDA2wC"
      },
      "execution_count": null,
      "outputs": []
    },
    {
      "cell_type": "code",
      "source": [],
      "metadata": {
        "id": "aYrhxjvbA2wC"
      },
      "execution_count": null,
      "outputs": []
    }
  ]
}